{
 "cells": [
  {
   "cell_type": "code",
   "execution_count": 3,
   "id": "730628ce",
   "metadata": {},
   "outputs": [],
   "source": [
    "# advance neuro project"
   ]
  },
  {
   "cell_type": "code",
   "execution_count": 1,
   "id": "2f3127b0",
   "metadata": {},
   "outputs": [],
   "source": [
    "import numpy as np\n",
    "import matplotlib.pyplot as plt\n",
    "import math"
   ]
  },
  {
   "cell_type": "code",
   "execution_count": 6,
   "id": "c57b4556",
   "metadata": {},
   "outputs": [
    {
     "data": {
      "text/plain": [
       "[<matplotlib.lines.Line2D at 0x1c14317dd30>]"
      ]
     },
     "execution_count": 6,
     "metadata": {},
     "output_type": "execute_result"
    },
    {
     "data": {
      "image/png": "[encoded data removed]",
      "text/plain": [
       "<Figure size 360x360 with 1 Axes>"
      ]
     },
     "metadata": {
      "needs_background": "light"
     },
     "output_type": "display_data"
    }
   ],
   "source": [
    "### network parameters - open loop 2 layer network - first condition - auto correlated \n",
    "\n",
    "mu = 0\n",
    "sigma = 1\n",
    "LR = 0.002\n",
    "\n",
    "input_layer_size = 20\n",
    "hidden_layer1_size = 100\n",
    "hidden_layer2_size = 20\n",
    "\n",
    "forward_weight_0 = np.random.normal(mu, sigma, size=(input_layer_size,hidden_layer1_size))\n",
    "forward_weight_1 = np.random.normal(mu, sigma, size=(hidden_layer1_size,hidden_layer2_size))\n",
    "\n",
    "# here, the network is open loop and the delta2 is created randomly and kept constant during itertions\n",
    "backward_weight_1 = np.random.normal(mu, sigma, size=(hidden_layer2_size,hidden_layer1_size))\n",
    "\n",
    "# input layer values\n",
    "\n",
    "input_layer = np.random.normal(mu, sigma, input_layer_size) # initial value of inputs - constant during iterations\n",
    "input_layer = input_layer.reshape(1, len(input_layer))\n",
    "error_delta2 = np.random.normal(mu, sigma, hidden_layer2_size) # initial value of error_delta 2 - constant during iterations\n",
    "error_delta2 = error_delta2.reshape(1, len(error_delta2))\n",
    "error_delta1 = np.matmul(error_delta2, backward_weight_1) # initial value of error_delta1 - constant during iterations since\n",
    "# delta 2 doesn't change\n",
    "\n",
    "# updating the network parameters\n",
    "number_of_iterations = 2000\n",
    "angles1 = np.zeros((number_of_iterations))\n",
    "\n",
    "for i in range (number_of_iterations):\n",
    "    hidden_layer_1 = np.matmul(forward_weight_0.T, input_layer.T).T\n",
    "    delta1 = error_delta1\n",
    "    forward_weight_0 += LR*np.matmul(input_layer.T,delta1)\n",
    "    delta2 = error_delta2\n",
    "    forward_weight_1 += LR*np.matmul(hidden_layer_1.T,delta2)\n",
    "    angles1[i] = angleCal(forward_weight_1, backward_weight_1.T)\n",
    "    \n",
    "fig, ax = plt.subplots(1,1,figsize=(5,5))\n",
    "ax.plot(np.arange(1,number_of_iterations+1),angles1)\n"
   ]
  },
  {
   "cell_type": "code",
   "execution_count": null,
   "id": "47329e21",
   "metadata": {},
   "outputs": [],
   "source": []
  },
  {
   "cell_type": "code",
   "execution_count": 153,
   "id": "4b8886a0",
   "metadata": {},
   "outputs": [],
   "source": [
    "def ReLU(x):\n",
    "    output = np.zeros((x.shape[1]))\n",
    "    x = np.squeeze(x)\n",
    "    for i in range (output.shape[0]):\n",
    "        if(x[i] <= 0):\n",
    "            output[i] = 0\n",
    "        else:\n",
    "            output[i] = x[i]\n",
    "    output = output.reshape(1, len(output))\n",
    "    return output"
   ]
  },
  {
   "cell_type": "code",
   "execution_count": 154,
   "id": "dbc2a270",
   "metadata": {},
   "outputs": [],
   "source": [
    "def ReLU_deriv(x):\n",
    "    output = np.zeros(x.shape[1])\n",
    "    x = np.squeeze(x)\n",
    "    for i in range (output.shape[0]):\n",
    "        if(x[i] <= 0):\n",
    "            output[i] = 0\n",
    "        else:\n",
    "            output[i] = 1\n",
    "    output = output.reshape(1, len(output))\n",
    "    return output"
   ]
  },
  {
   "cell_type": "code",
   "execution_count": 4,
   "id": "d6c45f08",
   "metadata": {},
   "outputs": [],
   "source": [
    "def angleCal(A, B):\n",
    "    num = np.trace(np.matmul(np.conjugate(A.T), B))\n",
    "    norm_A = math.sqrt(np.trace(np.matmul(A,np.conjugate(A.T))))\n",
    "    norm_B = math.sqrt(np.trace(np.matmul(B,np.conjugate(B.T))))\n",
    "    denum = norm_A*norm_B\n",
    "    angle = np.arccos(num/denum)*180/math.pi\n",
    "    return angle"
   ]
  },
  {
   "cell_type": "code",
   "execution_count": 166,
   "id": "dc0dc288",
   "metadata": {},
   "outputs": [
    {
     "data": {
      "text/plain": [
       "[<matplotlib.lines.Line2D at 0x1ec632a76d0>]"
      ]
     },
     "execution_count": 166,
     "metadata": {},
     "output_type": "execute_result"
    },
    {
     "data": {
      "image/png": "[encoded data removed]",
      "text/plain": [
       "<Figure size 360x360 with 1 Axes>"
      ]
     },
     "metadata": {
      "needs_background": "light"
     },
     "output_type": "display_data"
    }
   ],
   "source": []
  }
 ],
 "metadata": {
  "kernelspec": {
   "display_name": "Python 3",
   "language": "python",
   "name": "python3"
  },
  "language_info": {
   "codemirror_mode": {
    "name": "ipython",
    "version": 3
   },
   "file_extension": ".py",
   "mimetype": "text/x-python",
   "name": "python",
   "nbconvert_exporter": "python",
   "pygments_lexer": "ipython3",
   "version": "3.8.8"
  }
 },
 "nbformat": 4,
 "nbformat_minor": 5
}
