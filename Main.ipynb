{
 "cells": [
  {
   "cell_type": "code",
   "execution_count": 3,
   "id": "730628ce",
   "metadata": {},
   "outputs": [],
   "source": [
    "# advance neuro project"
   ]
  },
  {
   "cell_type": "code",
   "execution_count": 12,
   "id": "2f3127b0",
   "metadata": {},
   "outputs": [],
   "source": [
    "import numpy as np\n",
    "import matplotlib.pyplot as plt\n",
    "import math"
   ]
  },
  {
   "cell_type": "code",
   "execution_count": 20,
   "id": "a3d37501",
   "metadata": {},
   "outputs": [],
   "source": [
    "# network parameters - open loop 2 layer network\n",
    "\n",
    "mu = 0;\n",
    "sigma = 1;\n",
    "\n",
    "input_layer_size = 20;\n",
    "hidden_layer1_size = 100;\n",
    "hidden_layer2_size = 20;\n",
    "output_layer_size = 100;\n",
    "\n",
    "forward_weight_1 = np.random.normal(mu, sigma, size=(input_layer_size,hidden_layer1_size))\n",
    "forward_weight_2 = np.random.normal(mu, sigma, size=(hidden_layer1_size,hidden_layer2_size))\n",
    "forward_weight_3 = np.random.normal(mu, sigma, size=(hidden_layer2_size,output_layer_size))\n",
    "\n",
    "# here, the network is open loop and the delta2 is created randomly and kept constant during itertions\n",
    "backward_weight_1 = np.random.normal(mu, sigma, size=(hidden_layer2_size,hidden_layer1_size))\n"
   ]
  },
  {
   "cell_type": "code",
   "execution_count": 21,
   "id": "45b72bcc",
   "metadata": {},
   "outputs": [
    {
     "name": "stdout",
     "output_type": "stream",
     "text": [
      "(20, 100)\n"
     ]
    }
   ],
   "source": [
    "# first condition - auto correlated \n",
    "# input layer values\n",
    "\n",
    "input_layer = np.random.normal(mu, sigma, input_layer_size)\n",
    "error_delta2 = np.random.normal(mu, sigma, output_layer_size)\n",
    "error_delta1 = backward_weight_1"
   ]
  }
 ],
 "metadata": {
  "kernelspec": {
   "display_name": "Python 3",
   "language": "python",
   "name": "python3"
  },
  "language_info": {
   "codemirror_mode": {
    "name": "ipython",
    "version": 3
   },
   "file_extension": ".py",
   "mimetype": "text/x-python",
   "name": "python",
   "nbconvert_exporter": "python",
   "pygments_lexer": "ipython3",
   "version": "3.8.8"
  }
 },
 "nbformat": 4,
 "nbformat_minor": 5
}
