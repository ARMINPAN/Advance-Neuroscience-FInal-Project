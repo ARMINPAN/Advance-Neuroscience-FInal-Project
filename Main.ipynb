{
 "cells": [
  {
   "cell_type": "code",
   "execution_count": 3,
   "id": "730628ce",
   "metadata": {},
   "outputs": [],
   "source": [
    "# advance neuro project"
   ]
  },
  {
   "cell_type": "code",
   "execution_count": 1,
   "id": "2f3127b0",
   "metadata": {},
   "outputs": [],
   "source": [
    "import numpy as np\n",
    "import matplotlib.pyplot as plt\n",
    "import math"
   ]
  },
  {
   "cell_type": "code",
   "execution_count": 37,
   "id": "6cd7502c",
   "metadata": {},
   "outputs": [],
   "source": [
    "def ReLU(x):\n",
    "    zeros_mat = np.zeros(x.shape)\n",
    "    output = np.fmax(x,zeros_mat)\n",
    "    return output"
   ]
  },
  {
   "cell_type": "code",
   "execution_count": 39,
   "id": "ebfbddae",
   "metadata": {},
   "outputs": [],
   "source": [
    "def ReLU_deriv(x):\n",
    "    non_negs = np.where(x >= 0)\n",
    "    output = np.zeros(x.shape)\n",
    "    output[non_negs] = 1\n",
    "    return output"
   ]
  },
  {
   "cell_type": "code",
   "execution_count": 6,
   "id": "6d595a89",
   "metadata": {},
   "outputs": [],
   "source": [
    "def angleCal(A, B):\n",
    "    num = np.trace(np.matmul(np.conjugate(A.T), B))\n",
    "    norm_A = math.sqrt(np.trace(np.matmul(A,np.conjugate(A.T))))\n",
    "    norm_B = math.sqrt(np.trace(np.matmul(B,np.conjugate(B.T))))\n",
    "    denum = norm_A*norm_B\n",
    "    angle = np.arccos(num/denum)*180/math.pi\n",
    "    return angle"
   ]
  },
  {
   "cell_type": "code",
   "execution_count": null,
   "id": "fb425f3c",
   "metadata": {},
   "outputs": [],
   "source": [
    "def n_hot_coder(x,n):\n",
    "    \n",
    "    return"
   ]
  },
  {
   "cell_type": "code",
   "execution_count": 134,
   "id": "03a43cdd",
   "metadata": {},
   "outputs": [
    {
     "name": "stdout",
     "output_type": "stream",
     "text": [
      "simulation finished, please run the next section for the result\n"
     ]
    }
   ],
   "source": [
    "#### network parameters - open loop 2 layer network - first condition - auto correlated \n",
    "\n",
    "mu = 0\n",
    "sigma = 1\n",
    "LR = 0.002\n",
    "n_b = 100 # batch size\n",
    "number_of_iterations = 2000\n",
    "\n",
    "\n",
    "input_layer_size = 20\n",
    "hidden_layer1_size = 100\n",
    "output_layer_size = 20\n",
    "\n",
    "forward_weight_0 = np.random.normal(mu, sigma, size=(input_layer_size,hidden_layer1_size))\n",
    "forward_weight_1 = np.random.normal(mu, sigma, size=(hidden_layer1_size,output_layer_size))\n",
    "\n",
    "# here, the network is open loop and the delta2 is created randomly and kept constant during itertions\n",
    "backward_weight_1 = np.random.normal(mu, sigma, size=(output_layer_size,hidden_layer1_size))\n",
    "\n",
    "# input layer values\n",
    "input_layer = np.random.normal(mu, sigma, size=(n_b, input_layer_size)) # initial value of inputs - constant during iterations\n",
    "error_delta2 = np.random.normal(mu, sigma, size=(n_b, output_layer_size)) # initial value of error_delta 2 - constant during iterations\n",
    "error_delta1 = np.matmul(error_delta2, backward_weight_1) # initial value of error_delta1 - constant during iterations since\n",
    "# delta 2 doesn't change\n",
    "\n",
    "# updating the network parameters\n",
    "rep = 10\n",
    "angles1 = np.zeros((rep, number_of_iterations))\n",
    "\n",
    "for k in range (rep):\n",
    "    forward_weight_0 = np.random.normal(mu, sigma, size=(input_layer_size,hidden_layer1_size))\n",
    "    forward_weight_1 = np.random.normal(mu, sigma, size=(hidden_layer1_size,output_layer_size))\n",
    "    for j in range (number_of_iterations):\n",
    "        angles1[k,j] = angleCal(forward_weight_1, backward_weight_1.T)\n",
    "        Z1 = np.matmul(forward_weight_0.T, input_layer.T).T\n",
    "        hidden_layer_1 = ReLU(Z1)\n",
    "        delta1 = np.multiply(error_delta1,ReLU_deriv(Z1))\n",
    "        delta_w0 = LR*np.matmul(input_layer.T, delta1)\n",
    "        delta2 = error_delta2\n",
    "        delta_w1 = LR*np.matmul(hidden_layer_1.T, delta2)\n",
    "        forward_weight_0 += delta_w0\n",
    "        forward_weight_1 += delta_w1\n",
    "        \n",
    "print('simulation finished, please run the next section for the result')"
   ]
  },
  {
   "cell_type": "code",
   "execution_count": 135,
   "id": "2a5bfcc1",
   "metadata": {},
   "outputs": [
    {
     "data": {
      "image/png": "[encoded data removed]",
      "text/plain": [
       "<Figure size 360x360 with 1 Axes>"
      ]
     },
     "metadata": {
      "needs_background": "light"
     },
     "output_type": "display_data"
    }
   ],
   "source": [
    "## plot the result of auto correlated mode(prev part's result)\n",
    "\n",
    "    \n",
    "fig, ax = plt.subplots(1,1,figsize=(5,5));\n",
    "ax.plot(np.arange(1,number_of_iterations+1),np.mean(angles1,0));\n",
    "ax.set_ylim([0, 100]);\n",
    "ax.set_title('auto correlated');\n",
    "ax.set_ylabel('angle');\n",
    "ax.set_xlabel('iteration');\n",
    "ax.grid(True);\n",
    "\n",
    "# plot the condfidence interval over repeations\n",
    "ax.fill_between(np.arange(1,number_of_iterations+1),\\\n",
    "                np.mean(angles1,0)-np.std(angles1,axis=0), np.mean(angles1,0)+np.std(angles1,axis=0),\\\n",
    "                color='b', alpha=.1);\n"
   ]
  },
  {
   "cell_type": "code",
   "execution_count": 136,
   "id": "493dcc95",
   "metadata": {},
   "outputs": [
    {
     "name": "stdout",
     "output_type": "stream",
     "text": [
      "simulation finished, please run the next section for the result\n"
     ]
    }
   ],
   "source": [
    "#### network parameters - open loop 2 layer network - second condition - cross correlated \n",
    "\n",
    "mu = 0\n",
    "sigma = 1\n",
    "LR = 0.002\n",
    "n_b = 100 # batch size\n",
    "number_of_iterations = 2000\n",
    "\n",
    "\n",
    "input_layer_size = 20\n",
    "hidden_layer1_size = 100\n",
    "output_layer_size = 20\n",
    "\n",
    "forward_weight_0 = np.random.normal(mu, sigma, size=(input_layer_size,hidden_layer1_size))\n",
    "forward_weight_1 = np.random.normal(mu, sigma, size=(hidden_layer1_size,output_layer_size))\n",
    "\n",
    "# here, the network is open loop and the delta2 is created randomly and kept constant during itertions\n",
    "backward_weight_1 = np.random.normal(mu, sigma, size=(output_layer_size,hidden_layer1_size))\n",
    "\n",
    "# input layer values\n",
    "input_layer = np.random.normal(mu, sigma, size=(n_b, input_layer_size)) \n",
    "error_delta2 = input_layer # cross correlated with inputs of network\n",
    "error_delta1 = np.matmul(error_delta2, backward_weight_1) \n",
    "\n",
    "# updating the network parameters\n",
    "rep = 10\n",
    "angles2 = np.zeros((rep, number_of_iterations))\n",
    "\n",
    "for k in range (rep):\n",
    "    forward_weight_0 = np.random.normal(mu, sigma, size=(input_layer_size,hidden_layer1_size))\n",
    "    forward_weight_1 = np.random.normal(mu, sigma, size=(hidden_layer1_size,output_layer_size))\n",
    "    for j in range (number_of_iterations):\n",
    "        angles2[k,j] = angleCal(forward_weight_1, backward_weight_1.T)\n",
    "        Z1 = np.matmul(forward_weight_0.T, input_layer.T).T\n",
    "        hidden_layer_1 = ReLU(Z1)\n",
    "        delta1 = np.multiply(error_delta1,ReLU_deriv(Z1))\n",
    "        delta_w0 = LR*np.matmul(input_layer.T, delta1)\n",
    "        delta2 = error_delta2\n",
    "        delta_w1 = LR*np.matmul(hidden_layer_1.T, delta2)\n",
    "        forward_weight_0 += delta_w0\n",
    "        forward_weight_1 += delta_w1\n",
    "        # generate the parameters again\n",
    "        input_layer = np.random.normal(mu, sigma, size=(n_b, input_layer_size)) \n",
    "        error_delta2 = input_layer\n",
    "        error_delta1 = np.matmul(error_delta2, backward_weight_1) \n",
    "        \n",
    "print('simulation finished, please run the next section for the result')"
   ]
  },
  {
   "cell_type": "code",
   "execution_count": 137,
   "id": "98b1a322",
   "metadata": {},
   "outputs": [
    {
     "data": {
      "image/png": "[encoded data removed]",
      "text/plain": [
       "<Figure size 360x360 with 1 Axes>"
      ]
     },
     "metadata": {
      "needs_background": "light"
     },
     "output_type": "display_data"
    }
   ],
   "source": [
    "# plot the result of cross correlated mode(prev part's result)\n",
    "\n",
    "    \n",
    "fig, ax = plt.subplots(1,1,figsize=(5,5))\n",
    "ax.plot(np.arange(1,number_of_iterations+1),np.mean(angles2,0))\n",
    "ax.set_ylim([0, 100])\n",
    "ax.set_title('cross correlated')\n",
    "ax.set_ylabel('angle')\n",
    "ax.set_xlabel('iteration')\n",
    "ax.grid(True)\n",
    "\n",
    "# plot the condfidence interval over repeations\n",
    "ax.fill_between(np.arange(1,number_of_iterations+1),\\\n",
    "                np.mean(angles2,0)-np.std(angles2,axis=0), np.mean(angles2,0)+np.std(angles2,axis=0),\\\n",
    "                color='b', alpha=.1);\n"
   ]
  },
  {
   "cell_type": "code",
   "execution_count": 139,
   "id": "5b12e227",
   "metadata": {},
   "outputs": [
    {
     "name": "stdout",
     "output_type": "stream",
     "text": [
      "simulation finished, please run the next section for the result\n"
     ]
    }
   ],
   "source": [
    "#### network parameters - open loop 2 layer network - third condition - not auto correlated nor cross correlated\n",
    "\n",
    "mu = 0\n",
    "sigma = 1\n",
    "LR = 0.002\n",
    "n_b = 100 # batch size\n",
    "number_of_iterations = 2000\n",
    "\n",
    "\n",
    "input_layer_size = 20\n",
    "hidden_layer1_size = 100\n",
    "output_layer_size = 20\n",
    "\n",
    "forward_weight_0 = np.random.normal(mu, sigma, size=(input_layer_size,hidden_layer1_size))\n",
    "forward_weight_1 = np.random.normal(mu, sigma, size=(hidden_layer1_size,output_layer_size))\n",
    "\n",
    "# here, the network is open loop and the delta2 is created randomly and kept constant during itertions\n",
    "backward_weight_1 = np.random.normal(mu, sigma, size=(output_layer_size,hidden_layer1_size))\n",
    "\n",
    "# input layer values\n",
    "input_layer = np.random.normal(mu, sigma, size=(n_b, input_layer_size)) \n",
    "error_delta2 = np.random.normal(mu, sigma, size=(n_b, input_layer_size)) \n",
    "error_delta1 = np.matmul(error_delta2, backward_weight_1)\n",
    "\n",
    "# updating the network parameters\n",
    "rep = 10\n",
    "angles3 = np.zeros((rep, number_of_iterations))\n",
    "\n",
    "for k in range (rep):\n",
    "    forward_weight_0 = np.random.normal(mu, sigma, size=(input_layer_size,hidden_layer1_size))\n",
    "    forward_weight_1 = np.random.normal(mu, sigma, size=(hidden_layer1_size,output_layer_size))\n",
    "    for j in range (number_of_iterations):\n",
    "        angles3[k,j] = angleCal(forward_weight_1, backward_weight_1.T)\n",
    "        Z1 = np.matmul(forward_weight_0.T, input_layer.T).T\n",
    "        hidden_layer_1 = ReLU(Z1)\n",
    "        delta1 = np.multiply(error_delta1,ReLU_deriv(Z1))\n",
    "        delta_w0 = LR*np.matmul(input_layer.T, delta1)\n",
    "        delta2 = error_delta2\n",
    "        delta_w1 = LR*np.matmul(hidden_layer_1.T, delta2)\n",
    "        forward_weight_0 += delta_w0\n",
    "        forward_weight_1 += delta_w1\n",
    "        # generate the parameters again\n",
    "        input_layer = np.random.normal(mu, sigma, size=(n_b, input_layer_size)) \n",
    "        error_delta2 = np.random.normal(mu, sigma, size=(n_b, output_layer_size)) \n",
    "        error_delta1 = np.matmul(error_delta2, backward_weight_1) \n",
    "        \n",
    "print('simulation finished, please run the next section for the result')"
   ]
  },
  {
   "cell_type": "code",
   "execution_count": 140,
   "id": "4c92871a",
   "metadata": {},
   "outputs": [
    {
     "data": {
      "image/png": "[encoded data removed]",
      "text/plain": [
       "<Figure size 360x360 with 1 Axes>"
      ]
     },
     "metadata": {
      "needs_background": "light"
     },
     "output_type": "display_data"
    }
   ],
   "source": [
    "# plot the result of not auto correlated nor cross correlated mode(prev part's result)\n",
    "\n",
    "    \n",
    "fig, ax = plt.subplots(1,1,figsize=(5,5))\n",
    "ax.plot(np.arange(1,number_of_iterations+1),np.mean(angles3,0))\n",
    "ax.set_ylim([0, 100])\n",
    "ax.set_title('not auto correlated nor cross correlated')\n",
    "ax.set_ylabel('angle')\n",
    "ax.set_xlabel('iteration')\n",
    "ax.grid(True)\n",
    "\n",
    "# plot the condfidence interval over repeations\n",
    "ax.fill_between(np.arange(1,number_of_iterations+1),\\\n",
    "                np.mean(angles3,0)-np.std(angles3,axis=0), np.mean(angles3,0)+np.std(angles3,axis=0),\\\n",
    "                color='b', alpha=.1);\n"
   ]
  },
  {
   "cell_type": "code",
   "execution_count": 141,
   "id": "8ccfee14",
   "metadata": {},
   "outputs": [
    {
     "data": {
      "text/plain": [
       "<matplotlib.legend.Legend at 0x24102576160>"
      ]
     },
     "execution_count": 141,
     "metadata": {},
     "output_type": "execute_result"
    },
    {
     "data": {
      "image/png": "[encoded data removed]",
      "text/plain": [
       "<Figure size 360x360 with 1 Axes>"
      ]
     },
     "metadata": {
      "needs_background": "light"
     },
     "output_type": "display_data"
    }
   ],
   "source": [
    "# plot the result of all three conditions together\n",
    "\n",
    "    \n",
    "fig, ax = plt.subplots(1,1,figsize=(5,5))\n",
    "\n",
    "# condition 1\n",
    "ax.plot(np.arange(1,number_of_iterations+1),np.mean(angles1,0))\n",
    "ax.set_ylim([0, 100])\n",
    "ax.set_title('alignment plot')\n",
    "ax.set_ylabel('angle')\n",
    "ax.set_xlabel('iteration')\n",
    "ax.grid(True)\n",
    "# plot the condfidence1 interval over repeations\n",
    "ax.fill_between(np.arange(1,number_of_iterations+1),\\\n",
    "                np.mean(angles1,0)-np.std(angles1,axis=0), np.mean(angles1,0)+np.std(angles1,axis=0),\\\n",
    "                color='b', alpha=.1);\n",
    "\n",
    "# condition 2\n",
    "ax.plot(np.arange(1,number_of_iterations+1),np.mean(angles2,0),color='green')\n",
    "ax.set_ylim([0, 100])\n",
    "ax.set_title('alignment plot')\n",
    "ax.set_ylabel('angle')\n",
    "ax.set_xlabel('iteration')\n",
    "ax.grid(True)\n",
    "# plot the condfidence2 interval over repeations\n",
    "ax.fill_between(np.arange(1,number_of_iterations+1),\\\n",
    "                np.mean(angles2,0)-np.std(angles2,axis=0), np.mean(angles2,0)+np.std(angles2,axis=0),\\\n",
    "                color='green', alpha=.1);\n",
    "\n",
    "# condition 3\n",
    "ax.plot(np.arange(1,number_of_iterations+1),np.mean(angles3,0),color='orange')\n",
    "ax.set_ylim([0, 100])\n",
    "ax.set_title('alignment plot')\n",
    "ax.set_ylabel('angle')\n",
    "ax.set_xlabel('iteration')\n",
    "ax.grid(True)\n",
    "# plot the condfidence3 interval over repeations\n",
    "ax.fill_between(np.arange(1,number_of_iterations+1),\\\n",
    "                np.mean(angles3,0)-np.std(angles3,axis=0), np.mean(angles3,0)+np.std(angles3,axis=0),\\\n",
    "                color='orange', alpha=.1);\n",
    "\n",
    "ax.legend(['auto_correlated, not cross_correlated','not auto_correlated, cross_correlated',\\\n",
    "           'not auto_correlated, not cross_correlated'],loc='lower right')"
   ]
  },
  {
   "cell_type": "code",
   "execution_count": null,
   "id": "695b1655",
   "metadata": {},
   "outputs": [],
   "source": [
    "# Paper Part - 2.3 Using the provided theoretical tool to investigate FA in the learning process of a practical deep ANN\n",
    "# train and test a 5 layer network on MNIST\n",
    "# fact = tanh(ReLU) - 50 neurons in all hidden and output layer - output layer is using 5 hot coding\n",
    "# images of MNIST should be resized to 15*15 - so we have 225 neurons in input layer \n",
    "# inputs should be normalized \n",
    "# batch size = 1000, 60 batches available (total numbre of 60K images)\n",
    "# initialization of forward/ backward weights and biases is done using N(0,0.1)\n",
    "# loss function is sth like squared error, check page 5 for the details"
   ]
  },
  {
   "cell_type": "code",
   "execution_count": 177,
   "id": "629c2754",
   "metadata": {},
   "outputs": [
    {
     "name": "stdout",
     "output_type": "stream",
     "text": [
      "data loaded!\n",
      "(60000, 28, 28) (60000,) (10000, 28, 28) (10000,)\n"
     ]
    }
   ],
   "source": [
    "# Load MNIST Dataset\n",
    "import tensorflow as tf\n",
    "from tensorflow import keras\n",
    "from tensorflow.keras.datasets import mnist\n",
    "\n",
    "# loading the dataset\n",
    "(x_train, y_train), (x_test, y_test) = mnist.load_data()\n",
    "print('data loaded!')\n",
    "print(x_train.shape, y_train.shape, x_test.shape, y_test.shape)"
   ]
  },
  {
   "cell_type": "code",
   "execution_count": 176,
   "id": "a1129667",
   "metadata": {},
   "outputs": [
    {
     "name": "stdout",
     "output_type": "stream",
     "text": [
      "resizing done!\n",
      "(60000, 15, 15) (10000, 15, 15)\n"
     ]
    }
   ],
   "source": [
    "# resize images to 15*15\n",
    "\n",
    "x_train_resized = np.zeros((x_train.shape[0],15,15))\n",
    "x_test_resized = np.zeros((x_test.shape[0],15,15))\n",
    "\n",
    "# resize train images\n",
    "for i in range (x_train.shape[0]):\n",
    "    image = np.squeeze(x_train[i,:,:])\n",
    "    x_train_resized[i,:,:] = np.resize(image,(15,15))\n",
    "\n",
    "    \n",
    "# resize test images\n",
    "for i in range (x_test.shape[0]):\n",
    "    image = np.squeeze(x_test[i,:,:])\n",
    "    x_test_resized[i,:,:] = np.resize(image,(15,15))\n",
    "    \n",
    "print('resizing done!')\n",
    "print(x_train_resized.shape,x_test_resized.shape)"
   ]
  },
  {
   "cell_type": "code",
   "execution_count": 175,
   "id": "118854c9",
   "metadata": {},
   "outputs": [
    {
     "name": "stdout",
     "output_type": "stream",
     "text": [
      "vectorization done!\n",
      "(60000, 225) (10000, 225)\n"
     ]
    }
   ],
   "source": [
    "# vectorize images\n",
    "\n",
    "x_train_flat = x_train_resized.reshape(x_train_resized.shape[0],-1)\n",
    "x_test_flat = x_test_resized.reshape(x_test_resized.shape[0],-1)\n",
    "print('vectorization done!')\n",
    "print(x_train_flat.shape,x_test_flat.shape)"
   ]
  },
  {
   "cell_type": "code",
   "execution_count": 174,
   "id": "7ae161e3",
   "metadata": {},
   "outputs": [
    {
     "name": "stdout",
     "output_type": "stream",
     "text": [
      "normalization done!\n"
     ]
    }
   ],
   "source": [
    "# normalize images with train images\n",
    "from sklearn.preprocessing import StandardScaler\n",
    "\n",
    "scaler = StandardScaler()\n",
    "scaler.fit(x_train_flat)\n",
    "x_tr_norm = scaler.transform(x_train_flat)\n",
    "x_te_norm  = scaler.transform(x_train_flat)\n",
    "\n",
    "print('normalization done!')"
   ]
  },
  {
   "cell_type": "code",
   "execution_count": null,
   "id": "4ded9b90",
   "metadata": {},
   "outputs": [],
   "source": [
    "# 5 hot coding the labels"
   ]
  }
 ],
 "metadata": {
  "kernelspec": {
   "display_name": "Python 3",
   "language": "python",
   "name": "python3"
  },
  "language_info": {
   "codemirror_mode": {
    "name": "ipython",
    "version": 3
   },
   "file_extension": ".py",
   "mimetype": "text/x-python",
   "name": "python",
   "nbconvert_exporter": "python",
   "pygments_lexer": "ipython3",
   "version": "3.8.8"
  }
 },
 "nbformat": 4,
 "nbformat_minor": 5
}
