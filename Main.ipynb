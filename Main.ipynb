{
 "cells": [
  {
   "cell_type": "code",
   "execution_count": 3,
   "id": "730628ce",
   "metadata": {},
   "outputs": [],
   "source": [
    "# advance neuro project"
   ]
  },
  {
   "cell_type": "code",
   "execution_count": 1,
   "id": "2f3127b0",
   "metadata": {},
   "outputs": [],
   "source": [
    "import numpy as np\n",
    "import matplotlib.pyplot as plt\n",
    "import math"
   ]
  },
  {
   "cell_type": "code",
   "execution_count": 45,
   "id": "740d96c7",
   "metadata": {},
   "outputs": [
    {
     "data": {
      "text/plain": [
       "[<matplotlib.lines.Line2D at 0x2417fd2ddc0>]"
      ]
     },
     "execution_count": 45,
     "metadata": {},
     "output_type": "execute_result"
    },
    {
     "data": {
      "image/png": "[encoded data removed]",
      "text/plain": [
       "<Figure size 360x360 with 1 Axes>"
      ]
     },
     "metadata": {
      "needs_background": "light"
     },
     "output_type": "display_data"
    }
   ],
   "source": [
    "#### network parameters - open loop 2 layer network - first condition - auto correlated \n",
    "\n",
    "mu = 0\n",
    "sigma = 1\n",
    "LR = 0.002\n",
    "n_b = 100 # batch size\n",
    "number_of_iterations = 2000\n",
    "\n",
    "\n",
    "input_layer_size = 20\n",
    "hidden_layer1_size = 100\n",
    "output_layer_size = 20\n",
    "\n",
    "forward_weight_0 = np.random.normal(mu, sigma, size=(input_layer_size,hidden_layer1_size))\n",
    "forward_weight_1 = np.random.normal(mu, sigma, size=(hidden_layer1_size,output_layer_size))\n",
    "\n",
    "# here, the network is open loop and the delta2 is created randomly and kept constant during itertions\n",
    "backward_weight_1 = np.random.normal(mu, sigma, size=(output_layer_size,hidden_layer1_size))\n",
    "\n",
    "# input layer values\n",
    "input_layer = np.random.normal(mu, sigma, size=(n_b, input_layer_size)) # initial value of inputs - constant during iterations\n",
    "error_delta2 = np.random.normal(mu, sigma, size=(n_b, output_layer_size)) # initial value of error_delta 2 - constant during iterations\n",
    "error_delta1 = np.matmul(error_delta2, backward_weight_1) # initial value of error_delta1 - constant during iterations since\n",
    "# delta 2 doesn't change\n",
    "\n",
    "# updating the network parameters\n",
    "rep = 1\n",
    "angles1 = np.zeros((rep, number_of_iterations))\n",
    "\n",
    "for k in range (rep):\n",
    "    forward_weight_0 = np.random.normal(mu, sigma, size=(input_layer_size,hidden_layer1_size))\n",
    "    forward_weight_1 = np.random.normal(mu, sigma, size=(hidden_layer1_size,output_layer_size))\n",
    "    for j in range (number_of_iterations):\n",
    "        angles1[k,j] = angleCal(forward_weight_1, backward_weight_1.T)\n",
    "        Z1 = np.matmul(forward_weight_0.T, input_layer.T).T\n",
    "        hidden_layer_1 = ReLU(Z1)\n",
    "        delta1 = np.multiply(error_delta1,ReLU_deriv(Z1))\n",
    "        delta_w0 = LR*np.matmul(input_layer.T, delta1)\n",
    "        delta2 = error_delta2\n",
    "        delta_w1 = LR*np.matmul(hidden_layer_1.T, delta2)\n",
    "        forward_weight_0 += delta_w0\n",
    "        forward_weight_1 += delta_w1"
   ]
  },
  {
   "cell_type": "code",
   "execution_count": 52,
   "id": "d1f3fcba",
   "metadata": {},
   "outputs": [
    {
     "data": {
      "image/png": "[encoded data removed]",
      "text/plain": [
       "<Figure size 360x360 with 1 Axes>"
      ]
     },
     "metadata": {
      "needs_background": "light"
     },
     "output_type": "display_data"
    }
   ],
   "source": [
    "# plot the result of auto correlated mode(prev part's result)\n",
    "\n",
    "    \n",
    "fig, ax = plt.subplots(1,1,figsize=(5,5))\n",
    "ax.plot(np.arange(1,number_of_iterations+1),np.squeeze(angles1))\n",
    "ax.set_ylim([0, 90])\n",
    "ax.set_title('auto correlated')\n",
    "ax.set_ylabel('angle')\n",
    "ax.set_xlabel('iteration')\n",
    "ax.grid(True)\n"
   ]
  },
  {
   "cell_type": "code",
   "execution_count": 13,
   "id": "b7c9dfb0",
   "metadata": {},
   "outputs": [
    {
     "name": "stdout",
     "output_type": "stream",
     "text": [
      "(60, 2000)\n"
     ]
    },
    {
     "data": {
      "text/plain": [
       "[<matplotlib.lines.Line2D at 0x2417fdb4610>]"
      ]
     },
     "execution_count": 13,
     "metadata": {},
     "output_type": "execute_result"
    },
    {
     "data": {
      "image/png": "[encoded data removed]",
      "text/plain": [
       "<Figure size 360x360 with 1 Axes>"
      ]
     },
     "metadata": {
      "needs_background": "light"
     },
     "output_type": "display_data"
    }
   ],
   "source": [
    "    \n",
    "fig, ax = plt.subplots(1,1,figsize=(5,5))\n",
    "print(angles1.shape)\n",
    "ax.plot(np.arange(1,number_of_iterations+1),np.mean(angles1,0))\n",
    "        "
   ]
  },
  {
   "cell_type": "code",
   "execution_count": 35,
   "id": "7c6d6158",
   "metadata": {},
   "outputs": [
    {
     "ename": "TypeError",
     "evalue": "'axis' is an invalid keyword to ufunc 'fmax'",
     "output_type": "error",
     "traceback": [
      "\u001b[1;31m---------------------------------------------------------------------------\u001b[0m",
      "\u001b[1;31mTypeError\u001b[0m                                 Traceback (most recent call last)",
      "\u001b[1;32m<ipython-input-35-6f55c517919a>\u001b[0m in \u001b[0;36m<module>\u001b[1;34m\u001b[0m\n\u001b[0;32m     43\u001b[0m             \u001b[0merror_delta1\u001b[0m \u001b[1;33m=\u001b[0m \u001b[0mnp\u001b[0m\u001b[1;33m.\u001b[0m\u001b[0mmatmul\u001b[0m\u001b[1;33m(\u001b[0m\u001b[0merror_delta2\u001b[0m\u001b[1;33m,\u001b[0m \u001b[0mbackward_weight_1\u001b[0m\u001b[1;33m)\u001b[0m\u001b[1;33m\u001b[0m\u001b[1;33m\u001b[0m\u001b[0m\n\u001b[0;32m     44\u001b[0m             \u001b[0mZ1\u001b[0m \u001b[1;33m=\u001b[0m \u001b[0mnp\u001b[0m\u001b[1;33m.\u001b[0m\u001b[0mmatmul\u001b[0m\u001b[1;33m(\u001b[0m\u001b[0mforward_weight_0\u001b[0m\u001b[1;33m.\u001b[0m\u001b[0mT\u001b[0m\u001b[1;33m,\u001b[0m \u001b[0minput_layer\u001b[0m\u001b[1;33m.\u001b[0m\u001b[0mT\u001b[0m\u001b[1;33m)\u001b[0m\u001b[1;33m.\u001b[0m\u001b[0mT\u001b[0m\u001b[1;33m\u001b[0m\u001b[1;33m\u001b[0m\u001b[0m\n\u001b[1;32m---> 45\u001b[1;33m             \u001b[0mhidden_layer_1\u001b[0m \u001b[1;33m=\u001b[0m \u001b[0mReLU\u001b[0m\u001b[1;33m(\u001b[0m\u001b[0mZ1\u001b[0m\u001b[1;33m)\u001b[0m\u001b[1;33m\u001b[0m\u001b[1;33m\u001b[0m\u001b[0m\n\u001b[0m\u001b[0;32m     46\u001b[0m             \u001b[0mdelta1\u001b[0m \u001b[1;33m=\u001b[0m \u001b[0mnp\u001b[0m\u001b[1;33m.\u001b[0m\u001b[0mmultiply\u001b[0m\u001b[1;33m(\u001b[0m\u001b[0merror_delta1\u001b[0m\u001b[1;33m,\u001b[0m\u001b[0mReLU_deriv\u001b[0m\u001b[1;33m(\u001b[0m\u001b[0mZ1\u001b[0m\u001b[1;33m)\u001b[0m\u001b[1;33m)\u001b[0m\u001b[1;33m\u001b[0m\u001b[1;33m\u001b[0m\u001b[0m\n\u001b[0;32m     47\u001b[0m             \u001b[0mdelta_w0\u001b[0m \u001b[1;33m+=\u001b[0m \u001b[0mLR\u001b[0m\u001b[1;33m*\u001b[0m\u001b[0mnp\u001b[0m\u001b[1;33m.\u001b[0m\u001b[0mmatmul\u001b[0m\u001b[1;33m(\u001b[0m\u001b[0minput_layer\u001b[0m\u001b[1;33m.\u001b[0m\u001b[0mT\u001b[0m\u001b[1;33m,\u001b[0m \u001b[0mdelta1\u001b[0m\u001b[1;33m)\u001b[0m\u001b[1;33m\u001b[0m\u001b[1;33m\u001b[0m\u001b[0m\n",
      "\u001b[1;32m<ipython-input-34-bec8138d1b25>\u001b[0m in \u001b[0;36mReLU\u001b[1;34m(x)\u001b[0m\n\u001b[0;32m      1\u001b[0m \u001b[1;32mdef\u001b[0m \u001b[0mReLU\u001b[0m\u001b[1;33m(\u001b[0m\u001b[0mx\u001b[0m\u001b[1;33m)\u001b[0m\u001b[1;33m:\u001b[0m\u001b[1;33m\u001b[0m\u001b[1;33m\u001b[0m\u001b[0m\n\u001b[0;32m      2\u001b[0m     \u001b[0mzeros_mat\u001b[0m \u001b[1;33m=\u001b[0m \u001b[0mnp\u001b[0m\u001b[1;33m.\u001b[0m\u001b[0mzeros\u001b[0m\u001b[1;33m(\u001b[0m\u001b[0mx\u001b[0m\u001b[1;33m.\u001b[0m\u001b[0mshape\u001b[0m\u001b[1;33m)\u001b[0m\u001b[1;33m\u001b[0m\u001b[1;33m\u001b[0m\u001b[0m\n\u001b[1;32m----> 3\u001b[1;33m     \u001b[0moutput\u001b[0m \u001b[1;33m=\u001b[0m \u001b[0mnp\u001b[0m\u001b[1;33m.\u001b[0m\u001b[0mfmax\u001b[0m\u001b[1;33m(\u001b[0m\u001b[0mx\u001b[0m\u001b[1;33m,\u001b[0m\u001b[0mzeros_mat\u001b[0m\u001b[1;33m,\u001b[0m\u001b[0maxis\u001b[0m\u001b[1;33m=\u001b[0m\u001b[1;36m1\u001b[0m\u001b[1;33m)\u001b[0m\u001b[1;33m\u001b[0m\u001b[1;33m\u001b[0m\u001b[0m\n\u001b[0m\u001b[0;32m      4\u001b[0m     \u001b[1;32mreturn\u001b[0m \u001b[0moutput\u001b[0m\u001b[1;33m\u001b[0m\u001b[1;33m\u001b[0m\u001b[0m\n",
      "\u001b[1;31mTypeError\u001b[0m: 'axis' is an invalid keyword to ufunc 'fmax'"
     ]
    }
   ],
   "source": [
    "#### network parameters - open loop 2 layer network - first condition - auto correlated \n",
    "\n",
    "mu = 0\n",
    "sigma = 1\n",
    "LR = 0.002\n",
    "n_b = 100 # batch size\n",
    "number_of_iterations = 2000\n",
    "\n",
    "\n",
    "input_layer_size = 20\n",
    "hidden_layer1_size = 100\n",
    "output_layer_size = 20\n",
    "\n",
    "forward_weight_0 = np.random.normal(mu, sigma, size=(input_layer_size,hidden_layer1_size))\n",
    "forward_weight_1 = np.random.normal(mu, sigma, size=(hidden_layer1_size,output_layer_size))\n",
    "\n",
    "# here, the network is open loop and the delta2 is created randomly and kept constant during itertions\n",
    "backward_weight_1 = np.random.normal(mu, sigma, size=(output_layer_size,hidden_layer1_size))\n",
    "\n",
    "input_layer = np.random.normal(mu, sigma, input_layer_size)\n",
    "input_layer = input_layer.reshape(1,len(input_layer))\n",
    "error_delta2 = np.random.normal(mu, sigma, output_layer_size) \n",
    "error_delta2 = error_delta2.reshape(1,len(error_delta2))\n",
    "error_delta1 = np.matmul(error_delta2, backward_weight_1)\n",
    "\n",
    "# updating the network parameters\n",
    "rep = 1\n",
    "angles1 = np.zeros((rep, number_of_iterations))\n",
    "\n",
    "for k in range (rep):\n",
    "    forward_weight_0 = np.random.normal(mu, sigma, size=(input_layer_size,hidden_layer1_size))\n",
    "    forward_weight_1 = np.random.normal(mu, sigma, size=(hidden_layer1_size,output_layer_size))\n",
    "    for j in range (number_of_iterations):\n",
    "        angles1[k,j] = angleCal(forward_weight_1, backward_weight_1.T)\n",
    "        delta_w0 = 0\n",
    "        delta_w1 = 0\n",
    "        for i in range (n_b):\n",
    "            # input layer values\n",
    "            input_layer = np.random.normal(mu, sigma, input_layer_size)\n",
    "            input_layer = input_layer.reshape(1,len(input_layer))\n",
    "            error_delta2 = np.random.normal(mu, sigma, output_layer_size) \n",
    "            error_delta2 = error_delta2.reshape(1,len(error_delta2))\n",
    "            error_delta1 = np.matmul(error_delta2, backward_weight_1)\n",
    "            Z1 = np.matmul(forward_weight_0.T, input_layer.T).T\n",
    "            hidden_layer_1 = ReLU(Z1)\n",
    "            delta1 = np.multiply(error_delta1,ReLU_deriv(Z1))\n",
    "            delta_w0 += LR*np.matmul(input_layer.T, delta1)\n",
    "            delta2 = error_delta2\n",
    "            delta_w1 += LR*np.matmul(hidden_layer_1.T, delta2)\n",
    "            #print(i,j,k,end=\" \")\n",
    "        forward_weight_0 += delta_w0\n",
    "        forward_weight_1 += delta_w1\n",
    "    \n",
    "    \n",
    "fig, ax = plt.subplots(1,1,figsize=(5,5))\n",
    "ax.plot(np.arange(1,number_of_iterations+1),np.mean(angles1,0))\n",
    "        "
   ]
  },
  {
   "cell_type": "code",
   "execution_count": 23,
   "id": "da45140c",
   "metadata": {},
   "outputs": [
    {
     "data": {
      "text/plain": [
       "[<matplotlib.lines.Line2D at 0x2417fc2e490>]"
      ]
     },
     "execution_count": 23,
     "metadata": {},
     "output_type": "execute_result"
    },
    {
     "data": {
      "image/png": "[encoded data removed]",
      "text/plain": [
       "<Figure size 360x360 with 1 Axes>"
      ]
     },
     "metadata": {
      "needs_background": "light"
     },
     "output_type": "display_data"
    }
   ],
   "source": [
    "fig, ax = plt.subplots(1,1,figsize=(5,5))\n",
    "ax.plot(np.arange(1,number_of_iterations+1),np.mean(angles1,0))"
   ]
  },
  {
   "cell_type": "code",
   "execution_count": 37,
   "id": "4b8886a0",
   "metadata": {},
   "outputs": [],
   "source": [
    "def ReLU(x):\n",
    "    zeros_mat = np.zeros(x.shape)\n",
    "    output = np.fmax(x,zeros_mat)\n",
    "    return output"
   ]
  },
  {
   "cell_type": "code",
   "execution_count": 39,
   "id": "dbc2a270",
   "metadata": {},
   "outputs": [],
   "source": [
    "def ReLU_deriv(x):\n",
    "    non_negs = np.where(x >= 0)\n",
    "    output = np.zeros(x.shape)\n",
    "    output[non_negs] = 1\n",
    "    return output"
   ]
  },
  {
   "cell_type": "code",
   "execution_count": 6,
   "id": "d6c45f08",
   "metadata": {},
   "outputs": [],
   "source": [
    "def angleCal(A, B):\n",
    "    num = np.trace(np.matmul(np.conjugate(A.T), B))\n",
    "    norm_A = math.sqrt(np.trace(np.matmul(A,np.conjugate(A.T))))\n",
    "    norm_B = math.sqrt(np.trace(np.matmul(B,np.conjugate(B.T))))\n",
    "    denum = norm_A*norm_B\n",
    "    angle = np.arccos(num/denum)*180/math.pi\n",
    "    return angle"
   ]
  },
  {
   "cell_type": "code",
   "execution_count": 39,
   "id": "7140ec04",
   "metadata": {},
   "outputs": [
    {
     "name": "stdout",
     "output_type": "stream",
     "text": [
      "(1, 2)\n",
      "[[1 2]\n",
      " [1 2]]\n"
     ]
    }
   ],
   "source": [
    "### network parameters - open loop 2 layer network - first condition - auto correlated \n",
    "\n",
    "mu = 0\n",
    "sigma = 1\n",
    "LR = 0.002\n",
    "\n",
    "input_layer_size = 20\n",
    "hidden_layer1_size = 100\n",
    "hidden_layer2_size = 20\n",
    "\n",
    "forward_weight_0 = np.random.normal(mu, sigma, size=(input_layer_size,hidden_layer1_size))\n",
    "forward_weight_1 = np.random.normal(mu, sigma, size=(hidden_layer1_size,hidden_layer2_size))\n",
    "\n",
    "# here, the network is open loop and the delta2 is created randomly and kept constant during itertions\n",
    "backward_weight_1 = np.random.normal(mu, sigma, size=(hidden_layer2_size,hidden_layer1_size))\n",
    "\n",
    "# input layer values\n",
    "\n",
    "input_layer = np.random.normal(mu, sigma, input_layer_size) # initial value of inputs - constant during iterations\n",
    "input_layer = input_layer.reshape(1, len(input_layer))\n",
    "error_delta2 = np.random.normal(mu, sigma, hidden_layer2_size) # initial value of error_delta 2 - constant during iterations\n",
    "error_delta2 = error_delta2.reshape(1, len(error_delta2))\n",
    "error_delta1 = np.matmul(error_delta2, backward_weight_1) # initial value of error_delta1 - constant during iterations since\n",
    "# delta 2 doesn't change\n",
    "\n",
    "# updating the network parameters\n",
    "number_of_iterations = 2000\n",
    "angles1 = np.zeros((number_of_iterations))\n",
    "\n",
    "for i in range (number_of_iterations):\n",
    "    hidden_layer_1 = np.matmul(forward_weight_0.T, input_layer.T).T\n",
    "    delta1 = error_delta1\n",
    "    forward_weight_0 += LR*np.matmul(input_layer.T,delta1)\n",
    "    delta2 = error_delta2\n",
    "    forward_weight_1 += LR*np.matmul(hidden_layer_1.T,delta2)\n",
    "    angles1[i] = angleCal(forward_weight_1, backward_weight_1.T)\n",
    "    \n",
    "fig, ax = plt.subplots(1,1,figsize=(5,5))\n",
    "ax.plot(np.arange(1,number_of_iterations+1),angles1)"
   ]
  }
 ],
 "metadata": {
  "kernelspec": {
   "display_name": "Python 3",
   "language": "python",
   "name": "python3"
  },
  "language_info": {
   "codemirror_mode": {
    "name": "ipython",
    "version": 3
   },
   "file_extension": ".py",
   "mimetype": "text/x-python",
   "name": "python",
   "nbconvert_exporter": "python",
   "pygments_lexer": "ipython3",
   "version": "3.8.8"
  }
 },
 "nbformat": 4,
 "nbformat_minor": 5
}
