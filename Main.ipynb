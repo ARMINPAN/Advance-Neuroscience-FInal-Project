{
 "cells": [
  {
   "cell_type": "code",
   "execution_count": 3,
   "id": "730628ce",
   "metadata": {},
   "outputs": [],
   "source": [
    "# advance neuro project"
   ]
  },
  {
   "cell_type": "code",
   "execution_count": 21,
   "id": "2f3127b0",
   "metadata": {},
   "outputs": [],
   "source": [
    "import numpy as np\n",
    "import matplotlib.pyplot as plt\n",
    "import math\n",
    "import random"
   ]
  },
  {
   "cell_type": "code",
   "execution_count": 4,
   "id": "6cd7502c",
   "metadata": {},
   "outputs": [],
   "source": [
    "def ReLU(x):\n",
    "    zeros_mat = np.zeros(x.shape)\n",
    "    output = np.fmax(x,zeros_mat)\n",
    "    return output"
   ]
  },
  {
   "cell_type": "code",
   "execution_count": 5,
   "id": "ebfbddae",
   "metadata": {},
   "outputs": [],
   "source": [
    "def ReLU_deriv(x):\n",
    "    non_negs = np.where(x >= 0)\n",
    "    output = np.zeros(x.shape)\n",
    "    output[non_negs] = 1\n",
    "    return output"
   ]
  },
  {
   "cell_type": "code",
   "execution_count": 6,
   "id": "6d595a89",
   "metadata": {},
   "outputs": [],
   "source": [
    "def angleCal(A, B):\n",
    "    num = np.trace(np.matmul(np.conjugate(A.T), B))\n",
    "    norm_A = math.sqrt(np.trace(np.matmul(A,np.conjugate(A.T))))\n",
    "    norm_B = math.sqrt(np.trace(np.matmul(B,np.conjugate(B.T))))\n",
    "    denum = norm_A*norm_B\n",
    "    angle = np.arccos(num/denum)*180/math.pi\n",
    "    return angle"
   ]
  },
  {
   "cell_type": "code",
   "execution_count": 7,
   "id": "03a43cdd",
   "metadata": {},
   "outputs": [
    {
     "name": "stdout",
     "output_type": "stream",
     "text": [
      "simulation finished, please run the next section for the result\n"
     ]
    }
   ],
   "source": [
    "#### network parameters - open loop 2 layer network - first condition - auto correlated \n",
    "\n",
    "mu = 0\n",
    "sigma = 1\n",
    "LR = 0.002\n",
    "n_b = 100 # batch size\n",
    "number_of_iterations = 2000\n",
    "\n",
    "\n",
    "input_layer_size = 20\n",
    "hidden_layer1_size = 100\n",
    "output_layer_size = 20\n",
    "\n",
    "forward_weight_0 = np.random.normal(mu, sigma, size=(input_layer_size,hidden_layer1_size))\n",
    "forward_weight_1 = np.random.normal(mu, sigma, size=(hidden_layer1_size,output_layer_size))\n",
    "\n",
    "# here, the network is open loop and the delta2 is created randomly and kept constant during itertions\n",
    "backward_weight_1 = np.random.normal(mu, sigma, size=(output_layer_size,hidden_layer1_size))\n",
    "\n",
    "# input layer values\n",
    "input_layer = np.random.normal(mu, sigma, size=(n_b, input_layer_size)) # initial value of inputs - constant during iterations\n",
    "error_delta2 = np.random.normal(mu, sigma, size=(n_b, output_layer_size)) # initial value of error_delta 2 - constant during iterations\n",
    "error_delta1 = np.matmul(error_delta2, backward_weight_1) # initial value of error_delta1 - constant during iterations since\n",
    "# delta 2 doesn't change\n",
    "\n",
    "# updating the network parameters\n",
    "rep = 10\n",
    "angles1 = np.zeros((rep, number_of_iterations))\n",
    "\n",
    "for k in range (rep):\n",
    "    forward_weight_0 = np.random.normal(mu, sigma, size=(input_layer_size,hidden_layer1_size))\n",
    "    forward_weight_1 = np.random.normal(mu, sigma, size=(hidden_layer1_size,output_layer_size))\n",
    "    for j in range (number_of_iterations):\n",
    "        angles1[k,j] = angleCal(forward_weight_1, backward_weight_1.T)\n",
    "        Z1 = np.matmul(forward_weight_0.T, input_layer.T).T\n",
    "        hidden_layer_1 = ReLU(Z1)\n",
    "        delta1 = np.multiply(error_delta1,ReLU_deriv(Z1))\n",
    "        delta_w0 = LR*np.matmul(input_layer.T, delta1)\n",
    "        delta2 = error_delta2\n",
    "        delta_w1 = LR*np.matmul(hidden_layer_1.T, delta2)\n",
    "        forward_weight_0 += delta_w0\n",
    "        forward_weight_1 += delta_w1\n",
    "        \n",
    "print('simulation finished, please run the next section for the result')"
   ]
  },
  {
   "cell_type": "code",
   "execution_count": 8,
   "id": "2a5bfcc1",
   "metadata": {},
   "outputs": [
    {
     "data": {
      "image/png": "[encoded data removed]",
      "text/plain": [
       "<Figure size 360x360 with 1 Axes>"
      ]
     },
     "metadata": {
      "needs_background": "light"
     },
     "output_type": "display_data"
    }
   ],
   "source": [
    "## plot the result of auto correlated mode(prev part's result)\n",
    "\n",
    "    \n",
    "fig, ax = plt.subplots(1,1,figsize=(5,5));\n",
    "ax.plot(np.arange(1,number_of_iterations+1),np.mean(angles1,0));\n",
    "ax.set_ylim([0, 100]);\n",
    "ax.set_title('auto correlated');\n",
    "ax.set_ylabel('angle');\n",
    "ax.set_xlabel('iteration');\n",
    "ax.grid(True);\n",
    "\n",
    "# plot the condfidence interval over repeations\n",
    "ax.fill_between(np.arange(1,number_of_iterations+1),\\\n",
    "                np.mean(angles1,0)-np.std(angles1,axis=0), np.mean(angles1,0)+np.std(angles1,axis=0),\\\n",
    "                color='b', alpha=.1);\n"
   ]
  },
  {
   "cell_type": "code",
   "execution_count": 9,
   "id": "493dcc95",
   "metadata": {},
   "outputs": [
    {
     "name": "stdout",
     "output_type": "stream",
     "text": [
      "simulation finished, please run the next section for the result\n"
     ]
    }
   ],
   "source": [
    "#### network parameters - open loop 2 layer network - second condition - cross correlated \n",
    "\n",
    "mu = 0\n",
    "sigma = 1\n",
    "LR = 0.002\n",
    "n_b = 100 # batch size\n",
    "number_of_iterations = 2000\n",
    "\n",
    "\n",
    "input_layer_size = 20\n",
    "hidden_layer1_size = 100\n",
    "output_layer_size = 20\n",
    "\n",
    "forward_weight_0 = np.random.normal(mu, sigma, size=(input_layer_size,hidden_layer1_size))\n",
    "forward_weight_1 = np.random.normal(mu, sigma, size=(hidden_layer1_size,output_layer_size))\n",
    "\n",
    "# here, the network is open loop and the delta2 is created randomly and kept constant during itertions\n",
    "backward_weight_1 = np.random.normal(mu, sigma, size=(output_layer_size,hidden_layer1_size))\n",
    "\n",
    "# input layer values\n",
    "input_layer = np.random.normal(mu, sigma, size=(n_b, input_layer_size)) \n",
    "error_delta2 = input_layer # cross correlated with inputs of network\n",
    "error_delta1 = np.matmul(error_delta2, backward_weight_1) \n",
    "\n",
    "# updating the network parameters\n",
    "rep = 10\n",
    "angles2 = np.zeros((rep, number_of_iterations))\n",
    "\n",
    "for k in range (rep):\n",
    "    forward_weight_0 = np.random.normal(mu, sigma, size=(input_layer_size,hidden_layer1_size))\n",
    "    forward_weight_1 = np.random.normal(mu, sigma, size=(hidden_layer1_size,output_layer_size))\n",
    "    for j in range (number_of_iterations):\n",
    "        angles2[k,j] = angleCal(forward_weight_1, backward_weight_1.T)\n",
    "        Z1 = np.matmul(forward_weight_0.T, input_layer.T).T\n",
    "        hidden_layer_1 = ReLU(Z1)\n",
    "        delta1 = np.multiply(error_delta1,ReLU_deriv(Z1))\n",
    "        delta_w0 = LR*np.matmul(input_layer.T, delta1)\n",
    "        delta2 = error_delta2\n",
    "        delta_w1 = LR*np.matmul(hidden_layer_1.T, delta2)\n",
    "        forward_weight_0 += delta_w0\n",
    "        forward_weight_1 += delta_w1\n",
    "        # generate the parameters again\n",
    "        input_layer = np.random.normal(mu, sigma, size=(n_b, input_layer_size)) \n",
    "        error_delta2 = input_layer\n",
    "        error_delta1 = np.matmul(error_delta2, backward_weight_1) \n",
    "        \n",
    "print('simulation finished, please run the next section for the result')"
   ]
  },
  {
   "cell_type": "code",
   "execution_count": 10,
   "id": "98b1a322",
   "metadata": {},
   "outputs": [
    {
     "data": {
      "image/png": "[encoded data removed]",
      "text/plain": [
       "<Figure size 360x360 with 1 Axes>"
      ]
     },
     "metadata": {
      "needs_background": "light"
     },
     "output_type": "display_data"
    }
   ],
   "source": [
    "# plot the result of cross correlated mode(prev part's result)\n",
    "\n",
    "    \n",
    "fig, ax = plt.subplots(1,1,figsize=(5,5))\n",
    "ax.plot(np.arange(1,number_of_iterations+1),np.mean(angles2,0))\n",
    "ax.set_ylim([0, 100])\n",
    "ax.set_title('cross correlated')\n",
    "ax.set_ylabel('angle')\n",
    "ax.set_xlabel('iteration')\n",
    "ax.grid(True)\n",
    "\n",
    "# plot the condfidence interval over repeations\n",
    "ax.fill_between(np.arange(1,number_of_iterations+1),\\\n",
    "                np.mean(angles2,0)-np.std(angles2,axis=0), np.mean(angles2,0)+np.std(angles2,axis=0),\\\n",
    "                color='b', alpha=.1);\n"
   ]
  },
  {
   "cell_type": "code",
   "execution_count": 11,
   "id": "5b12e227",
   "metadata": {},
   "outputs": [
    {
     "name": "stdout",
     "output_type": "stream",
     "text": [
      "simulation finished, please run the next section for the result\n"
     ]
    }
   ],
   "source": [
    "#### network parameters - open loop 2 layer network - third condition - not auto correlated nor cross correlated\n",
    "\n",
    "mu = 0\n",
    "sigma = 1\n",
    "LR = 0.002\n",
    "n_b = 100 # batch size\n",
    "number_of_iterations = 2000\n",
    "\n",
    "\n",
    "input_layer_size = 20\n",
    "hidden_layer1_size = 100\n",
    "output_layer_size = 20\n",
    "\n",
    "forward_weight_0 = np.random.normal(mu, sigma, size=(input_layer_size,hidden_layer1_size))\n",
    "forward_weight_1 = np.random.normal(mu, sigma, size=(hidden_layer1_size,output_layer_size))\n",
    "\n",
    "# here, the network is open loop and the delta2 is created randomly and kept constant during itertions\n",
    "backward_weight_1 = np.random.normal(mu, sigma, size=(output_layer_size,hidden_layer1_size))\n",
    "\n",
    "# input layer values\n",
    "input_layer = np.random.normal(mu, sigma, size=(n_b, input_layer_size)) \n",
    "error_delta2 = np.random.normal(mu, sigma, size=(n_b, input_layer_size)) \n",
    "error_delta1 = np.matmul(error_delta2, backward_weight_1)\n",
    "\n",
    "# updating the network parameters\n",
    "rep = 10\n",
    "angles3 = np.zeros((rep, number_of_iterations))\n",
    "\n",
    "for k in range (rep):\n",
    "    forward_weight_0 = np.random.normal(mu, sigma, size=(input_layer_size,hidden_layer1_size))\n",
    "    forward_weight_1 = np.random.normal(mu, sigma, size=(hidden_layer1_size,output_layer_size))\n",
    "    for j in range (number_of_iterations):\n",
    "        angles3[k,j] = angleCal(forward_weight_1, backward_weight_1.T)\n",
    "        Z1 = np.matmul(forward_weight_0.T, input_layer.T).T\n",
    "        hidden_layer_1 = ReLU(Z1)\n",
    "        delta1 = np.multiply(error_delta1,ReLU_deriv(Z1))\n",
    "        delta_w0 = LR*np.matmul(input_layer.T, delta1)\n",
    "        delta2 = error_delta2\n",
    "        delta_w1 = LR*np.matmul(hidden_layer_1.T, delta2)\n",
    "        forward_weight_0 += delta_w0\n",
    "        forward_weight_1 += delta_w1\n",
    "        # generate the parameters again\n",
    "        input_layer = np.random.normal(mu, sigma, size=(n_b, input_layer_size)) \n",
    "        error_delta2 = np.random.normal(mu, sigma, size=(n_b, output_layer_size)) \n",
    "        error_delta1 = np.matmul(error_delta2, backward_weight_1) \n",
    "        \n",
    "print('simulation finished, please run the next section for the result')"
   ]
  },
  {
   "cell_type": "code",
   "execution_count": 12,
   "id": "4c92871a",
   "metadata": {},
   "outputs": [
    {
     "data": {
      "image/png": "[encoded data removed]",
      "text/plain": [
       "<Figure size 360x360 with 1 Axes>"
      ]
     },
     "metadata": {
      "needs_background": "light"
     },
     "output_type": "display_data"
    }
   ],
   "source": [
    "# plot the result of not auto correlated nor cross correlated mode(prev part's result)\n",
    "\n",
    "    \n",
    "fig, ax = plt.subplots(1,1,figsize=(5,5))\n",
    "ax.plot(np.arange(1,number_of_iterations+1),np.mean(angles3,0))\n",
    "ax.set_ylim([0, 100])\n",
    "ax.set_title('not auto correlated nor cross correlated')\n",
    "ax.set_ylabel('angle')\n",
    "ax.set_xlabel('iteration')\n",
    "ax.grid(True)\n",
    "\n",
    "# plot the condfidence interval over repeations\n",
    "ax.fill_between(np.arange(1,number_of_iterations+1),\\\n",
    "                np.mean(angles3,0)-np.std(angles3,axis=0), np.mean(angles3,0)+np.std(angles3,axis=0),\\\n",
    "                color='b', alpha=.1);\n"
   ]
  },
  {
   "cell_type": "code",
   "execution_count": 13,
   "id": "8ccfee14",
   "metadata": {},
   "outputs": [
    {
     "data": {
      "text/plain": [
       "<matplotlib.legend.Legend at 0x23f43b87a30>"
      ]
     },
     "execution_count": 13,
     "metadata": {},
     "output_type": "execute_result"
    },
    {
     "data": {
      "image/png": "[encoded data removed]",
      "text/plain": [
       "<Figure size 360x360 with 1 Axes>"
      ]
     },
     "metadata": {
      "needs_background": "light"
     },
     "output_type": "display_data"
    }
   ],
   "source": [
    "# plot the result of all three conditions together\n",
    "\n",
    "    \n",
    "fig, ax = plt.subplots(1,1,figsize=(5,5))\n",
    "\n",
    "# condition 1\n",
    "ax.plot(np.arange(1,number_of_iterations+1),np.mean(angles1,0))\n",
    "ax.set_ylim([0, 100])\n",
    "ax.set_title('alignment plot')\n",
    "ax.set_ylabel('angle')\n",
    "ax.set_xlabel('iteration')\n",
    "ax.grid(True)\n",
    "# plot the condfidence1 interval over repeations\n",
    "ax.fill_between(np.arange(1,number_of_iterations+1),\\\n",
    "                np.mean(angles1,0)-np.std(angles1,axis=0), np.mean(angles1,0)+np.std(angles1,axis=0),\\\n",
    "                color='b', alpha=.1);\n",
    "\n",
    "# condition 2\n",
    "ax.plot(np.arange(1,number_of_iterations+1),np.mean(angles2,0),color='green')\n",
    "ax.set_ylim([0, 100])\n",
    "ax.set_title('alignment plot')\n",
    "ax.set_ylabel('angle')\n",
    "ax.set_xlabel('iteration')\n",
    "ax.grid(True)\n",
    "# plot the condfidence2 interval over repeations\n",
    "ax.fill_between(np.arange(1,number_of_iterations+1),\\\n",
    "                np.mean(angles2,0)-np.std(angles2,axis=0), np.mean(angles2,0)+np.std(angles2,axis=0),\\\n",
    "                color='green', alpha=.1);\n",
    "\n",
    "# condition 3\n",
    "ax.plot(np.arange(1,number_of_iterations+1),np.mean(angles3,0),color='orange')\n",
    "ax.set_ylim([0, 100])\n",
    "ax.set_title('alignment plot')\n",
    "ax.set_ylabel('angle')\n",
    "ax.set_xlabel('iteration')\n",
    "ax.grid(True)\n",
    "# plot the condfidence3 interval over repeations\n",
    "ax.fill_between(np.arange(1,number_of_iterations+1),\\\n",
    "                np.mean(angles3,0)-np.std(angles3,axis=0), np.mean(angles3,0)+np.std(angles3,axis=0),\\\n",
    "                color='orange', alpha=.1);\n",
    "\n",
    "ax.legend(['auto_correlated, not cross_correlated','not auto_correlated, cross_correlated',\\\n",
    "           'not auto_correlated, not cross_correlated'],loc='lower right')"
   ]
  },
  {
   "cell_type": "code",
   "execution_count": null,
   "id": "695b1655",
   "metadata": {},
   "outputs": [],
   "source": [
    "# Paper Part - 2.3 Using the provided theoretical tool to investigate FA in the learning process of a practical deep ANN\n",
    "# train and test a 5 layer network on MNIST\n",
    "# fact = tanh(ReLU) - 50 neurons in all hidden and output layer - output layer is using 5 hot coding\n",
    "# images of MNIST should be resized to 15*15 - so we have 225 neurons in input layer \n",
    "# inputs should be normalized \n",
    "# batch size = 1000, 60 batches available (total numbre of 60K images)\n",
    "# initialization of forward/ backward weights and biases is done using N(0,0.1)\n",
    "# loss function is sth like squared error, check page 5 for the details"
   ]
  },
  {
   "cell_type": "code",
   "execution_count": 37,
   "id": "942a1bf4",
   "metadata": {},
   "outputs": [],
   "source": [
    "def n_hot_coder(x,n,hot_labels):\n",
    "    output_neuron_num = 50\n",
    "    category_num = 10\n",
    "    if(category_num*n > output_neuron_num):\n",
    "        print('nhot encoding can`t be done since the condition`s not met')\n",
    "        return false\n",
    "    \n",
    "    output = np.zeros((len(x),output_neuron_num))\n",
    "    \n",
    "    output[np.where(x == 0),:] = categories_5hot[0,:]\n",
    "    output[np.where(x == 1),:] = categories_5hot[1,:]\n",
    "    output[np.where(x == 2),:] = categories_5hot[2,:]\n",
    "    output[np.where(x == 3),:] = categories_5hot[3,:]\n",
    "    output[np.where(x == 4),:] = categories_5hot[4,:]\n",
    "    output[np.where(x == 5),:] = categories_5hot[5,:]\n",
    "    output[np.where(x == 6),:] = categories_5hot[6,:]\n",
    "    output[np.where(x == 7),:] = categories_5hot[7,:]\n",
    "    output[np.where(x == 8),:] = categories_5hot[8,:]\n",
    "    output[np.where(x == 9),:] = categories_5hot[9,:]\n",
    "\n",
    "    return output"
   ]
  },
  {
   "cell_type": "code",
   "execution_count": 52,
   "id": "6f68657c",
   "metadata": {},
   "outputs": [],
   "source": [
    "def loss_function(output_layer,labels):\n",
    "    diffrence = labels-output_layer\n",
    "    output = 0.5*(np.sum(diffrence**2))\n",
    "    return output"
   ]
  },
  {
   "cell_type": "code",
   "execution_count": 14,
   "id": "629c2754",
   "metadata": {},
   "outputs": [
    {
     "name": "stdout",
     "output_type": "stream",
     "text": [
      "data loaded!\n",
      "(60000, 28, 28) (60000,) (10000, 28, 28) (10000,)\n"
     ]
    }
   ],
   "source": [
    "# Load MNIST Dataset\n",
    "import tensorflow as tf\n",
    "from tensorflow import keras\n",
    "from tensorflow.keras.datasets import mnist\n",
    "\n",
    "# loading the dataset\n",
    "(x_train, y_train), (x_test, y_test) = mnist.load_data()\n",
    "print('data loaded!')\n",
    "print(x_train.shape, y_train.shape, x_test.shape, y_test.shape)"
   ]
  },
  {
   "cell_type": "code",
   "execution_count": 15,
   "id": "a1129667",
   "metadata": {},
   "outputs": [
    {
     "name": "stdout",
     "output_type": "stream",
     "text": [
      "resizing done!\n",
      "(60000, 15, 15) (10000, 15, 15)\n"
     ]
    }
   ],
   "source": [
    "# resize images to 15*15\n",
    "\n",
    "x_train_resized = np.zeros((x_train.shape[0],15,15))\n",
    "x_test_resized = np.zeros((x_test.shape[0],15,15))\n",
    "\n",
    "# resize train images\n",
    "for i in range (x_train.shape[0]):\n",
    "    image = np.squeeze(x_train[i,:,:])\n",
    "    x_train_resized[i,:,:] = np.resize(image,(15,15))\n",
    "\n",
    "    \n",
    "# resize test images\n",
    "for i in range (x_test.shape[0]):\n",
    "    image = np.squeeze(x_test[i,:,:])\n",
    "    x_test_resized[i,:,:] = np.resize(image,(15,15))\n",
    "    \n",
    "print('resizing done!')\n",
    "print(x_train_resized.shape,x_test_resized.shape)"
   ]
  },
  {
   "cell_type": "code",
   "execution_count": 16,
   "id": "118854c9",
   "metadata": {},
   "outputs": [
    {
     "name": "stdout",
     "output_type": "stream",
     "text": [
      "vectorization done!\n",
      "(60000, 225) (10000, 225)\n"
     ]
    }
   ],
   "source": [
    "# vectorize images\n",
    "\n",
    "x_train_flat = x_train_resized.reshape(x_train_resized.shape[0],-1)\n",
    "x_test_flat = x_test_resized.reshape(x_test_resized.shape[0],-1)\n",
    "print('vectorization done!')\n",
    "print(x_train_flat.shape,x_test_flat.shape)"
   ]
  },
  {
   "cell_type": "code",
   "execution_count": 17,
   "id": "7ae161e3",
   "metadata": {},
   "outputs": [
    {
     "name": "stdout",
     "output_type": "stream",
     "text": [
      "normalization done!\n"
     ]
    }
   ],
   "source": [
    "# normalize images with train images\n",
    "from sklearn.preprocessing import StandardScaler\n",
    "\n",
    "scaler = StandardScaler()\n",
    "scaler.fit(x_train_flat)\n",
    "x_tr_norm = scaler.transform(x_train_flat)\n",
    "x_te_norm  = scaler.transform(x_train_flat)\n",
    "\n",
    "print('normalization done!')"
   ]
  },
  {
   "cell_type": "code",
   "execution_count": 38,
   "id": "4ded9b90",
   "metadata": {},
   "outputs": [
    {
     "name": "stdout",
     "output_type": "stream",
     "text": [
      "5 hot coding done!\n",
      "(60000, 50) (10000, 50)\n"
     ]
    }
   ],
   "source": [
    "# 5 hot coding the labels\n",
    "n = 5\n",
    "category_num = 10\n",
    "output_neuron_num = 50\n",
    "\n",
    "# encoding the categroies\n",
    "categories_5hot = np.zeros((category_num,output_neuron_num))\n",
    "codes = random.sample(range(output_neuron_num), output_neuron_num)\n",
    "for i in range(category_num):\n",
    "    categories_5hot[i,codes[i*n:(i+1)*n]] = 1 \n",
    "    \n",
    "y_train_5hot = n_hot_coder(y_train,n,categories_5hot)\n",
    "y_test_5hot = n_hot_coder(y_test,n,categories_5hot)\n",
    "\n",
    "    \n",
    "print('5 hot coding done!')\n",
    "print(y_train_5hot.shape, y_test_5hot.shape)"
   ]
  },
  {
   "cell_type": "code",
   "execution_count": 41,
   "id": "0e770007",
   "metadata": {},
   "outputs": [
    {
     "name": "stdout",
     "output_type": "stream",
     "text": [
      "network parameters created!\n"
     ]
    }
   ],
   "source": [
    "# create the network weights and biases from N(0,0.1)\n",
    "mu = 0\n",
    "sigma = 0.1\n",
    "\n",
    "# each layer size\n",
    "input_layer_size = 225\n",
    "hidden_layer1_size = 50\n",
    "hidden_layer2_size = 50\n",
    "hidden_layer3_size = 50\n",
    "hidden_layer4_size = 50\n",
    "output_layer_size = 50\n",
    "\n",
    "# forward weights\n",
    "w0 = np.random.normal(mu,sigma,size=(input_layer_size,hidden_layer1_size))\n",
    "w1 = np.random.normal(mu,sigma,size=(hidden_layer1_size,hidden_layer2_size))\n",
    "w2 = np.random.normal(mu,sigma,size=(hidden_layer2_size,hidden_layer3_size))\n",
    "w3 = np.random.normal(mu,sigma,size=(hidden_layer3_size,hidden_layer4_size))\n",
    "w4 = np.random.normal(mu,sigma,size=(hidden_layer4_size,output_layer_size))\n",
    "\n",
    "# backward weights\n",
    "B4 = np.random.normal(mu,sigma,size=(output_layer_size,hidden_layer4_size))\n",
    "B3 = np.random.normal(mu,sigma,size=(hidden_layer4_size,hidden_layer3_size))\n",
    "B2 = np.random.normal(mu,sigma,size=(hidden_layer3_size,hidden_layer2_size))\n",
    "B1 = np.random.normal(mu,sigma,size=(hidden_layer2_size,hidden_layer1_size))\n",
    "\n",
    "# bias vectors\n",
    "b1 =  np.random.normal(mu,sigma,hidden_layer1_size)\n",
    "b2 =  np.random.normal(mu,sigma,hidden_layer2_size)\n",
    "b3 =  np.random.normal(mu,sigma,hidden_layer3_size)\n",
    "b4 =  np.random.normal(mu,sigma,hidden_layer4_size)\n",
    "b5 =  np.random.normal(mu,sigma,output_layer_size)\n",
    "\n",
    "print('network parameters created!')"
   ]
  },
  {
   "cell_type": "code",
   "execution_count": 53,
   "id": "c092498c",
   "metadata": {},
   "outputs": [
    {
     "name": "stdout",
     "output_type": "stream",
     "text": [
      "2437.8465405193188\n",
      "2433.7585653922406\n",
      "2436.110744626964\n",
      "2432.367030859811\n",
      "2439.4114864498683\n",
      "2441.69855210311\n",
      "2439.6723791771715\n",
      "2440.2079183317105\n",
      "2440.7579733521125\n",
      "2442.967680515834\n",
      "2436.8285551630024\n",
      "2436.4293172493244\n",
      "2434.69522171533\n",
      "2439.1322873910713\n",
      "2437.0434425472345\n",
      "2440.8573780928205\n",
      "2437.72840959206\n",
      "2433.868289804873\n",
      "2433.273719316276\n",
      "2439.656970244877\n",
      "2435.215545806097\n",
      "2438.1367390304813\n",
      "2437.39861808147\n",
      "2434.642720354985\n",
      "2435.9506890574953\n",
      "2433.4211929908397\n",
      "2441.925433826372\n",
      "2439.8000670297847\n",
      "2437.9278207534694\n",
      "2433.2186541834562\n",
      "2438.8960972045234\n",
      "2437.8660218189452\n",
      "2431.299023063475\n",
      "2438.8300181763593\n",
      "2434.2302138558075\n",
      "2435.586009757286\n",
      "2435.50678552153\n",
      "2433.936272835339\n",
      "2438.3908107135\n",
      "2435.169351764775\n",
      "2435.985663181662\n",
      "2441.897061187172\n",
      "2442.345564315752\n",
      "2435.4810302305527\n",
      "2433.1928133801916\n",
      "2437.7218493044784\n",
      "2435.4555199727884\n",
      "2435.1102309675953\n",
      "2431.0285760541124\n",
      "2440.1533019763892\n",
      "2437.2070574938975\n",
      "2434.444090971228\n",
      "2443.375613963043\n",
      "2429.39658042572\n",
      "2433.483531093895\n",
      "2433.6538708530884\n",
      "2434.695311760115\n",
      "2435.685441687805\n",
      "2435.2988869628757\n",
      "2438.9305969410752\n"
     ]
    }
   ],
   "source": [
    "# run the network\n",
    "\n",
    "batch_size = 1000\n",
    "batch_num = 60\n",
    "im_size = 15*15\n",
    "input_layer = x_tr_norm.reshape((batch_num,batch_size,im_size))\n",
    "\n",
    "for i in range(batch_num):\n",
    "    # forward\n",
    "    z1 = np.matmul(input_layer[i,:,:],w0) + b1\n",
    "    hidden_layer1 = np.tanh(ReLU(z1))\n",
    "    z2 = np.matmul(hidden_layer1,w1) + b2\n",
    "    hidden_layer2 = np.tanh(ReLU(z2))\n",
    "    z3 = np.matmul(hidden_layer2,w2) + b3\n",
    "    hidden_layer3 = np.tanh(ReLU(z3))\n",
    "    z4 = np.matmul(hidden_layer3,w3) + b4\n",
    "    hidden_layer4 = np.tanh(ReLU(z4))\n",
    "    z5 = np.matmul(hidden_layer4,w4) + b5\n",
    "    output_layer = np.tanh(ReLU(z5))\n",
    "    delta5 = loss_function(output_layer,y_train_5hot[i*batch_size:(i+1)*batch_size,:])\n",
    "    print(delta5)\n",
    "    # backward the error"
   ]
  }
 ],
 "metadata": {
  "kernelspec": {
   "display_name": "Python 3",
   "language": "python",
   "name": "python3"
  },
  "language_info": {
   "codemirror_mode": {
    "name": "ipython",
    "version": 3
   },
   "file_extension": ".py",
   "mimetype": "text/x-python",
   "name": "python",
   "nbconvert_exporter": "python",
   "pygments_lexer": "ipython3",
   "version": "3.8.8"
  }
 },
 "nbformat": 4,
 "nbformat_minor": 5
}
