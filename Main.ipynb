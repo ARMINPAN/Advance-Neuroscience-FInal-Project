{
 "cells": [
  {
   "cell_type": "code",
   "execution_count": 3,
   "id": "730628ce",
   "metadata": {},
   "outputs": [],
   "source": [
    "# advance neuro project"
   ]
  },
  {
   "cell_type": "code",
   "execution_count": 1,
   "id": "2f3127b0",
   "metadata": {},
   "outputs": [],
   "source": [
    "import numpy as np\n",
    "import matplotlib.pyplot as plt\n",
    "import math\n",
    "import random"
   ]
  },
  {
   "cell_type": "code",
   "execution_count": 2,
   "id": "6cd7502c",
   "metadata": {},
   "outputs": [],
   "source": [
    "def ReLU(x):\n",
    "    zeros_mat = np.zeros(x.shape)\n",
    "    output = np.fmax(x,zeros_mat)\n",
    "    return output"
   ]
  },
  {
   "cell_type": "code",
   "execution_count": 3,
   "id": "ebfbddae",
   "metadata": {},
   "outputs": [],
   "source": [
    "def ReLU_deriv(x):\n",
    "    non_negs = np.where(x >= 0)\n",
    "    output = np.zeros(x.shape)\n",
    "    output[non_negs] = 1\n",
    "    return output"
   ]
  },
  {
   "cell_type": "code",
   "execution_count": 4,
   "id": "6d595a89",
   "metadata": {},
   "outputs": [],
   "source": [
    "def angleCal(A, B):\n",
    "    num = np.trace(np.matmul(np.conjugate(A.T), B))\n",
    "    norm_A = math.sqrt(np.trace(np.matmul(A,np.conjugate(A.T))))\n",
    "    norm_B = math.sqrt(np.trace(np.matmul(B,np.conjugate(B.T))))\n",
    "    denum = norm_A*norm_B\n",
    "    angle = np.arccos(num/denum)*180/math.pi\n",
    "    return angle"
   ]
  },
  {
   "cell_type": "code",
   "execution_count": 29,
   "id": "03a43cdd",
   "metadata": {},
   "outputs": [
    {
     "name": "stdout",
     "output_type": "stream",
     "text": [
      "simulation finished, please run the next section for the result\n"
     ]
    }
   ],
   "source": [
    "#### network parameters - open loop 2 layer network - first condition - auto correlated \n",
    "\n",
    "mu = 0\n",
    "sigma = 1\n",
    "LR = 0.002\n",
    "n_b = 100 # batch size\n",
    "number_of_iterations = 2000\n",
    "\n",
    "\n",
    "input_layer_size = 20\n",
    "hidden_layer1_size = 100\n",
    "output_layer_size = 20\n",
    "\n",
    "forward_weight_0 = np.random.normal(mu, sigma, size=(input_layer_size,hidden_layer1_size))\n",
    "forward_weight_1 = np.random.normal(mu, sigma, size=(hidden_layer1_size,output_layer_size))\n",
    "\n",
    "# here, the network is open loop and the delta2 is created randomly and kept constant during itertions\n",
    "backward_weight_1 = np.random.normal(mu, sigma, size=(output_layer_size,hidden_layer1_size))\n",
    "\n",
    "# input layer values\n",
    "input_layer = np.random.normal(mu, sigma, size=(n_b, input_layer_size)) # initial value of inputs - constant during iterations\n",
    "error_delta2 = np.random.normal(mu, sigma, size=(n_b, output_layer_size)) # initial value of error_delta 2 - constant during iterations\n",
    "error_delta1 = np.matmul(error_delta2, backward_weight_1) # initial value of error_delta1 - constant during iterations since\n",
    "# delta 2 doesn't change\n",
    "\n",
    "# updating the network parameters\n",
    "rep = 10\n",
    "angles1 = np.zeros((rep, number_of_iterations))\n",
    "\n",
    "for k in range (rep):\n",
    "    forward_weight_0 = np.random.normal(mu, sigma, size=(input_layer_size,hidden_layer1_size))\n",
    "    forward_weight_1 = np.random.normal(mu, sigma, size=(hidden_layer1_size,output_layer_size))\n",
    "    for j in range (number_of_iterations):\n",
    "        angles1[k,j] = angleCal(forward_weight_1, backward_weight_1.T)\n",
    "        Z1 = np.matmul(forward_weight_0.T, input_layer.T).T\n",
    "        hidden_layer_1 = ReLU(Z1)\n",
    "        delta1 = np.multiply(error_delta1,ReLU_deriv(Z1))\n",
    "        delta_w0 = LR*np.matmul(input_layer.T, delta1)\n",
    "        delta2 = error_delta2\n",
    "        delta_w1 = LR*np.matmul(hidden_layer_1.T, delta2)\n",
    "        forward_weight_0 += delta_w0\n",
    "        forward_weight_1 += delta_w1\n",
    "        \n",
    "print('simulation finished, please run the next section for the result')"
   ]
  },
  {
   "cell_type": "code",
   "execution_count": 8,
   "id": "2a5bfcc1",
   "metadata": {},
   "outputs": [
    {
     "data": {
      "image/png": "[encoded data removed]",
      "text/plain": [
       "<Figure size 360x360 with 1 Axes>"
      ]
     },
     "metadata": {
      "needs_background": "light"
     },
     "output_type": "display_data"
    }
   ],
   "source": [
    "## plot the result of auto correlated mode(prev part's result)\n",
    "\n",
    "    \n",
    "fig, ax = plt.subplots(1,1,figsize=(5,5));\n",
    "ax.plot(np.arange(1,number_of_iterations+1),np.mean(angles1,0));\n",
    "ax.set_ylim([0, 100]);\n",
    "ax.set_title('auto correlated');\n",
    "ax.set_ylabel('angle');\n",
    "ax.set_xlabel('iteration');\n",
    "ax.grid(True);\n",
    "\n",
    "# plot the condfidence interval over repeations\n",
    "ax.fill_between(np.arange(1,number_of_iterations+1),\\\n",
    "                np.mean(angles1,0)-np.std(angles1,axis=0), np.mean(angles1,0)+np.std(angles1,axis=0),\\\n",
    "                color='b', alpha=.1);\n"
   ]
  },
  {
   "cell_type": "code",
   "execution_count": 9,
   "id": "493dcc95",
   "metadata": {},
   "outputs": [
    {
     "name": "stdout",
     "output_type": "stream",
     "text": [
      "simulation finished, please run the next section for the result\n"
     ]
    }
   ],
   "source": [
    "#### network parameters - open loop 2 layer network - second condition - cross correlated \n",
    "\n",
    "mu = 0\n",
    "sigma = 1\n",
    "LR = 0.002\n",
    "n_b = 100 # batch size\n",
    "number_of_iterations = 2000\n",
    "\n",
    "\n",
    "input_layer_size = 20\n",
    "hidden_layer1_size = 100\n",
    "output_layer_size = 20\n",
    "\n",
    "forward_weight_0 = np.random.normal(mu, sigma, size=(input_layer_size,hidden_layer1_size))\n",
    "forward_weight_1 = np.random.normal(mu, sigma, size=(hidden_layer1_size,output_layer_size))\n",
    "\n",
    "# here, the network is open loop and the delta2 is created randomly and kept constant during itertions\n",
    "backward_weight_1 = np.random.normal(mu, sigma, size=(output_layer_size,hidden_layer1_size))\n",
    "\n",
    "# input layer values\n",
    "input_layer = np.random.normal(mu, sigma, size=(n_b, input_layer_size)) \n",
    "error_delta2 = input_layer # cross correlated with inputs of network\n",
    "error_delta1 = np.matmul(error_delta2, backward_weight_1) \n",
    "\n",
    "# updating the network parameters\n",
    "rep = 10\n",
    "angles2 = np.zeros((rep, number_of_iterations))\n",
    "\n",
    "for k in range (rep):\n",
    "    forward_weight_0 = np.random.normal(mu, sigma, size=(input_layer_size,hidden_layer1_size))\n",
    "    forward_weight_1 = np.random.normal(mu, sigma, size=(hidden_layer1_size,output_layer_size))\n",
    "    for j in range (number_of_iterations):\n",
    "        angles2[k,j] = angleCal(forward_weight_1, backward_weight_1.T)\n",
    "        Z1 = np.matmul(forward_weight_0.T, input_layer.T).T\n",
    "        hidden_layer_1 = ReLU(Z1)\n",
    "        delta1 = np.multiply(error_delta1,ReLU_deriv(Z1))\n",
    "        delta_w0 = LR*np.matmul(input_layer.T, delta1)\n",
    "        delta2 = error_delta2\n",
    "        delta_w1 = LR*np.matmul(hidden_layer_1.T, delta2)\n",
    "        forward_weight_0 += delta_w0\n",
    "        forward_weight_1 += delta_w1\n",
    "        # generate the parameters again\n",
    "        input_layer = np.random.normal(mu, sigma, size=(n_b, input_layer_size)) \n",
    "        error_delta2 = input_layer\n",
    "        error_delta1 = np.matmul(error_delta2, backward_weight_1) \n",
    "        \n",
    "print('simulation finished, please run the next section for the result')"
   ]
  },
  {
   "cell_type": "code",
   "execution_count": 10,
   "id": "98b1a322",
   "metadata": {},
   "outputs": [
    {
     "data": {
      "image/png": "[encoded data removed]",
      "text/plain": [
       "<Figure size 360x360 with 1 Axes>"
      ]
     },
     "metadata": {
      "needs_background": "light"
     },
     "output_type": "display_data"
    }
   ],
   "source": [
    "# plot the result of cross correlated mode(prev part's result)\n",
    "\n",
    "    \n",
    "fig, ax = plt.subplots(1,1,figsize=(5,5))\n",
    "ax.plot(np.arange(1,number_of_iterations+1),np.mean(angles2,0))\n",
    "ax.set_ylim([0, 100])\n",
    "ax.set_title('cross correlated')\n",
    "ax.set_ylabel('angle')\n",
    "ax.set_xlabel('iteration')\n",
    "ax.grid(True)\n",
    "\n",
    "# plot the condfidence interval over repeations\n",
    "ax.fill_between(np.arange(1,number_of_iterations+1),\\\n",
    "                np.mean(angles2,0)-np.std(angles2,axis=0), np.mean(angles2,0)+np.std(angles2,axis=0),\\\n",
    "                color='b', alpha=.1);\n"
   ]
  },
  {
   "cell_type": "code",
   "execution_count": 11,
   "id": "5b12e227",
   "metadata": {},
   "outputs": [
    {
     "name": "stdout",
     "output_type": "stream",
     "text": [
      "simulation finished, please run the next section for the result\n"
     ]
    }
   ],
   "source": [
    "#### network parameters - open loop 2 layer network - third condition - not auto correlated nor cross correlated\n",
    "\n",
    "mu = 0\n",
    "sigma = 1\n",
    "LR = 0.002\n",
    "n_b = 100 # batch size\n",
    "number_of_iterations = 2000\n",
    "\n",
    "\n",
    "input_layer_size = 20\n",
    "hidden_layer1_size = 100\n",
    "output_layer_size = 20\n",
    "\n",
    "forward_weight_0 = np.random.normal(mu, sigma, size=(input_layer_size,hidden_layer1_size))\n",
    "forward_weight_1 = np.random.normal(mu, sigma, size=(hidden_layer1_size,output_layer_size))\n",
    "\n",
    "# here, the network is open loop and the delta2 is created randomly and kept constant during itertions\n",
    "backward_weight_1 = np.random.normal(mu, sigma, size=(output_layer_size,hidden_layer1_size))\n",
    "\n",
    "# input layer values\n",
    "input_layer = np.random.normal(mu, sigma, size=(n_b, input_layer_size)) \n",
    "error_delta2 = np.random.normal(mu, sigma, size=(n_b, input_layer_size)) \n",
    "error_delta1 = np.matmul(error_delta2, backward_weight_1)\n",
    "\n",
    "# updating the network parameters\n",
    "rep = 10\n",
    "angles3 = np.zeros((rep, number_of_iterations))\n",
    "\n",
    "for k in range (rep):\n",
    "    forward_weight_0 = np.random.normal(mu, sigma, size=(input_layer_size,hidden_layer1_size))\n",
    "    forward_weight_1 = np.random.normal(mu, sigma, size=(hidden_layer1_size,output_layer_size))\n",
    "    for j in range (number_of_iterations):\n",
    "        angles3[k,j] = angleCal(forward_weight_1, backward_weight_1.T)\n",
    "        Z1 = np.matmul(forward_weight_0.T, input_layer.T).T\n",
    "        hidden_layer_1 = ReLU(Z1)\n",
    "        delta1 = np.multiply(error_delta1,ReLU_deriv(Z1))\n",
    "        delta_w0 = LR*np.matmul(input_layer.T, delta1)\n",
    "        delta2 = error_delta2\n",
    "        delta_w1 = LR*np.matmul(hidden_layer_1.T, delta2)\n",
    "        forward_weight_0 += delta_w0\n",
    "        forward_weight_1 += delta_w1\n",
    "        # generate the parameters again\n",
    "        input_layer = np.random.normal(mu, sigma, size=(n_b, input_layer_size)) \n",
    "        error_delta2 = np.random.normal(mu, sigma, size=(n_b, output_layer_size)) \n",
    "        error_delta1 = np.matmul(error_delta2, backward_weight_1) \n",
    "        \n",
    "print('simulation finished, please run the next section for the result')"
   ]
  },
  {
   "cell_type": "code",
   "execution_count": 12,
   "id": "4c92871a",
   "metadata": {},
   "outputs": [
    {
     "data": {
      "image/png": "[encoded data removed]",
      "text/plain": [
       "<Figure size 360x360 with 1 Axes>"
      ]
     },
     "metadata": {
      "needs_background": "light"
     },
     "output_type": "display_data"
    }
   ],
   "source": [
    "# plot the result of not auto correlated nor cross correlated mode(prev part's result)\n",
    "\n",
    "    \n",
    "fig, ax = plt.subplots(1,1,figsize=(5,5))\n",
    "ax.plot(np.arange(1,number_of_iterations+1),np.mean(angles3,0))\n",
    "ax.set_ylim([0, 100])\n",
    "ax.set_title('not auto correlated nor cross correlated')\n",
    "ax.set_ylabel('angle')\n",
    "ax.set_xlabel('iteration')\n",
    "ax.grid(True)\n",
    "\n",
    "# plot the condfidence interval over repeations\n",
    "ax.fill_between(np.arange(1,number_of_iterations+1),\\\n",
    "                np.mean(angles3,0)-np.std(angles3,axis=0), np.mean(angles3,0)+np.std(angles3,axis=0),\\\n",
    "                color='b', alpha=.1);\n"
   ]
  },
  {
   "cell_type": "code",
   "execution_count": 13,
   "id": "8ccfee14",
   "metadata": {},
   "outputs": [
    {
     "data": {
      "text/plain": [
       "<matplotlib.legend.Legend at 0x23f43b87a30>"
      ]
     },
     "execution_count": 13,
     "metadata": {},
     "output_type": "execute_result"
    },
    {
     "data": {
      "image/png": "[encoded data removed]",
      "text/plain": [
       "<Figure size 360x360 with 1 Axes>"
      ]
     },
     "metadata": {
      "needs_background": "light"
     },
     "output_type": "display_data"
    }
   ],
   "source": [
    "# plot the result of all three conditions together\n",
    "\n",
    "    \n",
    "fig, ax = plt.subplots(1,1,figsize=(5,5))\n",
    "\n",
    "# condition 1\n",
    "ax.plot(np.arange(1,number_of_iterations+1),np.mean(angles1,0))\n",
    "ax.set_ylim([0, 100])\n",
    "ax.set_title('alignment plot')\n",
    "ax.set_ylabel('angle')\n",
    "ax.set_xlabel('iteration')\n",
    "ax.grid(True)\n",
    "# plot the condfidence1 interval over repeations\n",
    "ax.fill_between(np.arange(1,number_of_iterations+1),\\\n",
    "                np.mean(angles1,0)-np.std(angles1,axis=0), np.mean(angles1,0)+np.std(angles1,axis=0),\\\n",
    "                color='b', alpha=.1);\n",
    "\n",
    "# condition 2\n",
    "ax.plot(np.arange(1,number_of_iterations+1),np.mean(angles2,0),color='green')\n",
    "ax.set_ylim([0, 100])\n",
    "ax.set_title('alignment plot')\n",
    "ax.set_ylabel('angle')\n",
    "ax.set_xlabel('iteration')\n",
    "ax.grid(True)\n",
    "# plot the condfidence2 interval over repeations\n",
    "ax.fill_between(np.arange(1,number_of_iterations+1),\\\n",
    "                np.mean(angles2,0)-np.std(angles2,axis=0), np.mean(angles2,0)+np.std(angles2,axis=0),\\\n",
    "                color='green', alpha=.1);\n",
    "\n",
    "# condition 3\n",
    "ax.plot(np.arange(1,number_of_iterations+1),np.mean(angles3,0),color='orange')\n",
    "ax.set_ylim([0, 100])\n",
    "ax.set_title('alignment plot')\n",
    "ax.set_ylabel('angle')\n",
    "ax.set_xlabel('iteration')\n",
    "ax.grid(True)\n",
    "# plot the condfidence3 interval over repeations\n",
    "ax.fill_between(np.arange(1,number_of_iterations+1),\\\n",
    "                np.mean(angles3,0)-np.std(angles3,axis=0), np.mean(angles3,0)+np.std(angles3,axis=0),\\\n",
    "                color='orange', alpha=.1);\n",
    "\n",
    "ax.legend(['auto_correlated, not cross_correlated','not auto_correlated, cross_correlated',\\\n",
    "           'not auto_correlated, not cross_correlated'],loc='lower right')"
   ]
  },
  {
   "cell_type": "code",
   "execution_count": 2,
   "id": "695b1655",
   "metadata": {},
   "outputs": [],
   "source": [
    "# Paper Part - 2.3 Using the provided theoretical tool to investigate FA in the learning process of a practical deep ANN\n",
    "# train and test a 5 layer network on MNIST\n",
    "# fact = tanh(ReLU) - 50 neurons in all hidden and output layer - output layer is using 5 hot coding\n",
    "# images of MNIST should be resized to 15*15 - so we have 225 neurons in input layer \n",
    "# inputs should be normalized \n",
    "# batch size = 1000, 60 batches available (total numbre of 60K images)\n",
    "# initialization of forward/ backward weights and biases is done using N(0,0.1)\n",
    "# loss function is sth like squared error, check page 5 for the details"
   ]
  },
  {
   "cell_type": "code",
   "execution_count": 42,
   "id": "942a1bf4",
   "metadata": {},
   "outputs": [],
   "source": [
    "def n_hot_coder(x,n,hot_labels,output_neuron_num):\n",
    "    category_num = 10\n",
    "    if(category_num*n > output_neuron_num):\n",
    "        print('nhot encoding can`t be done since the condition`s not met')\n",
    "        return false\n",
    "    \n",
    "    output = np.zeros((len(x),output_neuron_num))\n",
    "    \n",
    "    output[np.where(x == 0),:] = hot_labels[0,:]\n",
    "    output[np.where(x == 1),:] = hot_labels[1,:]\n",
    "    output[np.where(x == 2),:] = hot_labels[2,:]\n",
    "    output[np.where(x == 3),:] = hot_labels[3,:]\n",
    "    output[np.where(x == 4),:] = hot_labels[4,:]\n",
    "    output[np.where(x == 5),:] = hot_labels[5,:]\n",
    "    output[np.where(x == 6),:] = hot_labels[6,:]\n",
    "    output[np.where(x == 7),:] = hot_labels[7,:]\n",
    "    output[np.where(x == 8),:] = hot_labels[8,:]\n",
    "    output[np.where(x == 9),:] = hot_labels[9,:]\n",
    "\n",
    "    return output"
   ]
  },
  {
   "cell_type": "code",
   "execution_count": 43,
   "id": "6f68657c",
   "metadata": {},
   "outputs": [],
   "source": [
    "def loss_function(output_layer,labels):\n",
    "    difference = labels-output_layer\n",
    "    output = 0.5*(np.sum(difference**2))\n",
    "    return output"
   ]
  },
  {
   "cell_type": "code",
   "execution_count": 44,
   "id": "70945f45",
   "metadata": {},
   "outputs": [],
   "source": [
    "def tanh_Relu_deriv(x):\n",
    "    non_negs = np.where(x > 0)\n",
    "    output = np.zeros(x.shape)\n",
    "    output[non_negs] = 1-np.tanh(x[non_negs])**2\n",
    "    return output"
   ]
  },
  {
   "cell_type": "code",
   "execution_count": 45,
   "id": "bcfb3636",
   "metadata": {},
   "outputs": [],
   "source": [
    "def binarize_output(output,n):\n",
    "    binarized = np.zeros(output.shape)\n",
    "    n = n # n max values\n",
    "    for i in range(len(output)):\n",
    "        sorted_indices = np.argsort(output[i,:])\n",
    "        binarized[i,sorted_indices[-n:]] = 1\n",
    "    return binarized"
   ]
  },
  {
   "cell_type": "code",
   "execution_count": 46,
   "id": "99dd450d",
   "metadata": {},
   "outputs": [],
   "source": [
    "def accuracy_cal(output,label):\n",
    "    acc = 0\n",
    "    for i in range(len(output)):\n",
    "        if(sum(output[i,:] == label[i,:]) == output.shape[1]):\n",
    "            acc += 1\n",
    "  \n",
    "    acc = acc/len(output)*100 # in percentage\n",
    "    return acc"
   ]
  },
  {
   "cell_type": "code",
   "execution_count": 66,
   "id": "629c2754",
   "metadata": {},
   "outputs": [
    {
     "name": "stdout",
     "output_type": "stream",
     "text": [
      "data loaded!\n",
      "(60000, 28, 28) (60000,) (10000, 28, 28) (10000,)\n"
     ]
    }
   ],
   "source": [
    "# Load MNIST Dataset\n",
    "import tensorflow as tf\n",
    "from tensorflow import keras\n",
    "from tensorflow.keras.datasets import mnist\n",
    "\n",
    "# loading the dataset\n",
    "(x_train, y_train), (x_test, y_test) = mnist.load_data()\n",
    "print('data loaded!')\n",
    "print(x_train.shape, y_train.shape, x_test.shape, y_test.shape)\n"
   ]
  },
  {
   "cell_type": "code",
   "execution_count": 69,
   "id": "a1129667",
   "metadata": {},
   "outputs": [
    {
     "name": "stdout",
     "output_type": "stream",
     "text": [
      "resizing done!\n",
      "(60000, 15, 15) (10000, 15, 15)\n"
     ]
    }
   ],
   "source": [
    "# resize images to 15*15\n",
    "import cv2\n",
    "\n",
    "x_train_resized = np.zeros((x_train.shape[0],15,15))\n",
    "x_test_resized = np.zeros((x_test.shape[0],15,15))\n",
    "\n",
    "# resize train images\n",
    "for i in range (x_train.shape[0]):\n",
    "    image = np.squeeze(x_train[i,:,:])\n",
    "    x_train_resized[i,:,:] = cv2.resize(image,(15,15))\n",
    "\n",
    "    \n",
    "# resize test images\n",
    "for i in range (x_test.shape[0]):\n",
    "    image = np.squeeze(x_test[i,:,:])\n",
    "    x_test_resized[i,:,:] = cv2.resize(image,(15,15))\n",
    "    \n",
    "print('resizing done!')\n",
    "print(x_train_resized.shape,x_test_resized.shape)\n"
   ]
  },
  {
   "cell_type": "code",
   "execution_count": 70,
   "id": "118854c9",
   "metadata": {},
   "outputs": [
    {
     "name": "stdout",
     "output_type": "stream",
     "text": [
      "vectorization done!\n",
      "(60000, 225) (10000, 225)\n"
     ]
    }
   ],
   "source": [
    "# vectorize images\n",
    "\n",
    "x_train_flat = x_train_resized.reshape(x_train_resized.shape[0],-1)\n",
    "x_test_flat = x_test_resized.reshape(x_test_resized.shape[0],-1)\n",
    "print('vectorization done!')\n",
    "print(x_train_flat.shape,x_test_flat.shape)"
   ]
  },
  {
   "cell_type": "code",
   "execution_count": 71,
   "id": "7ae161e3",
   "metadata": {},
   "outputs": [
    {
     "name": "stdout",
     "output_type": "stream",
     "text": [
      "normalization done!\n"
     ]
    }
   ],
   "source": [
    "# normalize images\n",
    "\n",
    "x_tr_norm = x_train_flat/255\n",
    "x_te_norm  = x_test_flat/255\n",
    "\n",
    "print('normalization done!')"
   ]
  },
  {
   "cell_type": "code",
   "execution_count": 171,
   "id": "4ded9b90",
   "metadata": {
    "scrolled": false
   },
   "outputs": [
    {
     "name": "stdout",
     "output_type": "stream",
     "text": [
      "n hot coding done!\n",
      "(60000, 10) (10000, 10)\n"
     ]
    }
   ],
   "source": [
    "# n hot coding the labels\n",
    "category_num = 10\n",
    "output_neuron_num = 10\n",
    "n = int(output_neuron_num/category_num)\n",
    "\n",
    "# encoding the categroies\n",
    "categories_nhot = np.zeros((category_num,output_neuron_num))\n",
    "codes = random.sample(range(output_neuron_num), output_neuron_num)\n",
    "for i in range(category_num):\n",
    "    categories_nhot[i,codes[i*n:(i+1)*n]] = 1 \n",
    "    \n",
    "y_train_nhot = n_hot_coder(y_train,n,categories_nhot,output_neuron_num)\n",
    "y_test_nhot = n_hot_coder(y_test,n,categories_nhot,output_neuron_num)\n",
    "\n",
    "    \n",
    "print('n hot coding done!')\n",
    "print(y_train_nhot.shape, y_test_nhot.shape)"
   ]
  },
  {
   "cell_type": "code",
   "execution_count": 246,
   "id": "0e770007",
   "metadata": {},
   "outputs": [
    {
     "name": "stdout",
     "output_type": "stream",
     "text": [
      "network parameters created!\n"
     ]
    }
   ],
   "source": [
    "# create the network weights and biases from N(0,0.1)\n",
    "mu = 0\n",
    "sigma = 0.1\n",
    "\n",
    "# each layer size\n",
    "input_layer_size = 225\n",
    "hidden_layer1_size = 50\n",
    "hidden_layer2_size = 50\n",
    "hidden_layer3_size = 50\n",
    "hidden_layer4_size = 50\n",
    "output_layer_size = 10\n",
    "\n",
    "# forward weights\n",
    "w0 = np.random.normal(mu,sigma,size=(input_layer_size,hidden_layer1_size))\n",
    "w1 = np.random.normal(mu,sigma,size=(hidden_layer1_size,hidden_layer2_size))\n",
    "w2 = np.random.normal(mu,sigma,size=(hidden_layer2_size,hidden_layer3_size))\n",
    "w3 = np.random.normal(mu,sigma,size=(hidden_layer3_size,hidden_layer4_size))\n",
    "w4 = np.random.normal(mu,sigma,size=(hidden_layer4_size,output_layer_size))\n",
    "\n",
    "# backward weights\n",
    "B4 = np.random.normal(mu,sigma,size=(output_layer_size,hidden_layer4_size))\n",
    "B3 = np.random.normal(mu,sigma,size=(hidden_layer4_size,hidden_layer3_size))\n",
    "B2 = np.random.normal(mu,sigma,size=(hidden_layer3_size,hidden_layer2_size))\n",
    "B1 = np.random.normal(mu,sigma,size=(hidden_layer2_size,hidden_layer1_size))\n",
    "\n",
    "# bias vectors\n",
    "b1 =  np.random.normal(mu,sigma,hidden_layer1_size)\n",
    "b2 =  np.random.normal(mu,sigma,hidden_layer2_size)\n",
    "b3 =  np.random.normal(mu,sigma,hidden_layer3_size)\n",
    "b4 =  np.random.normal(mu,sigma,hidden_layer4_size)\n",
    "b5 =  np.random.normal(mu,sigma,output_layer_size)\n",
    "\n",
    "print('network parameters created!')"
   ]
  },
  {
   "cell_type": "code",
   "execution_count": 247,
   "id": "dabbc013",
   "metadata": {
    "scrolled": true
   },
   "outputs": [
    {
     "name": "stdout",
     "output_type": "stream",
     "text": [
      "22.59666666666667 774.0333333333333\n",
      "38.673333333333325 613.2666666666667\n",
      "53.40666666666667 465.93333333333334\n",
      "63.258333333333326 367.4166666666667\n",
      "72.03 279.7\n",
      "77.72666666666666 222.73333333333332\n",
      "80.32333333333334 196.76666666666668\n",
      "81.635 183.65\n",
      "82.485 175.15\n",
      "83.12666666666668 168.73333333333332\n",
      "83.62333333333335 163.76666666666668\n",
      "84.06833333333334 159.31666666666666\n",
      "84.465 155.35\n",
      "84.87000000000002 151.3\n",
      "85.195 148.05\n",
      "85.50499999999998 144.95\n",
      "85.76666666666667 142.33333333333334\n",
      "86.055 139.45\n",
      "86.27166666666668 137.28333333333333\n",
      "86.46000000000001 135.4\n",
      "86.69833333333332 133.01666666666668\n",
      "86.86999999999999 131.3\n",
      "87.04833333333335 129.51666666666668\n",
      "87.23166666666667 127.68333333333334\n",
      "87.43333333333332 125.66666666666667\n",
      "87.57833333333333 124.21666666666667\n",
      "87.71999999999998 122.8\n",
      "87.885 121.15\n",
      "88.03500000000001 119.65\n",
      "88.17833333333333 118.21666666666667\n",
      "88.32333333333332 116.76666666666667\n",
      "88.43333333333334 115.66666666666667\n",
      "88.55166666666666 114.48333333333333\n",
      "88.68499999999999 113.15\n",
      "88.73833333333332 112.61666666666666\n",
      "88.85833333333333 111.41666666666667\n",
      "88.9383333333333 110.61666666666666\n",
      "89.05000000000001 109.5\n",
      "89.13833333333334 108.61666666666666\n",
      "89.23499999999999 107.65\n",
      "89.315 106.85\n",
      "89.37500000000001 106.25\n",
      "89.44999999999999 105.5\n",
      "89.51666666666665 104.83333333333333\n",
      "89.61166666666665 103.88333333333334\n",
      "89.705 102.95\n",
      "89.80833333333334 101.91666666666667\n",
      "89.85833333333333 101.41666666666667\n",
      "89.96333333333335 100.36666666666666\n",
      "90.03666666666665 99.63333333333334\n",
      "90.09333333333332 99.06666666666666\n",
      "90.15666666666665 98.43333333333334\n",
      "90.18666666666667 98.13333333333334\n",
      "90.23833333333332 97.61666666666666\n",
      "90.30166666666668 96.98333333333333\n",
      "90.3566666666667 96.43333333333334\n",
      "90.42333333333333 95.76666666666667\n",
      "90.47166666666666 95.28333333333333\n",
      "90.52 94.8\n",
      "90.59 94.1\n",
      "90.64166666666668 93.58333333333333\n",
      "90.69666666666669 93.03333333333333\n",
      "90.72833333333332 92.71666666666667\n",
      "90.77833333333334 92.21666666666667\n",
      "90.825 91.75\n",
      "90.88000000000001 91.2\n",
      "90.91499999999999 90.85\n",
      "90.97666666666667 90.23333333333333\n",
      "91.00833333333334 89.91666666666667\n",
      "91.05333333333331 89.46666666666667\n",
      "91.10666666666664 88.93333333333334\n",
      "91.13833333333334 88.61666666666666\n",
      "91.17333333333333 88.26666666666667\n",
      "91.22000000000001 87.8\n",
      "91.24500000000002 87.55\n",
      "91.27666666666667 87.23333333333333\n",
      "91.34500000000001 86.55\n",
      "91.38166666666667 86.18333333333334\n",
      "91.41 85.9\n",
      "91.43999999999998 85.6\n",
      "91.4866666666667 85.13333333333334\n",
      "91.51833333333335 84.81666666666666\n",
      "91.55333333333334 84.46666666666667\n",
      "91.59499999999998 84.05\n",
      "91.61833333333333 83.81666666666666\n",
      "91.64999999999999 83.5\n",
      "91.67 83.3\n",
      "91.71166666666666 82.88333333333334\n",
      "91.74666666666666 82.53333333333333\n",
      "91.78166666666668 82.18333333333334\n",
      "91.8 82.0\n",
      "91.83333333333333 81.66666666666667\n",
      "91.86166666666666 81.38333333333334\n",
      "91.88333333333334 81.16666666666667\n",
      "91.90499999999999 80.95\n",
      "91.90833333333332 80.91666666666667\n",
      "91.92833333333334 80.71666666666667\n",
      "91.95833333333333 80.41666666666667\n",
      "91.985 80.15\n",
      "92.01000000000002 79.9\n",
      "92.04333333333334 79.56666666666666\n",
      "92.05833333333335 79.41666666666667\n",
      "92.08666666666667 79.13333333333334\n",
      "92.10000000000001 79.0\n",
      "92.11833333333334 78.81666666666666\n",
      "92.15 78.5\n",
      "92.155 78.45\n",
      "92.19333333333333 78.06666666666666\n",
      "92.21166666666666 77.88333333333334\n",
      "92.21 77.9\n",
      "92.25 77.5\n",
      "92.28666666666665 77.13333333333334\n",
      "92.31333333333332 76.86666666666666\n",
      "92.32833333333335 76.71666666666667\n",
      "92.33833333333334 76.61666666666666\n",
      "92.37000000000002 76.3\n",
      "92.38833333333334 76.11666666666666\n",
      "92.39666666666668 76.03333333333333\n",
      "92.40500000000002 75.95\n",
      "92.43833333333333 75.61666666666666\n",
      "92.45666666666668 75.43333333333334\n",
      "92.47666666666667 75.23333333333333\n",
      "92.48666666666665 75.13333333333334\n",
      "92.5183333333333 74.81666666666666\n",
      "92.53166666666665 74.68333333333334\n",
      "92.555 74.45\n",
      "92.58 74.2\n",
      "92.60166666666667 73.98333333333333\n",
      "92.63333333333335 73.66666666666667\n",
      "92.655 73.45\n",
      "92.66833333333334 73.31666666666666\n",
      "92.70166666666665 72.98333333333333\n",
      "92.70833333333333 72.91666666666667\n",
      "92.71000000000001 72.9\n",
      "92.72333333333333 72.76666666666667\n",
      "92.73166666666667 72.68333333333334\n",
      "92.76833333333335 72.31666666666666\n",
      "92.77166666666668 72.28333333333333\n",
      "92.78166666666668 72.18333333333334\n",
      "92.80666666666667 71.93333333333334\n",
      "92.81666666666668 71.83333333333333\n",
      "92.82833333333333 71.71666666666667\n",
      "92.84833333333333 71.51666666666667\n",
      "92.86833333333334 71.31666666666666\n",
      "92.88833333333334 71.11666666666666\n",
      "92.90666666666668 70.93333333333334\n",
      "92.91333333333334 70.86666666666666\n",
      "92.93 70.7\n",
      "92.945 70.55\n",
      "92.95166666666667 70.48333333333333\n",
      "92.96999999999998 70.3\n",
      "92.99333333333333 70.06666666666666\n",
      "92.98666666666666 70.13333333333334\n",
      "92.99666666666668 70.03333333333333\n",
      "93.00500000000001 69.95\n",
      "93.03 69.7\n",
      "93.05333333333334 69.46666666666667\n",
      "93.07333333333335 69.26666666666667\n",
      "93.09000000000002 69.1\n",
      "93.11333333333336 68.86666666666666\n",
      "93.12166666666668 68.78333333333333\n",
      "93.13166666666669 68.68333333333334\n",
      "93.13666666666668 68.63333333333334\n",
      "93.14166666666667 68.58333333333333\n",
      "93.17500000000001 68.25\n",
      "93.20833333333334 67.91666666666667\n",
      "93.23000000000002 67.7\n",
      "93.24000000000002 67.6\n",
      "93.25333333333334 67.46666666666667\n",
      "93.265 67.35\n",
      "93.27666666666667 67.23333333333333\n",
      "93.28833333333333 67.11666666666666\n",
      "93.29833333333333 67.01666666666667\n",
      "93.30999999999999 66.9\n",
      "93.33166666666666 66.68333333333334\n",
      "93.34666666666666 66.53333333333333\n",
      "93.365 66.35\n",
      "93.37666666666665 66.23333333333333\n",
      "93.38666666666664 66.13333333333334\n",
      "93.40666666666667 65.93333333333334\n",
      "93.40833333333335 65.91666666666667\n",
      "93.42166666666667 65.78333333333333\n",
      "93.43000000000002 65.7\n",
      "93.43666666666668 65.63333333333334\n",
      "93.44500000000001 65.55\n",
      "93.45333333333335 65.46666666666667\n",
      "93.45666666666668 65.43333333333334\n",
      "93.46333333333334 65.36666666666666\n",
      "93.485 65.15\n",
      "93.49833333333335 65.01666666666667\n",
      "93.51 64.9\n",
      "93.52333333333333 64.76666666666667\n",
      "93.525 64.75\n",
      "93.53000000000002 64.7\n",
      "93.54333333333334 64.56666666666666\n",
      "93.56666666666665 64.33333333333333\n",
      "93.57999999999998 64.2\n",
      "93.58666666666664 64.13333333333334\n",
      "93.60833333333332 63.916666666666664\n",
      "93.60333333333331 63.96666666666667\n",
      "network training done!\n"
     ]
    }
   ],
   "source": [
    "import pandas as pd\n",
    "\n",
    "# run the network - run prev part to initialize the paramters each time\n",
    "\n",
    "LR = 0.0009\n",
    "batch_size = 1000\n",
    "batch_num = 60\n",
    "im_size = 15*15\n",
    "input_layer = x_tr_norm.reshape((batch_num,batch_size,im_size))\n",
    "iterations_num = 200\n",
    "accuracy_training = np.zeros((batch_num,iterations_num))\n",
    "loss_training = np.zeros((batch_num,iterations_num))\n",
    "\n",
    "# angle between B & W\n",
    "alignment = np.zeros((4,batch_num,iterations_num))\n",
    "\n",
    "\n",
    "for j in range(iterations_num):\n",
    "    for i in range(batch_num):\n",
    "        # forward\n",
    "        z1 = np.matmul(input_layer[i,:,:],w0) + b1\n",
    "        hidden_layer1 = np.tanh(ReLU(z1))\n",
    "        z2 = np.matmul(hidden_layer1,w1) + b2\n",
    "        hidden_layer2 = np.tanh(ReLU(z2))\n",
    "        z3 = np.matmul(hidden_layer2,w2) + b3\n",
    "        hidden_layer3 = np.tanh(ReLU(z3))\n",
    "        z4 = np.matmul(hidden_layer3,w3) + b4\n",
    "        hidden_layer4 = np.tanh(ReLU(z4))\n",
    "        z5 = np.matmul(hidden_layer4,w4) + b5\n",
    "        output_layer = np.tanh(ReLU(z5))\n",
    "        \n",
    "        # backward the error\n",
    "        E = y_train_nhot[i*batch_size:(i+1)*batch_size,:]-output_layer\n",
    "        delta5 = np.multiply(E,tanh_Relu_deriv(z5))\n",
    "        delta4 = np.multiply(np.matmul(delta5,B4),tanh_Relu_deriv(z4))\n",
    "        delta3 = np.multiply(np.matmul(delta4,B3),tanh_Relu_deriv(z3))\n",
    "        delta2 = np.multiply(np.matmul(delta3,B2),tanh_Relu_deriv(z2))\n",
    "        delta1 = np.multiply(np.matmul(delta2,B1),tanh_Relu_deriv(z1))\n",
    "        \n",
    "        # update forward weights \n",
    "        w4 += LR*np.matmul(hidden_layer4.T,delta5)\n",
    "        w3 += LR*np.matmul(hidden_layer3.T,delta4)\n",
    "        w2 += LR*np.matmul(hidden_layer2.T,delta3)\n",
    "        w1 += LR*np.matmul(hidden_layer1.T,delta2)\n",
    "        w0 += LR*np.matmul(input_layer[i,:,:].T,delta1)\n",
    "        \n",
    "        # update biases\n",
    "        J = np.ones((1,batch_size))\n",
    "        b5 += np.squeeze(LR*np.matmul(J,delta5))\n",
    "        b4 += np.squeeze(LR*np.matmul(J,delta4))\n",
    "        b3 += np.squeeze(LR*np.matmul(J,delta3))\n",
    "        b2 += np.squeeze(LR*np.matmul(J,delta2))\n",
    "        b1 += np.squeeze(LR*np.matmul(J,delta1))\n",
    "        \n",
    "        # binarize output\n",
    "        n = 1\n",
    "        output_layer_binarized = binarize_output(output_layer,n)\n",
    "\n",
    "        # loss values\n",
    "        loss_training[i,j] = loss_function(output_layer_binarized,y_train_nhot[i*batch_size:(i+1)*batch_size,:])\n",
    "        accuracy_training[i,j] = accuracy_cal(output_layer_binarized,y_train_nhot[i*batch_size:(i+1)*batch_size,:]);\n",
    "        \n",
    "        # cal the angle between B & W\n",
    "        alignment[0,i,j] = angleCal(w1,B1.T)\n",
    "        alignment[1,i,j] = angleCal(w2,B2.T) \n",
    "        alignment[2,i,j] = angleCal(w3,B3.T) \n",
    "        alignment[3,i,j] = angleCal(w4,B4.T) \n",
    "    \n",
    "    print(np.mean(accuracy_training[:,j]),np.mean(loss_training[:,j]))\n",
    "\n",
    "print('network training done!')"
   ]
  },
  {
   "cell_type": "code",
   "execution_count": 248,
   "id": "1bff9563",
   "metadata": {
    "scrolled": true
   },
   "outputs": [
    {
     "data": {
      "image/png": "[encoded data removed]",
      "text/plain": [
       "<Figure size 720x360 with 2 Axes>"
      ]
     },
     "metadata": {
      "needs_background": "light"
     },
     "output_type": "display_data"
    }
   ],
   "source": [
    "fig, ax = plt.subplots(1,2,figsize=(10,5))\n",
    "ax[0].plot(np.arange(1,iterations_num+1),np.mean(accuracy_training,axis=0))\n",
    "ax[1].plot(np.arange(1,iterations_num+1),np.mean(loss_training,axis=0))\n",
    "ax[0].set_title('training accuarcy')\n",
    "ax[0].set_xlabel('iteration')\n",
    "ax[1].set_title('training loss function value')\n",
    "ax[1].set_xlabel('iteration')\n",
    "ax[0].grid(True)\n",
    "ax[1].grid(True)"
   ]
  },
  {
   "cell_type": "code",
   "execution_count": 249,
   "id": "0930463b",
   "metadata": {},
   "outputs": [
    {
     "name": "stdout",
     "output_type": "stream",
     "text": [
      "accuracy:  93.31  | loss value:  0.0669\n",
      "done!\n"
     ]
    }
   ],
   "source": [
    "import pandas as pd\n",
    "\n",
    "# accuracy on test data\n",
    "\n",
    "batch_size = 1\n",
    "batch_num = int(x_te_norm.shape[0]/batch_size)\n",
    "im_size = 15*15\n",
    "input_layer = x_te_norm.reshape((batch_num,batch_size,im_size))\n",
    "accuracy_training = np.zeros((batch_num))\n",
    "loss_training = np.zeros((batch_num))\n",
    "\n",
    "for i in range(batch_num):\n",
    "    # forward\n",
    "    z1 = np.matmul(input_layer[i,:,:],w0) + b1\n",
    "    hidden_layer1 = np.tanh(ReLU(z1))\n",
    "    z2 = np.matmul(hidden_layer1,w1) + b2\n",
    "    hidden_layer2 = np.tanh(ReLU(z2))\n",
    "    z3 = np.matmul(hidden_layer2,w2) + b3\n",
    "    hidden_layer3 = np.tanh(ReLU(z3))\n",
    "    z4 = np.matmul(hidden_layer3,w3) + b4\n",
    "    hidden_layer4 = np.tanh(ReLU(z4))\n",
    "    z5 = np.matmul(hidden_layer4,w4) + b5\n",
    "    output_layer = np.tanh(ReLU(z5))\n",
    "\n",
    "    # binarize output\n",
    "    n = 1\n",
    "    output_layer_binarized = binarize_output(output_layer,n)\n",
    "    \n",
    "    # loss val and accuracy\n",
    "    loss_training[i] = loss_function(output_layer_binarized,y_test_nhot[i*batch_size:(i+1)*batch_size,:])\n",
    "    accuracy_training[i] = accuracy_cal(output_layer_binarized,y_test_nhot[i*batch_size:(i+1)*batch_size,:]);\n",
    "\n",
    "print('accuracy: ',np.mean(accuracy_training),' | loss value: ', np.mean(loss_training))\n",
    "print('done!')"
   ]
  },
  {
   "cell_type": "code",
   "execution_count": 252,
   "id": "92888303",
   "metadata": {
    "scrolled": true
   },
   "outputs": [
    {
     "data": {
      "image/png": "[encoded data removed]",
      "text/plain": [
       "<Figure size 360x360 with 1 Axes>"
      ]
     },
     "metadata": {
      "needs_background": "light"
     },
     "output_type": "display_data"
    }
   ],
   "source": [
    "# angle between backward weights and forward weights\n",
    "fig, ax = plt.subplots(1,1,figsize=(5,5))\n",
    "\n",
    "ax.plot(np.arange(1,iterations_num+1),np.mean(alignment[0,:,:],axis=0))\n",
    "ax.plot(np.arange(1,iterations_num+1),np.mean(alignment[1,:,:],axis=0))\n",
    "ax.plot(np.arange(1,iterations_num+1),np.mean(alignment[2,:,:],axis=0))\n",
    "ax.plot(np.arange(1,iterations_num+1),np.mean(alignment[3,:,:],axis=0))\n",
    "\n",
    "\n",
    "ax.set_ylabel('angle')\n",
    "ax.set_xlabel('iteration')\n",
    "ax.legend(['w1 & B1.T','w2 & B2.T','w3 & B3.T','w4 & B4.T'],loc='best')\n",
    "ax.grid(True)"
   ]
  }
 ],
 "metadata": {
  "kernelspec": {
   "display_name": "Python 3",
   "language": "python",
   "name": "python3"
  },
  "language_info": {
   "codemirror_mode": {
    "name": "ipython",
    "version": 3
   },
   "file_extension": ".py",
   "mimetype": "text/x-python",
   "name": "python",
   "nbconvert_exporter": "python",
   "pygments_lexer": "ipython3",
   "version": "3.8.8"
  }
 },
 "nbformat": 4,
 "nbformat_minor": 5
}
