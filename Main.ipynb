{
  "cells": [
    {
      "cell_type": "markdown",
      "metadata": {
        "id": "view-in-github",
        "colab_type": "text"
      },
      "source": [
        "<a href=\"https://colab.research.google.com/github/ARMINPAN/Advance-Neuroscience-Final-Project/blob/main/Main.ipynb\" target=\"_parent\"><img src=\"https://colab.research.google.com/assets/colab-badge.svg\" alt=\"Open In Colab\"/></a>"
      ]
    },
    {
      "cell_type": "code",
      "execution_count": null,
      "id": "730628ce",
      "metadata": {
        "id": "730628ce"
      },
      "outputs": [],
      "source": [
        "# advance neuro project"
      ]
    },
    {
      "cell_type": "code",
      "execution_count": 10,
      "id": "2f3127b0",
      "metadata": {
        "id": "2f3127b0"
      },
      "outputs": [],
      "source": [
        "import numpy as np\n",
        "import matplotlib.pyplot as plt\n",
        "import math\n",
        "import random\n",
        "import torch"
      ]
    },
    {
      "cell_type": "code",
      "execution_count": 11,
      "id": "d2f04c90",
      "metadata": {
        "id": "d2f04c90"
      },
      "outputs": [],
      "source": [
        "# select the device to run the code on\n",
        "if torch.cuda.is_available():  \n",
        "  dev = \"cuda:0\" \n",
        "else:  \n",
        "  dev = \"cpu\" "
      ]
    },
    {
      "cell_type": "code",
      "execution_count": 12,
      "id": "6cd7502c",
      "metadata": {
        "id": "6cd7502c"
      },
      "outputs": [],
      "source": [
        "def ReLU(x):\n",
        "    zeros_mat = torch.zeros(x.shape, device=dev)\n",
        "    output = torch.fmax(x, zeros_mat)\n",
        "    return output"
      ]
    },
    {
      "cell_type": "code",
      "execution_count": 13,
      "id": "ebfbddae",
      "metadata": {
        "id": "ebfbddae"
      },
      "outputs": [],
      "source": [
        "def ReLU_deriv(x):\n",
        "    non_negs = torch.where(x >= 0)\n",
        "    output = torch.zeros(x.shape, device=dev)\n",
        "    output[non_negs] = 1\n",
        "    return output"
      ]
    },
    {
      "cell_type": "code",
      "execution_count": 14,
      "id": "6d595a89",
      "metadata": {
        "id": "6d595a89"
      },
      "outputs": [],
      "source": [
        "def angleCal(A, B):\n",
        "    num = torch.trace(torch.matmul(torch.conj(A.T), B))\n",
        "    norm_A = math.sqrt(torch.trace(torch.matmul(A,torch.conj(A.T))))\n",
        "    norm_B = math.sqrt(torch.trace(torch.matmul(B,torch.conj(B.T))))\n",
        "    denum = norm_A*norm_B\n",
        "    angle = torch.arccos(num/denum)*180/math.pi\n",
        "    return angle"
      ]
    },
    {
      "cell_type": "code",
      "execution_count": 6,
      "id": "03a43cdd",
      "metadata": {
        "colab": {
          "base_uri": "https://localhost:8080/"
        },
        "id": "03a43cdd",
        "outputId": "79c3fe3e-749b-48cd-d840-b0cd1ccbd818"
      },
      "outputs": [
        {
          "output_type": "stream",
          "name": "stdout",
          "text": [
            "simulation finished, please run the next section for the result\n"
          ]
        }
      ],
      "source": [
        "#### network parameters - open loop 2 layer network - first condition - auto correlated \n",
        "\n",
        "mu = 0\n",
        "sigma = 1\n",
        "LR = 0.002\n",
        "n_b = 100 # batch size\n",
        "number_of_iterations = 2000\n",
        "\n",
        "\n",
        "input_layer_size = 20\n",
        "hidden_layer1_size = 100\n",
        "output_layer_size = 20\n",
        "\n",
        "# updating the network parameters\n",
        "epoch_num = 10\n",
        "angles1 = torch.zeros((epoch_num, number_of_iterations), device=dev)\n",
        "\n",
        "for k in range (epoch_num):\n",
        "    forward_weight_0 = torch.normal(mu, sigma, size=(input_layer_size,hidden_layer1_size), device=dev)\n",
        "    forward_weight_1 = torch.normal(mu, sigma, size=(hidden_layer1_size,output_layer_size), device=dev)\n",
        "    backward_weight_1 = torch.normal(mu, sigma, size=(output_layer_size,hidden_layer1_size), device=dev)\n",
        "    \n",
        "    # input layer values - # move on gpu\n",
        "    input_layer = torch.normal(mu, sigma, size=(n_b, input_layer_size), device=dev) # initial value of inputs - constant during iterations\n",
        "    error_delta2 = torch.normal(mu, sigma, size=(n_b, output_layer_size), device=dev) # initial value of error_delta 2 - constant during iterations\n",
        "    error_delta1 = torch.matmul(error_delta2, backward_weight_1) # initial value of error_delta1 - constant during iterations since\n",
        "    \n",
        "    for j in range (number_of_iterations):\n",
        "        angles1[k,j] = angleCal(forward_weight_1, backward_weight_1.T)\n",
        "        Z1 = torch.matmul(input_layer, forward_weight_0)\n",
        "        hidden_layer_1 = ReLU(Z1)\n",
        "        delta1 = torch.multiply(error_delta1,ReLU_deriv(Z1))\n",
        "        delta_w0 = LR*torch.matmul(input_layer.T, delta1)\n",
        "        delta2 = error_delta2\n",
        "        delta_w1 = LR*torch.matmul(hidden_layer_1.T, delta2)\n",
        "        forward_weight_0 += delta_w0\n",
        "        forward_weight_1 += delta_w1\n",
        "        \n",
        "print('simulation finished, please run the next section for the result')"
      ]
    },
    {
      "cell_type": "code",
      "execution_count": 7,
      "id": "2a5bfcc1",
      "metadata": {
        "colab": {
          "base_uri": "https://localhost:8080/",
          "height": 350
        },
        "id": "2a5bfcc1",
        "outputId": "649deb7c-daf8-4ce5-a95f-4b21704834bf"
      },
      "outputs": [
        {
          "output_type": "display_data",
          "data": {
            "text/plain": [
              "<Figure size 360x360 with 1 Axes>"
            ],
            "image/png": "[encoded data removed]"
          },
          "metadata": {
            "needs_background": "light"
          }
        }
      ],
      "source": [
        "## plot the result of auto correlated mode(prev part's result)\n",
        "\n",
        "    \n",
        "fig, ax = plt.subplots(1,1,figsize=(5,5));\n",
        "ax.plot(np.arange(1,number_of_iterations+1),np.mean(angles1.cpu().numpy(),0));\n",
        "ax.set_ylim([0, 100]);\n",
        "ax.set_title('auto correlated');\n",
        "ax.set_ylabel('angle');\n",
        "ax.set_xlabel('iteration');\n",
        "ax.grid(True);\n",
        "\n",
        "# plot the condfidence interval over repeations\n",
        "ax.fill_between(np.arange(1,number_of_iterations+1),\\\n",
        "                np.mean(angles1.cpu().numpy(),0)-np.std(angles1.cpu().numpy(),axis=0),\\\n",
        "                np.mean(angles1.cpu().numpy(),0)+np.std(angles1.cpu().numpy(),axis=0),\\\n",
        "                color='b', alpha=.1);\n"
      ]
    },
    {
      "cell_type": "code",
      "execution_count": 8,
      "id": "493dcc95",
      "metadata": {
        "colab": {
          "base_uri": "https://localhost:8080/"
        },
        "id": "493dcc95",
        "outputId": "372d4632-1987-4eeb-8e10-a343ab5f0f40"
      },
      "outputs": [
        {
          "output_type": "stream",
          "name": "stdout",
          "text": [
            "simulation finished, please run the next section for the result\n"
          ]
        }
      ],
      "source": [
        "#### network parameters - open loop 2 layer network - second condition - cross correlated \n",
        "\n",
        "mu = 0\n",
        "sigma = 1\n",
        "LR = 0.002\n",
        "n_b = 100 # batch size\n",
        "number_of_iterations = 2000\n",
        "\n",
        "\n",
        "input_layer_size = 20\n",
        "hidden_layer1_size = 100\n",
        "output_layer_size = 20\n",
        "\n",
        "# updating the network parameters\n",
        "epoch_num = 10\n",
        "angles2 = torch.zeros((epoch_num, number_of_iterations), device=dev)\n",
        "\n",
        "for k in range (epoch_num):\n",
        "    forward_weight_0 = torch.normal(mu, sigma, size=(input_layer_size,hidden_layer1_size), device=dev)\n",
        "    forward_weight_1 = torch.normal(mu, sigma, size=(hidden_layer1_size,output_layer_size), device=dev)\n",
        "    backward_weight_1 = torch.normal(mu, sigma, size=(output_layer_size,hidden_layer1_size), device=dev)\n",
        "\n",
        "    # input layer values\n",
        "    input_layer = torch.normal(mu, sigma, size=(n_b, input_layer_size), device=dev) \n",
        "    error_delta2 = torch.clone(input_layer) # cross correlated with inputs of network\n",
        "    error_delta1 = torch.matmul(error_delta2, backward_weight_1) \n",
        "    \n",
        "    for j in range (number_of_iterations):\n",
        "        angles2[k,j] = angleCal(forward_weight_1, backward_weight_1.T)\n",
        "        Z1 = torch.matmul(input_layer, forward_weight_0)\n",
        "        hidden_layer_1 = ReLU(Z1)\n",
        "        delta1 = torch.multiply(error_delta1,ReLU_deriv(Z1))\n",
        "        delta_w0 = LR*torch.matmul(input_layer.T, delta1)\n",
        "        delta2 = torch.clone(error_delta2)\n",
        "        delta_w1 = LR*torch.matmul(hidden_layer_1.T, delta2)\n",
        "        forward_weight_0 += delta_w0\n",
        "        forward_weight_1 += delta_w1\n",
        "        # generate the parameters again\n",
        "        input_layer = torch.normal(mu, sigma, size=(n_b, input_layer_size), device=dev) \n",
        "        error_delta2 = torch.clone(input_layer)\n",
        "        error_delta1 = torch.matmul(error_delta2, backward_weight_1) \n",
        "        \n",
        "print('simulation finished, please run the next section for the result')"
      ]
    },
    {
      "cell_type": "code",
      "execution_count": 9,
      "id": "98b1a322",
      "metadata": {
        "colab": {
          "base_uri": "https://localhost:8080/",
          "height": 350
        },
        "id": "98b1a322",
        "outputId": "2824e4db-af02-41a8-fc42-c4eab6424fe3"
      },
      "outputs": [
        {
          "output_type": "display_data",
          "data": {
            "text/plain": [
              "<Figure size 360x360 with 1 Axes>"
            ],
            "image/png": "[encoded data removed]"
          },
          "metadata": {
            "needs_background": "light"
          }
        }
      ],
      "source": [
        "# plot the result of cross correlated mode(prev part's result)\n",
        "\n",
        "    \n",
        "fig, ax = plt.subplots(1,1,figsize=(5,5))\n",
        "ax.plot(np.arange(1,number_of_iterations+1),np.mean(angles2.cpu().numpy(),0))\n",
        "ax.set_ylim([0, 100])\n",
        "ax.set_title('cross correlated')\n",
        "ax.set_ylabel('angle')\n",
        "ax.set_xlabel('iteration')\n",
        "ax.grid(True)\n",
        "\n",
        "# plot the condfidence interval over repeations\n",
        "ax.fill_between(np.arange(1,number_of_iterations+1),\\\n",
        "                np.mean(angles2.cpu().numpy(),0)-np.std(angles2.cpu().numpy(),axis=0),\\\n",
        "                np.mean(angles2.cpu().numpy(),0)+np.std(angles2.cpu().numpy(),axis=0),\\\n",
        "                color='b', alpha=.1);\n"
      ]
    },
    {
      "cell_type": "code",
      "execution_count": 10,
      "id": "5b12e227",
      "metadata": {
        "colab": {
          "base_uri": "https://localhost:8080/"
        },
        "id": "5b12e227",
        "outputId": "953ea60b-71b6-4481-c5ed-eb8e5c60ce6c"
      },
      "outputs": [
        {
          "output_type": "stream",
          "name": "stdout",
          "text": [
            "simulation finished, please run the next section for the result\n"
          ]
        }
      ],
      "source": [
        "#### network parameters - open loop 2 layer network - third condition - not auto correlated nor cross correlated\n",
        "\n",
        "mu = 0\n",
        "sigma = 1\n",
        "LR = 0.002\n",
        "n_b = 100 # batch size\n",
        "number_of_iterations = 2000\n",
        "\n",
        "\n",
        "input_layer_size = 20\n",
        "hidden_layer1_size = 100\n",
        "output_layer_size = 20\n",
        "\n",
        "# updating the network parameters\n",
        "epoch_num = 10\n",
        "angles3 = torch.zeros((epoch_num, number_of_iterations), device=dev)\n",
        "\n",
        "for k in range (epoch_num):\n",
        "    forward_weight_0 = torch.normal(mu, sigma, size=(input_layer_size,hidden_layer1_size), device=dev)\n",
        "    forward_weight_1 = torch.normal(mu, sigma, size=(hidden_layer1_size,output_layer_size), device=dev)\n",
        "    backward_weight_1 = torch.normal(mu, sigma, size=(output_layer_size,hidden_layer1_size), device=dev)\n",
        "\n",
        "    # input layer values\n",
        "    input_layer = torch.normal(mu, sigma, size=(n_b, input_layer_size), device=dev) \n",
        "    error_delta2 = torch.normal(mu, sigma, size=(n_b, input_layer_size), device=dev) \n",
        "    error_delta1 = torch.matmul(error_delta2, backward_weight_1)\n",
        "\n",
        "    for j in range (number_of_iterations):\n",
        "        angles3[k,j] = angleCal(forward_weight_1, backward_weight_1.T)\n",
        "        Z1 = torch.matmul(forward_weight_0.T, input_layer.T).T\n",
        "        hidden_layer_1 = ReLU(Z1)\n",
        "        delta1 = torch.multiply(error_delta1,ReLU_deriv(Z1))\n",
        "        delta_w0 = LR*torch.matmul(input_layer.T, delta1)\n",
        "        delta2 = error_delta2\n",
        "        delta_w1 = LR*torch.matmul(hidden_layer_1.T, delta2)\n",
        "        forward_weight_0 += delta_w0\n",
        "        forward_weight_1 += delta_w1\n",
        "        # generate the parameters again\n",
        "        input_layer = torch.normal(mu, sigma, size=(n_b, input_layer_size), device=dev) \n",
        "        error_delta2 = torch.normal(mu, sigma, size=(n_b, output_layer_size), device=dev) \n",
        "        error_delta1 = torch.matmul(error_delta2, backward_weight_1) \n",
        "        \n",
        "print('simulation finished, please run the next section for the result')"
      ]
    },
    {
      "cell_type": "code",
      "execution_count": 11,
      "id": "4c92871a",
      "metadata": {
        "colab": {
          "base_uri": "https://localhost:8080/",
          "height": 350
        },
        "id": "4c92871a",
        "outputId": "4e8ccfa5-a3ac-4ba6-ff50-10fc5f3ab6e3"
      },
      "outputs": [
        {
          "output_type": "display_data",
          "data": {
            "text/plain": [
              "<Figure size 360x360 with 1 Axes>"
            ],
            "image/png": "[encoded data removed]"
          },
          "metadata": {
            "needs_background": "light"
          }
        }
      ],
      "source": [
        "# plot the result of not auto correlated nor cross correlated mode(prev part's result)\n",
        "\n",
        "    \n",
        "fig, ax = plt.subplots(1,1,figsize=(5,5))\n",
        "ax.plot(np.arange(1,number_of_iterations+1),np.mean(angles3.cpu().numpy(),0))\n",
        "ax.set_ylim([0, 100])\n",
        "ax.set_title('not auto correlated nor cross correlated')\n",
        "ax.set_ylabel('angle')\n",
        "ax.set_xlabel('iteration')\n",
        "ax.grid(True)\n",
        "\n",
        "# plot the condfidence interval over repeations\n",
        "ax.fill_between(np.arange(1,number_of_iterations+1),\\\n",
        "                np.mean(angles3.cpu().numpy(),0)-np.std(angles3.cpu().numpy(),axis=0),\\\n",
        "                np.mean(angles3.cpu().numpy(),0)+np.std(angles3.cpu().numpy(),axis=0),\\\n",
        "                color='b', alpha=.1);\n"
      ]
    },
    {
      "cell_type": "code",
      "execution_count": 12,
      "id": "a8dfb9eb",
      "metadata": {
        "colab": {
          "base_uri": "https://localhost:8080/"
        },
        "id": "a8dfb9eb",
        "outputId": "5a102e3f-aaa7-4456-899a-e0d7da82a612"
      },
      "outputs": [
        {
          "output_type": "stream",
          "name": "stdout",
          "text": [
            "simulation finished, please run the next section for the result\n"
          ]
        }
      ],
      "source": [
        "#### network parameters - open loop 2 layer network - forth condition - auto correlated & cross correlated\n",
        "\n",
        "mu = 0\n",
        "sigma = 1\n",
        "LR = 0.002\n",
        "n_b = 100 # batch size\n",
        "number_of_iterations = 2000\n",
        "\n",
        "\n",
        "input_layer_size = 20\n",
        "hidden_layer1_size = 100\n",
        "output_layer_size = 20\n",
        "\n",
        "# updating the network parameters\n",
        "epoch_num = 10\n",
        "angles4 = torch.zeros((epoch_num, number_of_iterations), device=dev)\n",
        "\n",
        "for k in range (epoch_num):\n",
        "    forward_weight_0 = torch.normal(mu, sigma, size=(input_layer_size,hidden_layer1_size), device=dev)\n",
        "    forward_weight_1 = torch.normal(mu, sigma, size=(hidden_layer1_size,output_layer_size), device=dev)\n",
        "    backward_weight_1 = torch.normal(mu, sigma, size=(output_layer_size,hidden_layer1_size), device=dev)\n",
        "\n",
        "    # input layer values\n",
        "    input_layer = torch.normal(mu, sigma, size=(n_b, input_layer_size), device=dev) # initial value of inputs - constant during iterations\n",
        "    error_delta2 = input_layer # initial value of error_delta 2 - constant during iterations\n",
        "    error_delta1 = torch.matmul(error_delta2, backward_weight_1) # initial value of error_delta1 - constant during iterations since\n",
        "    # delta 2 doesn't change\n",
        "\n",
        "    for j in range (number_of_iterations):\n",
        "        angles4[k,j] = angleCal(forward_weight_1, backward_weight_1.T)\n",
        "        Z1 = torch.matmul(input_layer, forward_weight_0)\n",
        "        hidden_layer_1 = ReLU(Z1)\n",
        "        delta1 = torch.multiply(error_delta1,ReLU_deriv(Z1))\n",
        "        delta_w0 = LR*torch.matmul(input_layer.T, delta1)\n",
        "        delta2 = error_delta2\n",
        "        delta_w1 = LR*torch.matmul(hidden_layer_1.T, delta2)\n",
        "        forward_weight_0 += delta_w0\n",
        "        forward_weight_1 += delta_w1\n",
        "        \n",
        "print('simulation finished, please run the next section for the result')"
      ]
    },
    {
      "cell_type": "code",
      "execution_count": 13,
      "id": "ea56cd8f",
      "metadata": {
        "colab": {
          "base_uri": "https://localhost:8080/",
          "height": 350
        },
        "id": "ea56cd8f",
        "outputId": "658c21d0-9d2e-4602-f537-49203d0f33a4"
      },
      "outputs": [
        {
          "output_type": "display_data",
          "data": {
            "text/plain": [
              "<Figure size 360x360 with 1 Axes>"
            ],
            "image/png": "[encoded data removed]"
          },
          "metadata": {
            "needs_background": "light"
          }
        }
      ],
      "source": [
        "# plot the result of auto correlated & cross correlated mode(prev part's result)\n",
        "\n",
        "    \n",
        "fig, ax = plt.subplots(1,1,figsize=(5,5))\n",
        "ax.plot(np.arange(1,number_of_iterations+1),np.mean(angles4.cpu().numpy(),0))\n",
        "ax.set_ylim([0, 100])\n",
        "ax.set_title('auto correlated & cross correlated')\n",
        "ax.set_ylabel('angle')\n",
        "ax.set_xlabel('iteration')\n",
        "ax.grid(True)\n",
        "\n",
        "# plot the condfidence interval over repeations\n",
        "ax.fill_between(np.arange(1,number_of_iterations+1),\\\n",
        "                np.mean(angles4.cpu().numpy(),0)-np.std(angles4.cpu().numpy(),axis=0),\\\n",
        "                np.mean(angles4.cpu().numpy(),0)+np.std(angles4.cpu().numpy(),axis=0),\\\n",
        "                color='b', alpha=.1);\n"
      ]
    },
    {
      "cell_type": "code",
      "execution_count": 14,
      "id": "8ccfee14",
      "metadata": {
        "colab": {
          "base_uri": "https://localhost:8080/",
          "height": 367
        },
        "id": "8ccfee14",
        "outputId": "5543b781-d6d1-4c2b-eb2e-983e65f4327d"
      },
      "outputs": [
        {
          "output_type": "execute_result",
          "data": {
            "text/plain": [
              "<matplotlib.legend.Legend at 0x7fc31c69fad0>"
            ]
          },
          "metadata": {},
          "execution_count": 14
        },
        {
          "output_type": "display_data",
          "data": {
            "text/plain": [
              "<Figure size 360x360 with 1 Axes>"
            ],
            "image/png": "[encoded data removed]"
          },
          "metadata": {
            "needs_background": "light"
          }
        }
      ],
      "source": [
        "# plot the result of all three conditions together\n",
        "\n",
        "    \n",
        "fig, ax = plt.subplots(1,1,figsize=(5,5))\n",
        "\n",
        "# condition 1\n",
        "ax.plot(np.arange(1,number_of_iterations+1),np.mean(angles1.cpu().numpy(),0))\n",
        "ax.set_ylim([0, 100])\n",
        "ax.set_title('alignment plot')\n",
        "ax.set_ylabel('angle')\n",
        "ax.set_xlabel('iteration')\n",
        "ax.grid(True)\n",
        "# plot the condfidence1 interval over repeations\n",
        "ax.fill_between(np.arange(1,number_of_iterations+1),\\\n",
        "                np.mean(angles1.cpu().numpy(),0)-np.std(angles1.cpu().numpy(),axis=0),\\\n",
        "                np.mean(angles1.cpu().numpy(),0)+np.std(angles1.cpu().numpy(),axis=0),\\\n",
        "                color='b', alpha=.1);\n",
        "\n",
        "# condition 2\n",
        "ax.plot(np.arange(1,number_of_iterations+1),np.mean(angles2.cpu().numpy(),0),color='green')\n",
        "ax.set_ylim([0, 100])\n",
        "ax.set_title('alignment plot')\n",
        "ax.set_ylabel('angle')\n",
        "ax.set_xlabel('iteration')\n",
        "ax.grid(True)\n",
        "# plot the condfidence2 interval over repeations\n",
        "ax.fill_between(np.arange(1,number_of_iterations+1),\\\n",
        "                np.mean(angles2.cpu().numpy(),0)-np.std(angles2.cpu().numpy(),axis=0),\\\n",
        "                np.mean(angles2.cpu().numpy(),0)+np.std(angles2.cpu().numpy(),axis=0),\\\n",
        "                color='green', alpha=.1);\n",
        "\n",
        "# condition 3\n",
        "ax.plot(np.arange(1,number_of_iterations+1),np.mean(angles3.cpu().numpy(),0),color='orange')\n",
        "ax.set_ylim([0, 100])\n",
        "ax.set_title('alignment plot')\n",
        "ax.set_ylabel('angle')\n",
        "ax.set_xlabel('iteration')\n",
        "ax.grid(True)\n",
        "# plot the condfidence3 interval over repeations\n",
        "ax.fill_between(np.arange(1,number_of_iterations+1),\\\n",
        "                np.mean(angles3.cpu().numpy(),0)-np.std(angles3.cpu().numpy(),axis=0),\\\n",
        "                np.mean(angles3.cpu().numpy(),0)+np.std(angles3.cpu().numpy(),axis=0),\\\n",
        "                color='orange', alpha=.1);\n",
        "\n",
        "# condition 4\n",
        "ax.plot(np.arange(1,number_of_iterations+1),np.mean(angles4.cpu().numpy(),0),color='red')\n",
        "ax.set_ylim([0, 100])\n",
        "ax.set_title('alignment plot')\n",
        "ax.set_ylabel('angle')\n",
        "ax.set_xlabel('iteration')\n",
        "ax.grid(True)\n",
        "# plot the condfidence4 interval over repeations\n",
        "ax.fill_between(np.arange(1,number_of_iterations+1),\\\n",
        "                np.mean(angles4.cpu().numpy(),0)-np.std(angles4.cpu().numpy(),axis=0),\\\n",
        "                np.mean(angles4.cpu().numpy(),0)+np.std(angles4.cpu().numpy(),axis=0),\\\n",
        "                color='red', alpha=.1);\n",
        "\n",
        "ax.legend(['auto_correlated, not cross_correlated','not auto_correlated, cross_correlated',\\\n",
        "           'not auto_correlated, not cross_correlated',\\\n",
        "          'auto_correlated, cross_correlated'],loc='lower right')"
      ]
    },
    {
      "cell_type": "code",
      "execution_count": 15,
      "id": "695b1655",
      "metadata": {
        "id": "695b1655"
      },
      "outputs": [],
      "source": [
        "# Paper Part - 2.3 Using the provided theoretical tool to investigate FA in the learning process of a practical deep ANN\n",
        "# train and test a 5 layer network on MNIST\n",
        "# fact = tanh(ReLU) - 50 neurons in all hidden and output layer - output layer is using 5 hot coding\n",
        "# images of MNIST should be resized to 15*15 - so we have 225 neurons in input layer \n",
        "# inputs should be normalized \n",
        "# batch size = 1000, 60 batches available (total numbre of 60K images)\n",
        "# initialization of forward/ backward weights and biases is done using N(0,0.1)\n",
        "# loss function is sth like squared error, check page 5 for the details"
      ]
    },
    {
      "cell_type": "code",
      "execution_count": 15,
      "id": "942a1bf4",
      "metadata": {
        "id": "942a1bf4"
      },
      "outputs": [],
      "source": [
        "def n_hot_coder(x,n,hot_labels,output_neuron_num):\n",
        "    labels = x.cpu().numpy()\n",
        "    category_num = 10\n",
        "    if(category_num*n > output_neuron_num):\n",
        "        print('nhot encoding can`t be done since the condition`s not met')\n",
        "        return false\n",
        "    \n",
        "    output = torch.zeros((len(x),output_neuron_num), device=dev)\n",
        "    \n",
        "    output[np.where(labels == 0),:] = hot_labels[0,:]\n",
        "    output[np.where(labels == 1),:] = hot_labels[1,:]\n",
        "    output[np.where(labels == 2),:] = hot_labels[2,:]\n",
        "    output[np.where(labels == 3),:] = hot_labels[3,:]\n",
        "    output[np.where(labels == 4),:] = hot_labels[4,:]\n",
        "    output[np.where(labels == 5),:] = hot_labels[5,:]\n",
        "    output[np.where(labels == 6),:] = hot_labels[6,:]\n",
        "    output[np.where(labels == 7),:] = hot_labels[7,:]\n",
        "    output[np.where(labels == 8),:] = hot_labels[8,:]\n",
        "    output[np.where(labels == 9),:] = hot_labels[9,:]\n",
        "\n",
        "    return output"
      ]
    },
    {
      "cell_type": "code",
      "execution_count": 16,
      "id": "6f68657c",
      "metadata": {
        "id": "6f68657c"
      },
      "outputs": [],
      "source": [
        "def loss_function(output_layer,labels):\n",
        "    difference = labels-output_layer\n",
        "    output = 0.5*(torch.sum(difference**2))\n",
        "    return output"
      ]
    },
    {
      "cell_type": "code",
      "execution_count": 17,
      "id": "70945f45",
      "metadata": {
        "id": "70945f45"
      },
      "outputs": [],
      "source": [
        "def tanh_Relu_deriv(x):\n",
        "    non_negs = torch.where(x > 0)\n",
        "    output = torch.zeros(x.shape, device=dev)\n",
        "    output[non_negs] = 1-torch.tanh(x[non_negs])**2\n",
        "    return output"
      ]
    },
    {
      "cell_type": "code",
      "execution_count": 18,
      "id": "bcfb3636",
      "metadata": {
        "id": "bcfb3636"
      },
      "outputs": [],
      "source": [
        "def binarize_output(output,n,categories_nhot):\n",
        "  \n",
        "    binarized = torch.zeros((output.shape[0],output.shape[1]), device=dev)\n",
        "    current_data_scores = torch.matmul(output,categories_nhot.T)\n",
        "    _, closest_label = torch.max(current_data_scores,dim=1)\n",
        "    binarized = categories_nhot[closest_label,:]\n",
        "    \n",
        "    return binarized"
      ]
    },
    {
      "cell_type": "code",
      "execution_count": 19,
      "id": "99dd450d",
      "metadata": {
        "id": "99dd450d"
      },
      "outputs": [],
      "source": [
        "def accuracy_cal(output,label):\n",
        "    acc = 0\n",
        "    \n",
        "    compare = output.shape[1]*torch.ones((output.shape[0]), device=dev)\n",
        "    acc = torch.sum(torch.eq(torch.sum(torch.eq(output,label),dim=1),compare))\n",
        "  \n",
        "    acc = acc/len(output)*100 # in percentage\n",
        "    return acc"
      ]
    },
    {
      "cell_type": "code",
      "execution_count": 32,
      "id": "44efa5e0",
      "metadata": {
        "id": "44efa5e0"
      },
      "outputs": [],
      "source": [
        "def alignment_term_cal(iter_needed,batch_num,layer_num,LR,B1,B2,B3,B4,delta5_inTime,delta4_inTime,delta3_inTime,\\\n",
        "                      delta2_inTime,delta1_inTime,input_layer,hidden_layer1_inTime,hidden_layer2_inTime,\\\n",
        "                      hidden_layer3_inTime,hidden_layer4_inTime):\n",
        "\n",
        "    alignment_terms = [];\n",
        "    \n",
        "    \n",
        "    # cal alignment terms\n",
        "    for i in range(1,iter_needed): # iteration\n",
        "        print(i)\n",
        "        o = 0\n",
        "        torch.cuda.empty_cache()\n",
        "        alignment_terms_k = torch.zeros((i,layer_num,output_layer_size,output_layer_size), device=dev)\n",
        "        while (o < i):\n",
        "            # l1\n",
        "            alignment_terms_k[o,0,:,:] = (LR**2)*torch.chain_matmul(B1.T,delta2_inTime[i-o-1,:,:].T,\\\n",
        "                                                                    input_layer[np.mod(i-o-1,batch_num),:,:],input_layer[np.mod(i,batch_num),:,:].T,\\\n",
        "                                                                    delta2_inTime[i,:,:])\n",
        "            # l2\n",
        "            alignment_terms_k[o,1,:,:] = (LR**2)*torch.chain_matmul(B2.T,delta3_inTime[i-o-1,:,:].T,\\\n",
        "                                                                    hidden_layer1_inTime[i,:,:],hidden_layer1_inTime[i,:,:].T,\\\n",
        "                                                                    delta3_inTime[i,:,:])\n",
        "            # l3\n",
        "            alignment_terms_k[o,2,:,:] = (LR**2)*torch.chain_matmul(B3.T,delta4_inTime[i-o-1,:,:].T,\\\n",
        "                                                                    hidden_layer2_inTime[i,:,:],hidden_layer2_inTime[i,:,:].T,\\\n",
        "                                                                    delta4_inTime[i,:,:])\n",
        "            # l4\n",
        "            alignment_terms_k[o,3,:,:] = (LR**2)*torch.chain_matmul(B4.T,delta5_inTime[i-o-1,:,:].T,\\\n",
        "                                                              hidden_layer3_inTime[i,:,:],hidden_layer3_inTime[i,:,:].T,\\\n",
        "                                                              delta4_inTime[i,:,:])\n",
        "            \n",
        "            o += 1\n",
        "        \n",
        "        alignment_terms.append(alignment_terms_k)\n",
        "        \n",
        "    return alignment_terms"
      ]
    },
    {
      "cell_type": "code",
      "execution_count": 21,
      "id": "629c2754",
      "metadata": {
        "id": "629c2754",
        "outputId": "0232e006-16da-4b3b-eea7-8e93c659b855",
        "colab": {
          "base_uri": "https://localhost:8080/"
        }
      },
      "outputs": [
        {
          "output_type": "stream",
          "name": "stdout",
          "text": [
            "data loaded!\n",
            "torch.Size([60000, 28, 28]) torch.Size([60000]) torch.Size([10000, 28, 28]) torch.Size([10000])\n"
          ]
        }
      ],
      "source": [
        "# Load MNIST Dataset\n",
        "import tensorflow as tf\n",
        "from tensorflow import keras\n",
        "from tensorflow.keras.datasets import mnist\n",
        "\n",
        "# loading the dataset\n",
        "(x_train, y_train), (x_test, y_test) = mnist.load_data()\n",
        "\n",
        "# convert images to pytorch tensors\n",
        "x_train = torch.from_numpy(x_train)\n",
        "y_train = torch.from_numpy(y_train)\n",
        "x_test = torch.from_numpy(x_test)\n",
        "y_test = torch.from_numpy(y_test)\n",
        "\n",
        "print('data loaded!')\n",
        "print(x_train.shape, y_train.shape, x_test.shape, y_test.shape)\n"
      ]
    },
    {
      "cell_type": "code",
      "execution_count": 22,
      "id": "a1129667",
      "metadata": {
        "id": "a1129667",
        "outputId": "d7e693e8-35cc-49fa-d937-8732b4b94309",
        "colab": {
          "base_uri": "https://localhost:8080/"
        }
      },
      "outputs": [
        {
          "output_type": "stream",
          "name": "stdout",
          "text": [
            "resizing done!\n",
            "torch.Size([60000, 15, 15]) torch.Size([10000, 15, 15])\n"
          ]
        }
      ],
      "source": [
        "# resize images to 15*15\n",
        "from torchvision import transforms as trans\n",
        "import torchvision.transforms.functional as Func\n",
        "\n",
        "x_train_resized = torch.zeros((x_train.shape[0],15,15))\n",
        "x_test_resized = torch.zeros((x_test.shape[0],15,15))\n",
        "resize_trans = trans.Resize(15)\n",
        "\n",
        "# resize train images\n",
        "for i in range (x_train.shape[0]):\n",
        "    image = x_train[i,:,:].unsqueeze(0)\n",
        "    x_train_resized[i,:,:] = resize_trans(image)\n",
        "\n",
        "    \n",
        "# resize test images\n",
        "for i in range (x_test.shape[0]):\n",
        "    image = x_test[i,:,:].unsqueeze(0)\n",
        "    x_test_resized[i,:,:] = resize_trans(image)\n",
        "    \n",
        "print('resizing done!')\n",
        "print(x_train_resized.shape,x_test_resized.shape)\n"
      ]
    },
    {
      "cell_type": "code",
      "execution_count": 23,
      "id": "118854c9",
      "metadata": {
        "id": "118854c9",
        "outputId": "7ba62755-fd22-41ea-a49d-04ebd2dfa326",
        "colab": {
          "base_uri": "https://localhost:8080/"
        }
      },
      "outputs": [
        {
          "output_type": "stream",
          "name": "stdout",
          "text": [
            "vectorization done!\n",
            "torch.Size([60000, 225]) torch.Size([10000, 225])\n"
          ]
        }
      ],
      "source": [
        "# convert images and labels to pytorch tensors & vectorize them\n",
        "\n",
        "x_train_flat = x_train_resized.reshape(x_train_resized.shape[0],-1)\n",
        "x_test_flat = x_test_resized.reshape(x_test_resized.shape[0],-1)\n",
        "\n",
        "x_train_flat = x_train_flat.to(dev)\n",
        "x_test_flat = x_test_flat.to(dev)\n",
        "y_train = y_train.to(dev)\n",
        "y_test = y_test.to(dev)\n",
        "\n",
        "print('vectorization done!')\n",
        "print(x_train_flat.shape,x_test_flat.shape)"
      ]
    },
    {
      "cell_type": "code",
      "execution_count": 24,
      "id": "7ae161e3",
      "metadata": {
        "id": "7ae161e3",
        "outputId": "6e423686-e6fa-496d-c5df-38802fc8cf42",
        "colab": {
          "base_uri": "https://localhost:8080/"
        }
      },
      "outputs": [
        {
          "output_type": "stream",
          "name": "stdout",
          "text": [
            "normalization done!\n"
          ]
        }
      ],
      "source": [
        "# normalize images\n",
        "\n",
        "x_tr_norm = x_train_flat/255\n",
        "x_te_norm  = x_test_flat/255\n",
        "\n",
        "\n",
        "print('normalization done!')"
      ]
    },
    {
      "cell_type": "code",
      "execution_count": 25,
      "id": "4ded9b90",
      "metadata": {
        "scrolled": false,
        "id": "4ded9b90",
        "outputId": "638720f0-5827-41ce-8e71-0f7637af8614",
        "colab": {
          "base_uri": "https://localhost:8080/"
        }
      },
      "outputs": [
        {
          "output_type": "stream",
          "name": "stdout",
          "text": [
            "n hot coding done!\n",
            "torch.Size([60000, 50]) torch.Size([10000, 50])\n"
          ]
        },
        {
          "output_type": "stream",
          "name": "stderr",
          "text": [
            "/usr/local/lib/python3.7/dist-packages/ipykernel_launcher.py:10: UserWarning: Creating a tensor from a list of numpy.ndarrays is extremely slow. Please consider converting the list to a single numpy.ndarray with numpy.array() before converting to a tensor. (Triggered internally at  ../torch/csrc/utils/tensor_new.cpp:210.)\n",
            "  # Remove the CWD from sys.path while we load stuff.\n"
          ]
        }
      ],
      "source": [
        "# n hot coding the labels\n",
        "category_num = 10\n",
        "output_neuron_num = 50\n",
        "n = int(output_neuron_num/category_num)\n",
        "\n",
        "# encoding the categroies\n",
        "categories_nhot = torch.zeros((category_num,output_neuron_num), device=dev)\n",
        "codes = torch.randperm(output_neuron_num, device=dev)\n",
        "\n",
        "for i in range(category_num):\n",
        "    categories_nhot[i,codes[i*n:(i+1)*n]] = 1 \n",
        "    \n",
        "y_train_nhot = n_hot_coder(y_train,n,categories_nhot,output_neuron_num)\n",
        "y_test_nhot = n_hot_coder(y_test,n,categories_nhot,output_neuron_num)\n",
        "\n",
        "print('n hot coding done!')\n",
        "print(y_train_nhot.shape, y_test_nhot.shape)\n"
      ]
    },
    {
      "cell_type": "code",
      "execution_count": 26,
      "id": "0e770007",
      "metadata": {
        "id": "0e770007",
        "outputId": "b580518f-7717-440b-adf2-9eb5d93e7577",
        "colab": {
          "base_uri": "https://localhost:8080/"
        }
      },
      "outputs": [
        {
          "output_type": "stream",
          "name": "stdout",
          "text": [
            "network parameters created!\n"
          ]
        }
      ],
      "source": [
        "# create the network weights and biases from N(0,0.1)\n",
        "mu = 0\n",
        "sigma = 0.1\n",
        "\n",
        "# each layer size\n",
        "input_layer_size = 225\n",
        "hidden_layer1_size = 50\n",
        "hidden_layer2_size = 50\n",
        "hidden_layer3_size = 50\n",
        "hidden_layer4_size = 50\n",
        "output_layer_size = 50\n",
        "\n",
        "# forward weights\n",
        "w0 = torch.normal(mu,sigma,size=(input_layer_size,hidden_layer1_size), device=dev)\n",
        "w1 = torch.normal(mu,sigma,size=(hidden_layer1_size,hidden_layer2_size), device=dev)\n",
        "w2 = torch.normal(mu,sigma,size=(hidden_layer2_size,hidden_layer3_size), device=dev)\n",
        "w3 = torch.normal(mu,sigma,size=(hidden_layer3_size,hidden_layer4_size), device=dev)\n",
        "w4 = torch.normal(mu,sigma,size=(hidden_layer4_size,output_layer_size), device=dev)\n",
        "\n",
        "# backward weights\n",
        "B4 = torch.normal(mu,sigma,size=(output_layer_size,hidden_layer4_size), device=dev)\n",
        "B3 = torch.normal(mu,sigma,size=(hidden_layer4_size,hidden_layer3_size), device=dev)\n",
        "B2 = torch.normal(mu,sigma,size=(hidden_layer3_size,hidden_layer2_size), device=dev)\n",
        "B1 = torch.normal(mu,sigma,size=(hidden_layer2_size,hidden_layer1_size), device=dev)\n",
        "\n",
        "# bias vectors\n",
        "b1 =  torch.normal(mu,sigma,size=(1,hidden_layer1_size), device=dev)\n",
        "b2 =  torch.normal(mu,sigma,size=(1,hidden_layer2_size), device=dev)\n",
        "b3 =  torch.normal(mu,sigma,size=(1,hidden_layer3_size), device=dev)\n",
        "b4 =  torch.normal(mu,sigma,size=(1,hidden_layer4_size), device=dev)\n",
        "b5 =  torch.normal(mu,sigma,size=(1,output_layer_size), device=dev)\n",
        "\n",
        "print('network parameters created!')"
      ]
    },
    {
      "cell_type": "code",
      "execution_count": 27,
      "id": "dabbc013",
      "metadata": {
        "scrolled": true,
        "id": "dabbc013",
        "outputId": "f3cdde2b-8f58-498f-aebe-12f428cd028e",
        "colab": {
          "base_uri": "https://localhost:8080/"
        }
      },
      "outputs": [
        {
          "output_type": "stream",
          "name": "stdout",
          "text": [
            "tensor(17.7650, device='cuda:0') tensor(2290.8796, device='cuda:0')\n",
            "tensor(43.7967, device='cuda:0') tensor(1985.9105, device='cuda:0')\n",
            "tensor(60.8183, device='cuda:0') tensor(1690.2970, device='cuda:0')\n",
            "tensor(67.8567, device='cuda:0') tensor(1512.5431, device='cuda:0')\n",
            "tensor(72.0617, device='cuda:0') tensor(1401.3689, device='cuda:0')\n",
            "tensor(75.4117, device='cuda:0') tensor(1323.0487, device='cuda:0')\n",
            "tensor(78.2017, device='cuda:0') tensor(1260.2401, device='cuda:0')\n",
            "tensor(80.1367, device='cuda:0') tensor(1210.0767, device='cuda:0')\n",
            "tensor(81.6017, device='cuda:0') tensor(1171.0992, device='cuda:0')\n",
            "tensor(82.6583, device='cuda:0') tensor(1139.8337, device='cuda:0')\n",
            "tensor(83.5000, device='cuda:0') tensor(1114.1353, device='cuda:0')\n",
            "tensor(84.1383, device='cuda:0') tensor(1092.7153, device='cuda:0')\n",
            "tensor(84.7117, device='cuda:0') tensor(1074.3866, device='cuda:0')\n",
            "tensor(85.1967, device='cuda:0') tensor(1058.8491, device='cuda:0')\n",
            "tensor(85.5717, device='cuda:0') tensor(1045.5209, device='cuda:0')\n",
            "tensor(85.9217, device='cuda:0') tensor(1033.8948, device='cuda:0')\n",
            "tensor(86.2117, device='cuda:0') tensor(1023.5507, device='cuda:0')\n",
            "tensor(86.5150, device='cuda:0') tensor(1014.2525, device='cuda:0')\n",
            "tensor(86.7400, device='cuda:0') tensor(1005.8807, device='cuda:0')\n",
            "tensor(86.9767, device='cuda:0') tensor(998.2123, device='cuda:0')\n",
            "tensor(87.2200, device='cuda:0') tensor(991.2977, device='cuda:0')\n",
            "tensor(87.4117, device='cuda:0') tensor(984.9391, device='cuda:0')\n",
            "tensor(87.5917, device='cuda:0') tensor(979.0496, device='cuda:0')\n",
            "tensor(87.7817, device='cuda:0') tensor(973.5982, device='cuda:0')\n",
            "tensor(87.9833, device='cuda:0') tensor(968.4963, device='cuda:0')\n",
            "tensor(88.1100, device='cuda:0') tensor(963.6534, device='cuda:0')\n",
            "tensor(88.2233, device='cuda:0') tensor(959.0394, device='cuda:0')\n",
            "tensor(88.3600, device='cuda:0') tensor(954.6478, device='cuda:0')\n",
            "tensor(88.4983, device='cuda:0') tensor(950.4724, device='cuda:0')\n",
            "tensor(88.5867, device='cuda:0') tensor(946.5028, device='cuda:0')\n",
            "tensor(88.7033, device='cuda:0') tensor(942.6981, device='cuda:0')\n",
            "tensor(88.8117, device='cuda:0') tensor(939.0452, device='cuda:0')\n",
            "tensor(88.9417, device='cuda:0') tensor(935.6503, device='cuda:0')\n",
            "tensor(89.0650, device='cuda:0') tensor(932.5362, device='cuda:0')\n",
            "tensor(89.1383, device='cuda:0') tensor(929.6559, device='cuda:0')\n",
            "tensor(89.2267, device='cuda:0') tensor(926.8522, device='cuda:0')\n",
            "tensor(89.2950, device='cuda:0') tensor(924.1582, device='cuda:0')\n",
            "tensor(89.4050, device='cuda:0') tensor(921.4760, device='cuda:0')\n",
            "tensor(89.4783, device='cuda:0') tensor(918.7921, device='cuda:0')\n",
            "tensor(89.5583, device='cuda:0') tensor(916.1508, device='cuda:0')\n",
            "tensor(89.6467, device='cuda:0') tensor(913.5208, device='cuda:0')\n",
            "tensor(89.7317, device='cuda:0') tensor(910.9559, device='cuda:0')\n",
            "tensor(89.8117, device='cuda:0') tensor(908.4329, device='cuda:0')\n",
            "tensor(89.8717, device='cuda:0') tensor(906.0402, device='cuda:0')\n",
            "tensor(89.9683, device='cuda:0') tensor(903.7230, device='cuda:0')\n",
            "tensor(90.0550, device='cuda:0') tensor(901.4471, device='cuda:0')\n",
            "tensor(90.1067, device='cuda:0') tensor(899.1949, device='cuda:0')\n",
            "tensor(90.1684, device='cuda:0') tensor(896.9651, device='cuda:0')\n",
            "tensor(90.2567, device='cuda:0') tensor(894.8549, device='cuda:0')\n",
            "tensor(90.3450, device='cuda:0') tensor(892.8276, device='cuda:0')\n",
            "tensor(90.4000, device='cuda:0') tensor(890.8590, device='cuda:0')\n",
            "tensor(90.4517, device='cuda:0') tensor(888.9293, device='cuda:0')\n",
            "tensor(90.5217, device='cuda:0') tensor(887.0449, device='cuda:0')\n",
            "tensor(90.5917, device='cuda:0') tensor(885.2426, device='cuda:0')\n",
            "tensor(90.6650, device='cuda:0') tensor(883.4834, device='cuda:0')\n",
            "tensor(90.7317, device='cuda:0') tensor(881.7520, device='cuda:0')\n",
            "tensor(90.7733, device='cuda:0') tensor(880.0706, device='cuda:0')\n",
            "tensor(90.8183, device='cuda:0') tensor(878.4414, device='cuda:0')\n",
            "tensor(90.8667, device='cuda:0') tensor(876.8687, device='cuda:0')\n",
            "tensor(90.9300, device='cuda:0') tensor(875.3572, device='cuda:0')\n",
            "tensor(90.9933, device='cuda:0') tensor(873.8683, device='cuda:0')\n",
            "tensor(91.0467, device='cuda:0') tensor(872.4135, device='cuda:0')\n",
            "tensor(91.0833, device='cuda:0') tensor(856.2810, device='cuda:0')\n",
            "tensor(91.1117, device='cuda:0') tensor(843.1292, device='cuda:0')\n",
            "tensor(91.1350, device='cuda:0') tensor(839.8581, device='cuda:0')\n",
            "tensor(91.1867, device='cuda:0') tensor(837.3352, device='cuda:0')\n",
            "tensor(91.2283, device='cuda:0') tensor(835.0781, device='cuda:0')\n",
            "tensor(91.2750, device='cuda:0') tensor(832.9836, device='cuda:0')\n",
            "tensor(91.3183, device='cuda:0') tensor(831.0455, device='cuda:0')\n",
            "tensor(91.3350, device='cuda:0') tensor(829.2443, device='cuda:0')\n",
            "tensor(91.4000, device='cuda:0') tensor(827.5956, device='cuda:0')\n",
            "tensor(91.4217, device='cuda:0') tensor(826.0375, device='cuda:0')\n",
            "tensor(91.4600, device='cuda:0') tensor(824.5171, device='cuda:0')\n",
            "tensor(91.4933, device='cuda:0') tensor(823.0657, device='cuda:0')\n",
            "tensor(91.5434, device='cuda:0') tensor(821.6373, device='cuda:0')\n",
            "tensor(91.5867, device='cuda:0') tensor(820.2621, device='cuda:0')\n",
            "tensor(91.6100, device='cuda:0') tensor(818.9548, device='cuda:0')\n",
            "tensor(91.6700, device='cuda:0') tensor(817.6916, device='cuda:0')\n",
            "tensor(91.6917, device='cuda:0') tensor(816.4331, device='cuda:0')\n",
            "tensor(91.7400, device='cuda:0') tensor(815.2151, device='cuda:0')\n",
            "tensor(91.7800, device='cuda:0') tensor(814.0114, device='cuda:0')\n",
            "tensor(91.8117, device='cuda:0') tensor(812.8447, device='cuda:0')\n",
            "tensor(91.8550, device='cuda:0') tensor(811.7202, device='cuda:0')\n",
            "tensor(91.8817, device='cuda:0') tensor(810.6104, device='cuda:0')\n",
            "tensor(91.9167, device='cuda:0') tensor(809.5351, device='cuda:0')\n",
            "tensor(91.9517, device='cuda:0') tensor(808.4649, device='cuda:0')\n",
            "tensor(91.9800, device='cuda:0') tensor(807.4144, device='cuda:0')\n",
            "tensor(92.0083, device='cuda:0') tensor(806.4069, device='cuda:0')\n",
            "tensor(92.0467, device='cuda:0') tensor(805.4016, device='cuda:0')\n",
            "tensor(92.0700, device='cuda:0') tensor(804.4484, device='cuda:0')\n",
            "tensor(92.0983, device='cuda:0') tensor(803.5227, device='cuda:0')\n",
            "tensor(92.1367, device='cuda:0') tensor(802.5696, device='cuda:0')\n",
            "tensor(92.1450, device='cuda:0') tensor(801.6035, device='cuda:0')\n",
            "tensor(92.1667, device='cuda:0') tensor(800.6592, device='cuda:0')\n",
            "tensor(92.2017, device='cuda:0') tensor(799.7618, device='cuda:0')\n",
            "tensor(92.2283, device='cuda:0') tensor(798.8896, device='cuda:0')\n",
            "tensor(92.2600, device='cuda:0') tensor(798.0439, device='cuda:0')\n",
            "tensor(92.2950, device='cuda:0') tensor(797.2145, device='cuda:0')\n",
            "tensor(92.3283, device='cuda:0') tensor(796.3658, device='cuda:0')\n",
            "tensor(92.3483, device='cuda:0') tensor(795.5378, device='cuda:0')\n",
            "network training done!\n"
          ]
        }
      ],
      "source": [
        "import pandas as pd\n",
        "\n",
        "# run the network - run prev part to initialize the paramters each time\n",
        "\n",
        "LR = 0.0005\n",
        "batch_size = 1000\n",
        "batch_num = 60\n",
        "layer_num = 4\n",
        "im_size = 15*15\n",
        "input_layer = x_tr_norm.reshape((batch_num,batch_size,im_size))\n",
        "epoch_num = 100\n",
        "accuracy_training = torch.zeros((batch_num,epoch_num), device=dev)\n",
        "loss_training = torch.zeros((batch_num,epoch_num), device=dev)\n",
        "\n",
        "# angle between B & W\n",
        "alignment = torch.zeros((4,batch_num,epoch_num), device=dev)\n",
        "\n",
        "\n",
        "# layer and delta values in iterations for calculating alignment terms\n",
        "iter_needed = 1260\n",
        "hidden_layer1_inTime = torch.zeros((iter_needed,batch_size,hidden_layer1_size), device=dev)\n",
        "hidden_layer2_inTime = torch.zeros((iter_needed,batch_size,hidden_layer2_size), device=dev)\n",
        "hidden_layer3_inTime = torch.zeros((iter_needed,batch_size,hidden_layer3_size), device=dev)\n",
        "hidden_layer4_inTime = torch.zeros((iter_needed,batch_size,hidden_layer4_size), device=dev)\n",
        "output_layer_inTime = torch.zeros((iter_needed,batch_size,output_layer_size), device=dev)\n",
        "delta5_inTime = torch.zeros((iter_needed,batch_size,output_layer_size), device=dev)\n",
        "delta4_inTime = torch.zeros((iter_needed,batch_size,hidden_layer4_size), device=dev)\n",
        "delta3_inTime = torch.zeros((iter_needed,batch_size,hidden_layer3_size), device=dev)\n",
        "delta2_inTime = torch.zeros((iter_needed,batch_size,hidden_layer2_size), device=dev)\n",
        "delta1_inTime = torch.zeros((iter_needed,batch_size,hidden_layer1_size), device=dev)\n",
        "\n",
        "\n",
        "\n",
        "\n",
        "for j in range(epoch_num):\n",
        "    for i in range(batch_num):\n",
        "        # forward\n",
        "        z1 = torch.matmul(input_layer[i,:,:],w0) + b1\n",
        "        hidden_layer1 = torch.tanh(ReLU(z1))\n",
        "        z2 = torch.matmul(hidden_layer1,w1) + b2\n",
        "        hidden_layer2 = torch.tanh(ReLU(z2))\n",
        "        z3 = torch.matmul(hidden_layer2,w2) + b3\n",
        "        hidden_layer3 = torch.tanh(ReLU(z3))\n",
        "        z4 = torch.matmul(hidden_layer3,w3) + b4\n",
        "        hidden_layer4 = torch.tanh(ReLU(z4))\n",
        "        z5 = torch.matmul(hidden_layer4,w4) + b5\n",
        "        output_layer = torch.tanh(ReLU(z5))\n",
        "        \n",
        "        # backward the error\n",
        "        E = y_train_nhot[i*batch_size:(i+1)*batch_size,:]-output_layer\n",
        "        delta5 = torch.multiply(E,tanh_Relu_deriv(z5))\n",
        "        delta4 = torch.multiply(torch.matmul(delta5,B4),tanh_Relu_deriv(z4))\n",
        "        delta3 = torch.multiply(torch.matmul(delta4,B3),tanh_Relu_deriv(z3))\n",
        "        delta2 = torch.multiply(torch.matmul(delta3,B2),tanh_Relu_deriv(z2))\n",
        "        delta1 = torch.multiply(torch.matmul(delta2,B1),tanh_Relu_deriv(z1))\n",
        "        \n",
        "        # save values in time for calculating alignment terms - just up to iteration 1260\n",
        "        if(j*batch_num+i < 1260):\n",
        "            hidden_layer1_inTime[j*batch_num+i,:,:] = hidden_layer1\n",
        "            hidden_layer2_inTime[j*batch_num+i,:,:] = hidden_layer2\n",
        "            hidden_layer3_inTime[j*batch_num+i,:,:] = hidden_layer3\n",
        "            hidden_layer4_inTime[j*batch_num+i,:,:] = hidden_layer4\n",
        "            output_layer_inTime[j*batch_num+i,:,:] = output_layer\n",
        "            delta5_inTime[j*batch_num+i,:,:] = delta5\n",
        "            delta4_inTime[j*batch_num+i,:,:] = delta4\n",
        "            delta3_inTime[j*batch_num+i,:,:] = delta3\n",
        "            delta2_inTime[j*batch_num+i,:,:] = delta2\n",
        "            delta1_inTime[j*batch_num+i,:,:] = delta1\n",
        "            \n",
        "        \n",
        "        # update forward weights \n",
        "        w4 += LR*torch.matmul(hidden_layer4.T,delta5)\n",
        "        w3 += LR*torch.matmul(hidden_layer3.T,delta4)\n",
        "        w2 += LR*torch.matmul(hidden_layer2.T,delta3)\n",
        "        w1 += LR*torch.matmul(hidden_layer1.T,delta2)\n",
        "        w0 += LR*torch.matmul(input_layer[i,:,:].T,delta1)\n",
        "        \n",
        "        # update biases\n",
        "        J = torch.ones((1,batch_size), device=dev)\n",
        "        b5 += torch.squeeze(LR*torch.matmul(J,delta5))\n",
        "        b4 += torch.squeeze(LR*torch.matmul(J,delta4))\n",
        "        b3 += torch.squeeze(LR*torch.matmul(J,delta3))\n",
        "        b2 += torch.squeeze(LR*torch.matmul(J,delta2))\n",
        "        b1 += torch.squeeze(LR*torch.matmul(J,delta1))\n",
        "        \n",
        "        # binarize output\n",
        "        n = 5 # n hot\n",
        "        output_layer_binarized = binarize_output(output_layer,n,categories_nhot)\n",
        "\n",
        "        # loss values\n",
        "        loss_training[i,j] = loss_function(output_layer,y_train_nhot[i*batch_size:(i+1)*batch_size,:])\n",
        "        accuracy_training[i,j] = accuracy_cal(output_layer_binarized,y_train_nhot[i*batch_size:(i+1)*batch_size,:]);\n",
        "        \n",
        "        # cal the angle between B & W\n",
        "        alignment[0,i,j] = angleCal(w1,B1.T)\n",
        "        alignment[1,i,j] = angleCal(w2,B2.T) \n",
        "        alignment[2,i,j] = angleCal(w3,B3.T) \n",
        "        alignment[3,i,j] = angleCal(w4,B4.T) \n",
        "    \n",
        "    print(torch.mean(accuracy_training[:,j]),torch.mean(loss_training[:,j]))\n",
        "\n",
        "print('network training done!')"
      ]
    },
    {
      "cell_type": "code",
      "execution_count": 28,
      "id": "1bff9563",
      "metadata": {
        "scrolled": false,
        "id": "1bff9563",
        "outputId": "cb496ccb-a573-44dc-d46f-d4e8fa8d7299",
        "colab": {
          "base_uri": "https://localhost:8080/",
          "height": 350
        }
      },
      "outputs": [
        {
          "output_type": "display_data",
          "data": {
            "text/plain": [
              "<Figure size 720x360 with 2 Axes>"
            ],
            "image/png": "[encoded data removed]"
          },
          "metadata": {
            "needs_background": "light"
          }
        }
      ],
      "source": [
        "fig, ax = plt.subplots(1,2,figsize=(10,5))\n",
        "ax[0].plot(np.arange(1,epoch_num+1),np.mean(accuracy_training.cpu().numpy(),axis=0))\n",
        "ax[1].plot(np.arange(1,epoch_num+1),np.mean(accuracy_training.cpu().numpy(),axis=0))\n",
        "ax[0].set_title('training accuarcy')\n",
        "ax[0].set_xlabel('iteration')\n",
        "ax[1].set_title('training loss function value')\n",
        "ax[1].set_xlabel('iteration')\n",
        "ax[0].grid(True)\n",
        "ax[1].grid(True)"
      ]
    },
    {
      "cell_type": "code",
      "execution_count": 29,
      "id": "88334f80",
      "metadata": {
        "id": "88334f80",
        "outputId": "63cfad04-1c10-4b57-a68e-1b7cbdd575a1",
        "colab": {
          "base_uri": "https://localhost:8080/"
        }
      },
      "outputs": [
        {
          "output_type": "stream",
          "name": "stdout",
          "text": [
            "accuracy:  tensor(92.0400, device='cuda:0')  | loss value:  tensor(0.3980, device='cuda:0')\n",
            "done!\n"
          ]
        }
      ],
      "source": [
        "import pandas as pd\n",
        "\n",
        "# accuracy on test data\n",
        "\n",
        "batch_size = 1\n",
        "batch_num = int(x_te_norm.shape[0]/batch_size)\n",
        "im_size = 15*15\n",
        "input_layer = x_te_norm.reshape((batch_num,batch_size,im_size))\n",
        "accuracy_training = torch.zeros((batch_num), device=dev)\n",
        "loss_training = torch.zeros((batch_num), device=dev)\n",
        "\n",
        "for i in range(batch_num):\n",
        "    # forward\n",
        "    z1 = torch.matmul(input_layer[i,:,:],w0) + b1\n",
        "    hidden_layer1 = torch.tanh(ReLU(z1))\n",
        "    z2 = torch.matmul(hidden_layer1,w1) + b2\n",
        "    hidden_layer2 = torch.tanh(ReLU(z2))\n",
        "    z3 = torch.matmul(hidden_layer2,w2) + b3\n",
        "    hidden_layer3 = torch.tanh(ReLU(z3))\n",
        "    z4 = torch.matmul(hidden_layer3,w3) + b4\n",
        "    hidden_layer4 = torch.tanh(ReLU(z4))\n",
        "    z5 = torch.matmul(hidden_layer4,w4) + b5\n",
        "    output_layer = torch.tanh(ReLU(z5))\n",
        "\n",
        "    # binarize output\n",
        "    n = 5\n",
        "    output_layer_binarized = binarize_output(output_layer,n,categories_nhot)\n",
        "    \n",
        "    # loss val and accuracy\n",
        "    loss_training[i] = loss_function(output_layer_binarized,y_test_nhot[i*batch_size:(i+1)*batch_size,:])\n",
        "    accuracy_training[i] = accuracy_cal(output_layer_binarized,y_test_nhot[i*batch_size:(i+1)*batch_size,:]);\n",
        "\n",
        "print('accuracy: ',torch.mean(accuracy_training),' | loss value: ', torch.mean(loss_training))\n",
        "print('done!')"
      ]
    },
    {
      "cell_type": "code",
      "execution_count": 30,
      "id": "4d842ba9",
      "metadata": {
        "scrolled": true,
        "id": "4d842ba9",
        "outputId": "1bb54239-e629-47ab-d873-8df4b4883a6b",
        "colab": {
          "base_uri": "https://localhost:8080/",
          "height": 334
        }
      },
      "outputs": [
        {
          "output_type": "display_data",
          "data": {
            "text/plain": [
              "<Figure size 360x360 with 1 Axes>"
            ],
            "image/png": "[encoded data removed]"
          },
          "metadata": {
            "needs_background": "light"
          }
        }
      ],
      "source": [
        "# angle between backward weights and forward weights\n",
        "fig, ax = plt.subplots(1,1,figsize=(5,5))\n",
        "\n",
        "ax.plot(np.arange(1,epoch_num+1),np.mean(alignment[0,:,:].cpu().numpy(),axis=0))\n",
        "ax.plot(np.arange(1,epoch_num+1),np.mean(alignment[1,:,:].cpu().numpy(),axis=0))\n",
        "ax.plot(np.arange(1,epoch_num+1),np.mean(alignment[2,:,:].cpu().numpy(),axis=0))\n",
        "ax.plot(np.arange(1,epoch_num+1),np.mean(alignment[3,:,:].cpu().numpy(),axis=0))\n",
        "\n",
        "\n",
        "ax.set_ylabel('angle')\n",
        "ax.set_xlabel('iteration')\n",
        "ax.legend(['w1 & B1.T','w2 & B2.T','w3 & B3.T','w4 & B4.T'],loc='best')\n",
        "ax.grid(True)"
      ]
    },
    {
      "cell_type": "code",
      "execution_count": 35,
      "id": "249ab10d",
      "metadata": {
        "id": "249ab10d",
        "outputId": "2b52061b-a8b7-43f2-c683-6221c8c09134",
        "colab": {
          "base_uri": "https://localhost:8080/",
          "height": 1000
        }
      },
      "outputs": [
        {
          "output_type": "stream",
          "name": "stdout",
          "text": [
            "1\n",
            "2\n",
            "3\n",
            "4\n",
            "5\n",
            "6\n",
            "7\n",
            "8\n",
            "9\n",
            "10\n",
            "11\n",
            "12\n",
            "13\n",
            "14\n",
            "15\n",
            "16\n",
            "17\n",
            "18\n",
            "19\n",
            "20\n",
            "21\n",
            "22\n",
            "23\n",
            "24\n",
            "25\n",
            "26\n",
            "27\n",
            "28\n",
            "29\n",
            "30\n",
            "31\n",
            "32\n",
            "33\n",
            "34\n",
            "35\n",
            "36\n",
            "37\n",
            "38\n",
            "39\n",
            "40\n",
            "41\n",
            "42\n",
            "43\n",
            "44\n",
            "45\n",
            "46\n",
            "47\n",
            "48\n",
            "49\n",
            "50\n",
            "51\n",
            "52\n",
            "53\n",
            "54\n",
            "55\n",
            "56\n",
            "57\n",
            "58\n",
            "59\n",
            "60\n",
            "61\n",
            "62\n",
            "63\n",
            "64\n",
            "65\n",
            "66\n",
            "67\n",
            "68\n",
            "69\n",
            "70\n",
            "71\n",
            "72\n",
            "73\n",
            "74\n",
            "75\n",
            "76\n",
            "77\n",
            "78\n",
            "79\n",
            "80\n",
            "81\n",
            "82\n",
            "83\n",
            "84\n",
            "85\n",
            "86\n",
            "87\n",
            "88\n",
            "89\n",
            "90\n",
            "91\n",
            "92\n",
            "93\n",
            "94\n",
            "95\n",
            "96\n",
            "97\n",
            "98\n",
            "99\n",
            "100\n",
            "101\n",
            "102\n",
            "103\n",
            "104\n",
            "105\n",
            "106\n"
          ]
        },
        {
          "output_type": "error",
          "ename": "RuntimeError",
          "evalue": "ignored",
          "traceback": [
            "\u001b[0;31m---------------------------------------------------------------------------\u001b[0m",
            "\u001b[0;31mRuntimeError\u001b[0m                              Traceback (most recent call last)",
            "\u001b[0;32m<ipython-input-35-1c6ac53b65fe>\u001b[0m in \u001b[0;36m<module>\u001b[0;34m()\u001b[0m\n\u001b[1;32m      8\u001b[0m \u001b[0miter_needed\u001b[0m \u001b[0;34m=\u001b[0m \u001b[0;36m631\u001b[0m\u001b[0;34m\u001b[0m\u001b[0;34m\u001b[0m\u001b[0m\n\u001b[1;32m      9\u001b[0m \u001b[0minput_layer\u001b[0m \u001b[0;34m=\u001b[0m \u001b[0mx_tr_norm\u001b[0m\u001b[0;34m.\u001b[0m\u001b[0mreshape\u001b[0m\u001b[0;34m(\u001b[0m\u001b[0;34m(\u001b[0m\u001b[0mbatch_num\u001b[0m\u001b[0;34m,\u001b[0m\u001b[0mbatch_size\u001b[0m\u001b[0;34m,\u001b[0m\u001b[0mim_size\u001b[0m\u001b[0;34m)\u001b[0m\u001b[0;34m)\u001b[0m\u001b[0;34m\u001b[0m\u001b[0;34m\u001b[0m\u001b[0m\n\u001b[0;32m---> 10\u001b[0;31m \u001b[0ma\u001b[0m \u001b[0;34m=\u001b[0m \u001b[0malignment_term_cal\u001b[0m\u001b[0;34m(\u001b[0m\u001b[0miter_needed\u001b[0m\u001b[0;34m,\u001b[0m\u001b[0mbatch_num\u001b[0m\u001b[0;34m,\u001b[0m\u001b[0mlayer_num\u001b[0m\u001b[0;34m,\u001b[0m\u001b[0mLR\u001b[0m\u001b[0;34m,\u001b[0m\u001b[0mB1\u001b[0m\u001b[0;34m,\u001b[0m\u001b[0mB2\u001b[0m\u001b[0;34m,\u001b[0m\u001b[0mB3\u001b[0m\u001b[0;34m,\u001b[0m\u001b[0mB4\u001b[0m\u001b[0;34m,\u001b[0m\u001b[0mdelta5_inTime\u001b[0m\u001b[0;34m,\u001b[0m\u001b[0mdelta4_inTime\u001b[0m\u001b[0;34m,\u001b[0m\u001b[0mdelta3_inTime\u001b[0m\u001b[0;34m,\u001b[0m                      \u001b[0mdelta2_inTime\u001b[0m\u001b[0;34m,\u001b[0m\u001b[0mdelta1_inTime\u001b[0m\u001b[0;34m,\u001b[0m\u001b[0minput_layer\u001b[0m\u001b[0;34m,\u001b[0m\u001b[0mhidden_layer1_inTime\u001b[0m\u001b[0;34m,\u001b[0m\u001b[0mhidden_layer2_inTime\u001b[0m\u001b[0;34m,\u001b[0m                      \u001b[0mhidden_layer3_inTime\u001b[0m\u001b[0;34m,\u001b[0m\u001b[0mhidden_layer4_inTime\u001b[0m\u001b[0;34m)\u001b[0m\u001b[0;34m\u001b[0m\u001b[0;34m\u001b[0m\u001b[0m\n\u001b[0m",
            "\u001b[0;32m<ipython-input-32-a2f133759d1b>\u001b[0m in \u001b[0;36malignment_term_cal\u001b[0;34m(iter_needed, batch_num, layer_num, LR, B1, B2, B3, B4, delta5_inTime, delta4_inTime, delta3_inTime, delta2_inTime, delta1_inTime, input_layer, hidden_layer1_inTime, hidden_layer2_inTime, hidden_layer3_inTime, hidden_layer4_inTime)\u001b[0m\n\u001b[1;32m      9\u001b[0m         \u001b[0mo\u001b[0m \u001b[0;34m=\u001b[0m \u001b[0;36m0\u001b[0m\u001b[0;34m\u001b[0m\u001b[0;34m\u001b[0m\u001b[0m\n\u001b[1;32m     10\u001b[0m         \u001b[0mtorch\u001b[0m\u001b[0;34m.\u001b[0m\u001b[0mcuda\u001b[0m\u001b[0;34m.\u001b[0m\u001b[0mempty_cache\u001b[0m\u001b[0;34m(\u001b[0m\u001b[0;34m)\u001b[0m\u001b[0;34m\u001b[0m\u001b[0;34m\u001b[0m\u001b[0m\n\u001b[0;32m---> 11\u001b[0;31m         \u001b[0malignment_terms_k\u001b[0m \u001b[0;34m=\u001b[0m \u001b[0mtorch\u001b[0m\u001b[0;34m.\u001b[0m\u001b[0mzeros\u001b[0m\u001b[0;34m(\u001b[0m\u001b[0;34m(\u001b[0m\u001b[0mi\u001b[0m\u001b[0;34m,\u001b[0m\u001b[0mlayer_num\u001b[0m\u001b[0;34m,\u001b[0m\u001b[0moutput_layer_size\u001b[0m\u001b[0;34m,\u001b[0m\u001b[0moutput_layer_size\u001b[0m\u001b[0;34m)\u001b[0m\u001b[0;34m,\u001b[0m \u001b[0mdevice\u001b[0m\u001b[0;34m=\u001b[0m\u001b[0mdev\u001b[0m\u001b[0;34m)\u001b[0m\u001b[0;34m\u001b[0m\u001b[0;34m\u001b[0m\u001b[0m\n\u001b[0m\u001b[1;32m     12\u001b[0m         \u001b[0;32mwhile\u001b[0m \u001b[0;34m(\u001b[0m\u001b[0mo\u001b[0m \u001b[0;34m<\u001b[0m \u001b[0mi\u001b[0m\u001b[0;34m)\u001b[0m\u001b[0;34m:\u001b[0m\u001b[0;34m\u001b[0m\u001b[0;34m\u001b[0m\u001b[0m\n\u001b[1;32m     13\u001b[0m             \u001b[0;31m# l1\u001b[0m\u001b[0;34m\u001b[0m\u001b[0;34m\u001b[0m\u001b[0;34m\u001b[0m\u001b[0m\n",
            "\u001b[0;31mRuntimeError\u001b[0m: CUDA out of memory. Tried to allocate 20.00 MiB (GPU 0; 14.76 GiB total capacity; 13.10 GiB already allocated; 7.75 MiB free; 13.52 GiB reserved in total by PyTorch) If reserved memory is >> allocated memory try setting max_split_size_mb to avoid fragmentation.  See documentation for Memory Management and PYTORCH_CUDA_ALLOC_CONF"
          ]
        }
      ],
      "source": [
        "# alignment terms calculation\n",
        "\n",
        "batch_size = 1000\n",
        "batch_num = 60\n",
        "layer_num = 4\n",
        "im_size = 15*15\n",
        "epoch_num = 100\n",
        "iter_needed = 631\n",
        "input_layer = x_tr_norm.reshape((batch_num,batch_size,im_size))\n",
        "a = alignment_term_cal(iter_needed,batch_num,layer_num,LR,B1,B2,B3,B4,delta5_inTime,delta4_inTime,delta3_inTime,\\\n",
        "                      delta2_inTime,delta1_inTime,input_layer,hidden_layer1_inTime,hidden_layer2_inTime,\\\n",
        "                      hidden_layer3_inTime,hidden_layer4_inTime)"
      ]
    },
    {
      "cell_type": "code",
      "execution_count": null,
      "id": "194306f8",
      "metadata": {
        "id": "194306f8"
      },
      "outputs": [],
      "source": [
        "# cal angles between alignment terms and backwart weights.T\n",
        "angles_alignment_terms = np.zeros((len(a),4))\n",
        "\n",
        "T_k = a[-1]\n",
        "for i in range(T_k.shape[0]):\n",
        "    T_o = np.squeeze(T_k[i,:,:,:])\n",
        "    angles_alignment_terms[i,0] = angleCal(T_o[0,:,:],B1.T)\n",
        "    angles_alignment_terms[i,1] = angleCal(T_o[1,:,:],B2.T)\n",
        "    angles_alignment_terms[i,2] = angleCal(T_o[2,:,:],B3.T)\n",
        "    angles_alignment_terms[i,3] = angleCal(T_o[3,:,:],B4.T)\n"
      ]
    },
    {
      "cell_type": "code",
      "execution_count": null,
      "id": "a40095ed",
      "metadata": {
        "id": "a40095ed",
        "outputId": "07b93d1f-5c54-4e5d-edac-31f385943bb6"
      },
      "outputs": [
        {
          "name": "stdout",
          "output_type": "stream",
          "text": [
            "(59, 4)\n"
          ]
        },
        {
          "data": {
            "text/plain": [
              "[<matplotlib.lines.Line2D at 0x15c5f555520>]"
            ]
          },
          "execution_count": 113,
          "metadata": {},
          "output_type": "execute_result"
        },
        {
          "data": {
            "image/png": "[encoded data removed]",
            "text/plain": [
              "<Figure size 1440x360 with 4 Axes>"
            ]
          },
          "metadata": {
            "needs_background": "light"
          },
          "output_type": "display_data"
        }
      ],
      "source": [
        "print(angles_alignment_terms.shape)\n",
        "fig, ax = plt.subplots(1,4,figsize=(20,5))\n",
        "\n",
        "ax[0].plot(np.arange(1,60),angles_alignment_terms[:,0])\n",
        "ax[1].plot(np.arange(1,60),angles_alignment_terms[:,1])\n",
        "ax[2].plot(np.arange(1,60),angles_alignment_terms[:,2])\n",
        "ax[3].plot(np.arange(1,60),angles_alignment_terms[:,3])\n",
        "\n"
      ]
    },
    {
      "cell_type": "code",
      "execution_count": null,
      "id": "60db7d73",
      "metadata": {
        "id": "60db7d73"
      },
      "outputs": [],
      "source": [
        ""
      ]
    }
  ],
  "metadata": {
    "kernelspec": {
      "display_name": "Python 3",
      "language": "python",
      "name": "python3"
    },
    "language_info": {
      "codemirror_mode": {
        "name": "ipython",
        "version": 3
      },
      "file_extension": ".py",
      "mimetype": "text/x-python",
      "name": "python",
      "nbconvert_exporter": "python",
      "pygments_lexer": "ipython3",
      "version": "3.8.8"
    },
    "colab": {
      "name": "Advance_neuro_project.ipynb",
      "provenance": [],
      "collapsed_sections": [],
      "include_colab_link": true
    },
    "gpuClass": "standard",
    "accelerator": "GPU"
  },
  "nbformat": 4,
  "nbformat_minor": 5
}